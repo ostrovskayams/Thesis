{
  "cells": [
    {
      "cell_type": "code",
      "execution_count": null,
      "metadata": {
        "jupyter": {
          "outputs_hidden": false
        },
        "id": "geBWuzwnoGxb"
      },
      "outputs": [],
      "source": [
        "import pandas as pd\n",
        "import random\n",
        "import numpy as np\n",
        "import time\n",
        "import torch\n",
        "from torch import nn\n",
        "from torch.optim import AdamW\n",
        "from sklearn.model_selection import train_test_split\n",
        "import torch.nn.functional as F\n",
        "from torch.utils.data import Dataset, DataLoader\n",
        "from transformers import  BertTokenizer, BertForSequenceClassification\n",
        "from sklearn.metrics import precision_score, recall_score, f1_score, accuracy_score\n",
        "\n",
        "from transformers import TrainingArguments\n",
        "from transformers import Trainer\n",
        "from torch.optim.lr_scheduler import CosineAnnealingLR\n",
        "\n",
        "import torchvision.models as models\n",
        "from transformers import EvalPrediction\n",
        "\n",
        "from tqdm.notebook import tqdm\n",
        "import warnings\n",
        "warnings.filterwarnings('ignore')"
      ]
    },
    {
      "cell_type": "code",
      "execution_count": null,
      "metadata": {
        "jupyter": {
          "outputs_hidden": false
        },
        "id": "55NFo1uQoGxc"
      },
      "outputs": [],
      "source": [
        "def set_random_seed(seed):\n",
        "    torch.backends.cudnn.deterministic = True\n",
        "    torch.manual_seed(seed)\n",
        "    torch.cuda.manual_seed(seed)\n",
        "    np.random.seed(seed)\n",
        "    random.seed(seed)"
      ]
    },
    {
      "cell_type": "code",
      "execution_count": null,
      "metadata": {
        "jupyter": {
          "outputs_hidden": false
        },
        "id": "5T-y1xgvoGxd"
      },
      "outputs": [],
      "source": [
        "df_train = pd.read_csv('train_30k.csv', delimiter='\\t')\n",
        "df_test = pd.read_csv('test.csv', delimiter='\\t')"
      ]
    },
    {
      "cell_type": "code",
      "execution_count": null,
      "metadata": {
        "jupyter": {
          "outputs_hidden": false
        },
        "id": "ArkIQUnyoGxd",
        "outputId": "96bbb344-f7af-4f6c-bb88-72c0f9b6a2af"
      },
      "outputs": [
        {
          "data": {
            "text/html": [
              "<div>\n",
              "<style scoped>\n",
              "    .dataframe tbody tr th:only-of-type {\n",
              "        vertical-align: middle;\n",
              "    }\n",
              "\n",
              "    .dataframe tbody tr th {\n",
              "        vertical-align: top;\n",
              "    }\n",
              "\n",
              "    .dataframe thead th {\n",
              "        text-align: right;\n",
              "    }\n",
              "</style>\n",
              "<table border=\"1\" class=\"dataframe\">\n",
              "  <thead>\n",
              "    <tr style=\"text-align: right;\">\n",
              "      <th></th>\n",
              "      <th>text</th>\n",
              "      <th>is_joke</th>\n",
              "      <th>clean_text</th>\n",
              "      <th>lemmas</th>\n",
              "    </tr>\n",
              "  </thead>\n",
              "  <tbody>\n",
              "    <tr>\n",
              "      <th>0</th>\n",
              "      <td>Да все давно пора с этими дорожниками... В оди...</td>\n",
              "      <td>0</td>\n",
              "      <td>да все давно пора с этими дорожниками в один к...</td>\n",
              "      <td>давно пора этот дорожник котёл сборная россия ...</td>\n",
              "    </tr>\n",
              "    <tr>\n",
              "      <th>1</th>\n",
              "      <td>-лада калина теперь с музыкальной стереосистем...</td>\n",
              "      <td>0</td>\n",
              "      <td>лада калина теперь с музыкальной стереосистемо...</td>\n",
              "      <td>лада калина музыкальный стереосистема помирать...</td>\n",
              "    </tr>\n",
              "    <tr>\n",
              "      <th>2</th>\n",
              "      <td>А вы разве программист? Вам до программиста, к...</td>\n",
              "      <td>0</td>\n",
              "      <td>а вы разве программист вам до программиста как...</td>\n",
              "      <td>программист программист луна рак учиться учиться</td>\n",
              "    </tr>\n",
              "    <tr>\n",
              "      <th>3</th>\n",
              "      <td>Отборочный матч чемпионата Европы-2012. Сборна...</td>\n",
              "      <td>0</td>\n",
              "      <td>отборочный матч чемпионата европы сборная росс...</td>\n",
              "      <td>отборочный матч чемпионат европа сборная росси...</td>\n",
              "    </tr>\n",
              "    <tr>\n",
              "      <th>4</th>\n",
              "      <td>В центре коррупционного скандала - ФГУП \"Сверд...</td>\n",
              "      <td>0</td>\n",
              "      <td>в центре коррупционного скандала фгуп свердлов...</td>\n",
              "      <td>центр коррупционный скандал фгуп свердловскавт...</td>\n",
              "    </tr>\n",
              "  </tbody>\n",
              "</table>\n",
              "</div>"
            ],
            "text/plain": [
              "                                                text  is_joke  \\\n",
              "0  Да все давно пора с этими дорожниками... В оди...        0   \n",
              "1  -лада калина теперь с музыкальной стереосистем...        0   \n",
              "2  А вы разве программист? Вам до программиста, к...        0   \n",
              "3  Отборочный матч чемпионата Европы-2012. Сборна...        0   \n",
              "4  В центре коррупционного скандала - ФГУП \"Сверд...        0   \n",
              "\n",
              "                                          clean_text  \\\n",
              "0  да все давно пора с этими дорожниками в один к...   \n",
              "1  лада калина теперь с музыкальной стереосистемо...   \n",
              "2  а вы разве программист вам до программиста как...   \n",
              "3  отборочный матч чемпионата европы сборная росс...   \n",
              "4  в центре коррупционного скандала фгуп свердлов...   \n",
              "\n",
              "                                              lemmas  \n",
              "0  давно пора этот дорожник котёл сборная россия ...  \n",
              "1  лада калина музыкальный стереосистема помирать...  \n",
              "2   программист программист луна рак учиться учиться  \n",
              "3  отборочный матч чемпионат европа сборная росси...  \n",
              "4  центр коррупционный скандал фгуп свердловскавт...  "
            ]
          },
          "execution_count": 4,
          "metadata": {},
          "output_type": "execute_result"
        }
      ],
      "source": [
        "df_train.head()"
      ]
    },
    {
      "cell_type": "markdown",
      "source": [
        "#### DeepPavlov/rubert-base-cased\n",
        "**Описание**:\n",
        "- **Архитектура**: 12 слоев, 768 скрытых единиц, 12 голов, 180 миллионов параметров.\n",
        "- **Тренировочные данные**: Русская Википедия и новостные данные.\n",
        "- **Инициализация**: Многоязычная версия BERT‑base.\n",
        "- **Цель**: Создание общей языковой модели для русского языка.\n",
        "\n",
        "**Источники данных**:\n",
        "- **Википедия**: Энциклопедические статьи.\n",
        "- **Новости**: Современные новостные статьи.\n",
        "\n",
        "Итог: Универсальная модель для широкого круга задач обработки естественного языка (NLP), таких как классификация текста, анализ тональности, и другие."
      ],
      "metadata": {
        "id": "2xrZKbYtomPh"
      }
    },
    {
      "cell_type": "code",
      "execution_count": null,
      "metadata": {
        "jupyter": {
          "outputs_hidden": false
        },
        "id": "6iLUFa-7oGxe",
        "outputId": "8108386b-a379-4d91-efde-0d944f54952e"
      },
      "outputs": [
        {
          "name": "stderr",
          "output_type": "stream",
          "text": [
            "Some weights of BertForSequenceClassification were not initialized from the model checkpoint at DeepPavlov/rubert-base-cased and are newly initialized: ['classifier.bias', 'classifier.weight']\n",
            "You should probably TRAIN this model on a down-stream task to be able to use it for predictions and inference.\n"
          ]
        }
      ],
      "source": [
        "set_random_seed(42)\n",
        "model_name_base = \"DeepPavlov/rubert-base-cased\"\n",
        "tokenizer_base = BertTokenizer.from_pretrained(model_name_base)\n",
        "model_base = BertForSequenceClassification.from_pretrained(model_name_base, num_labels=2)"
      ]
    },
    {
      "cell_type": "code",
      "execution_count": null,
      "metadata": {
        "jupyter": {
          "outputs_hidden": false
        },
        "id": "3it-zMJBoGxf"
      },
      "outputs": [],
      "source": [
        "class JokeDatasetBert(Dataset):\n",
        "    def __init__(self, data, tokenizer, max_token_len=128):\n",
        "\n",
        "        self.sentences = data['text']\n",
        "        self.target = data['is_joke']\n",
        "        self.tokenizer = tokenizer\n",
        "        self.max_token_len = max_token_len\n",
        "\n",
        "    def __len__(self):\n",
        "        return len(self.sentences)\n",
        "\n",
        "    def __getitem__(self, index: int):\n",
        "        sentences_index = self.sentences[index]\n",
        "        target_index = self.target[index]\n",
        "\n",
        "        encoding = self.tokenizer.encode_plus(\n",
        "\n",
        "            sentences_index,\n",
        "            add_special_tokens=True,\n",
        "            max_length=self.max_token_len,\n",
        "            return_token_type_ids=False,\n",
        "            padding=\"max_length\",\n",
        "            truncation=True,\n",
        "            return_attention_mask=True,\n",
        "            return_tensors='pt',\n",
        "        )\n",
        "\n",
        "        return dict(\n",
        "            input_ids=encoding[\"input_ids\"].flatten(),\n",
        "            attention_mask=encoding[\"attention_mask\"].flatten(),\n",
        "            labels=torch.tensor(target_index, dtype=torch.float))"
      ]
    },
    {
      "cell_type": "code",
      "execution_count": null,
      "metadata": {
        "jupyter": {
          "outputs_hidden": false
        },
        "id": "kr5nd-ZPoGxf"
      },
      "outputs": [],
      "source": [
        "#датасет\n",
        "set_random_seed(42)\n",
        "train_dataset_base = JokeDatasetBert(data=df_train,\n",
        "                                    tokenizer=tokenizer_base,\n",
        "                                    max_token_len=128)\n",
        "\n",
        "test_dataset_base = JokeDatasetBert(data=df_test,\n",
        "                                   tokenizer=tokenizer_base,\n",
        "                                   max_token_len=128)"
      ]
    },
    {
      "cell_type": "code",
      "execution_count": null,
      "metadata": {
        "jupyter": {
          "outputs_hidden": false
        },
        "id": "U34JkpgVoGxf"
      },
      "outputs": [],
      "source": [
        "#метрики\n",
        "def compute_metrics(p: EvalPrediction):\n",
        "    preds = np.argmax(p.predictions, axis=1)\n",
        "    precision = precision_score(p.label_ids, preds)\n",
        "    recall = recall_score(p.label_ids, preds)\n",
        "    f1 = f1_score(p.label_ids, preds)\n",
        "    accuracy = accuracy_score(p.label_ids, preds)\n",
        "    return {\n",
        "        \"precision\": precision,\n",
        "        \"recall\": recall,\n",
        "        \"f1\": f1,\n",
        "        \"accuracy\": accuracy,\n",
        "    }"
      ]
    },
    {
      "cell_type": "code",
      "execution_count": null,
      "metadata": {
        "jupyter": {
          "outputs_hidden": false
        },
        "id": "3JWVllo8oGxg"
      },
      "outputs": [],
      "source": [
        "set_random_seed(42)\n",
        "class CustomTrainer(Trainer):\n",
        "\n",
        "    def compute_loss(self, model, inputs, return_outputs=False):\n",
        "        labels = inputs.pop(\"labels\").to(torch.int64)\n",
        "        outputs = model(**inputs)\n",
        "        logits = outputs.logits\n",
        "        loss_fct = nn.CrossEntropyLoss()\n",
        "        loss = loss_fct(logits, labels)\n",
        "        return (loss, outputs) if return_outputs else loss\n",
        "\n",
        "    def train(self, *args, **kwargs):\n",
        "        start_time = time.time()\n",
        "        result = super().train(*args, **kwargs)\n",
        "        end_time = time.time()\n",
        "        training_time = end_time - start_time\n",
        "        print(f\"Training time: {training_time:.2f} seconds\")\n",
        "        return result\n",
        "\n",
        "\n",
        "training_args = TrainingArguments(\n",
        "    output_dir='./base',          # Путь для сохранения результатов и модели\n",
        "    num_train_epochs=5,              # Количество эпох\n",
        "    per_device_train_batch_size=16,  # Размер пакета для обучения\n",
        "    per_device_eval_batch_size=16,   # Размер пакета для валидации/тестирования\n",
        "    warmup_steps=500,                # Шаги разогрева для планировщика скорости обучения\n",
        "    weight_decay=0.001,               # Вес уменьшения\n",
        "    logging_dir='./logs_base',            # Путь для логирования\n",
        "    save_strategy=\"epoch\",           # Сохранять модель после каждой эпохи\n",
        "    evaluation_strategy=\"epoch\",  # Выполнять валидацию после каждой эпохи\n",
        "    logging_strategy=\"epoch\",\n",
        "    logging_steps=100,\n",
        "    learning_rate=5e-5,                       # Задать скорость обучения\n",
        "    optim=\"adamw_torch\",\n",
        "    fp16=True,\n",
        "    report_to=None,\n",
        "    load_best_model_at_end=True,      # Загружать лучшую модель в конце тренировки\n",
        "    metric_for_best_model=\"f1\", # Метрика для определения лучшей модели\n",
        "    greater_is_better=True,           # Указывать, что более высокое значение метрики лучше\n",
        "    save_total_limit=1\n",
        ")\n",
        "\n",
        "\n",
        "trainer_base = CustomTrainer(\n",
        "    model=model_base,\n",
        "    args=training_args,\n",
        "    train_dataset=train_dataset_base,\n",
        "    eval_dataset=test_dataset_base,\n",
        "    compute_metrics=compute_metrics,\n",
        ")"
      ]
    },
    {
      "cell_type": "code",
      "execution_count": null,
      "metadata": {
        "jupyter": {
          "outputs_hidden": false
        },
        "id": "YZHvKORpoGxg",
        "outputId": "a1c58ceb-0d9a-44d4-e50b-8ae7f17e97cc"
      },
      "outputs": [
        {
          "data": {
            "text/html": [
              "\n",
              "    <div>\n",
              "      \n",
              "      <progress value='9375' max='9375' style='width:300px; height:20px; vertical-align: middle;'></progress>\n",
              "      [9375/9375 11:40, Epoch 5/5]\n",
              "    </div>\n",
              "    <table border=\"1\" class=\"dataframe\">\n",
              "  <thead>\n",
              " <tr style=\"text-align: left;\">\n",
              "      <th>Epoch</th>\n",
              "      <th>Training Loss</th>\n",
              "      <th>Validation Loss</th>\n",
              "      <th>Precision</th>\n",
              "      <th>Recall</th>\n",
              "      <th>F1</th>\n",
              "      <th>Accuracy</th>\n",
              "    </tr>\n",
              "  </thead>\n",
              "  <tbody>\n",
              "    <tr>\n",
              "      <td>1</td>\n",
              "      <td>0.414000</td>\n",
              "      <td>0.308007</td>\n",
              "      <td>0.833974</td>\n",
              "      <td>0.925600</td>\n",
              "      <td>0.877401</td>\n",
              "      <td>0.870459</td>\n",
              "    </tr>\n",
              "    <tr>\n",
              "      <td>2</td>\n",
              "      <td>0.231200</td>\n",
              "      <td>0.400361</td>\n",
              "      <td>0.811438</td>\n",
              "      <td>0.942133</td>\n",
              "      <td>0.871915</td>\n",
              "      <td>0.861378</td>\n",
              "    </tr>\n",
              "    <tr>\n",
              "      <td>3</td>\n",
              "      <td>0.112900</td>\n",
              "      <td>0.497565</td>\n",
              "      <td>0.862148</td>\n",
              "      <td>0.905600</td>\n",
              "      <td>0.883340</td>\n",
              "      <td>0.880208</td>\n",
              "    </tr>\n",
              "    <tr>\n",
              "      <td>4</td>\n",
              "      <td>0.052100</td>\n",
              "      <td>0.638509</td>\n",
              "      <td>0.889698</td>\n",
              "      <td>0.879733</td>\n",
              "      <td>0.884688</td>\n",
              "      <td>0.885150</td>\n",
              "    </tr>\n",
              "    <tr>\n",
              "      <td>5</td>\n",
              "      <td>0.021200</td>\n",
              "      <td>0.711836</td>\n",
              "      <td>0.872027</td>\n",
              "      <td>0.899467</td>\n",
              "      <td>0.885534</td>\n",
              "      <td>0.883547</td>\n",
              "    </tr>\n",
              "  </tbody>\n",
              "</table><p>"
            ],
            "text/plain": [
              "<IPython.core.display.HTML object>"
            ]
          },
          "metadata": {},
          "output_type": "display_data"
        },
        {
          "name": "stdout",
          "output_type": "stream",
          "text": [
            "Training time: 701.66 seconds\n"
          ]
        },
        {
          "data": {
            "text/plain": [
              "TrainOutput(global_step=9375, training_loss=0.16627488037109375, metrics={'train_runtime': 701.4118, 'train_samples_per_second': 213.854, 'train_steps_per_second': 13.366, 'total_flos': 9866664576000000.0, 'train_loss': 0.16627488037109375, 'epoch': 5.0})"
            ]
          },
          "execution_count": 10,
          "metadata": {},
          "output_type": "execute_result"
        }
      ],
      "source": [
        "set_random_seed(42)\n",
        "trainer_base.train()"
      ]
    },
    {
      "cell_type": "markdown",
      "metadata": {
        "id": "JvkwYfLBoGxh"
      },
      "source": [
        "#### DeepPavlov/rubert-base-cased-conversational\n",
        "**Описание**:\n",
        "- **Архитектура**: 12 слоев, 768 скрытых единиц, 12 голов, 180 миллионов параметров.\n",
        "- **Тренировочные данные**: OpenSubtitles, Dirty, Pikabu, и социальные медиа данные из корпуса Taiga.\n",
        "- **Инициализация**: Инициализация моделью RuBERT.\n",
        "- **Цель**: Создание модели, оптимизированной для разговорного русского языка.\n",
        "\n",
        "**Источники данных**:\n",
        "- **OpenSubtitles**: Субтитры к фильмам и сериалам, содержащие диалоги и разговорные выражения.\n",
        "- **Dirty**: Платформа с пользовательским контентом.\n",
        "- **Pikabu**: Российский социальный новостной сайт.\n",
        "- **Taiga**: Корпус, включающий данные из социальных медиа.\n",
        "\n",
        "Итог: Оптимизирована для задач, связанных с диалогами и взаимодействием с пользователями, таких как чат-боты, системы вопрос-ответ, и другие разговорные системы."
      ]
    },
    {
      "cell_type": "code",
      "execution_count": null,
      "metadata": {
        "id": "jWiZyLpqoGxh",
        "outputId": "4d1cbe41-4f9b-4c75-fc03-83438ecfb0fb"
      },
      "outputs": [
        {
          "name": "stderr",
          "output_type": "stream",
          "text": [
            "Some weights of BertForSequenceClassification were not initialized from the model checkpoint at DeepPavlov/rubert-base-cased-conversational and are newly initialized: ['classifier.bias', 'classifier.weight']\n",
            "You should probably TRAIN this model on a down-stream task to be able to use it for predictions and inference.\n"
          ]
        }
      ],
      "source": [
        "set_random_seed(42)\n",
        "model_name_conversational = \"DeepPavlov/rubert-base-cased-conversational\"\n",
        "tokenizer_conversational = BertTokenizer.from_pretrained(model_name_conversational)\n",
        "model_conversational = BertForSequenceClassification.from_pretrained(model_name_conversational, num_labels=2)"
      ]
    },
    {
      "cell_type": "code",
      "execution_count": null,
      "metadata": {
        "id": "KVU-9R7eoGxh"
      },
      "outputs": [],
      "source": [
        "train_dataset_conversational = JokeDatasetBert(data=df_train,\n",
        "                                    tokenizer=tokenizer_conversational,\n",
        "                                    max_token_len=128)\n",
        "\n",
        "test_dataset_conversational = JokeDatasetBert(data=df_test,\n",
        "                                   tokenizer=tokenizer_conversational,\n",
        "                                   max_token_len=128)"
      ]
    },
    {
      "cell_type": "code",
      "execution_count": null,
      "metadata": {
        "id": "rxdr9EQPoGxh"
      },
      "outputs": [],
      "source": [
        "set_random_seed(42)\n",
        "training_conv_args = TrainingArguments(\n",
        "    output_dir='./conversational',          # Путь для сохранения результатов и модели\n",
        "    num_train_epochs=5,              # Количество эпох\n",
        "    per_device_train_batch_size=16,  # Размер пакета для обучения\n",
        "    per_device_eval_batch_size=16,   # Размер пакета для валидации/тестирования\n",
        "    warmup_steps=500,                # Шаги разогрева для планировщика скорости обучения\n",
        "    weight_decay=0.001,               # Вес уменьшения\n",
        "    logging_dir='./logs',            # Путь для логирования\n",
        "    save_strategy=\"epoch\",           # Сохранять модель после каждой эпохи\n",
        "    evaluation_strategy=\"epoch\",  # Выполнять валидацию после каждой эпохи\n",
        "    logging_strategy=\"epoch\",\n",
        "    logging_steps=100,\n",
        "    learning_rate=5e-5,                       # Задать скорость обучения\n",
        "    optim=\"adamw_torch\",\n",
        "    fp16=True,\n",
        "    report_to=None,\n",
        "    load_best_model_at_end=True,      # Загружать лучшую модель в конце тренировки\n",
        "    metric_for_best_model=\"f1\", # Метрика для определения лучшей модели\n",
        "    greater_is_better=True,           # Указывать, что более высокое значение метрики лучше\n",
        "    save_total_limit=1\n",
        ")\n",
        "\n",
        "\n",
        "trainer_conversational = CustomTrainer(\n",
        "    model=model_conversational,\n",
        "    args=training_conv_args,\n",
        "    train_dataset=train_dataset_conversational,\n",
        "    eval_dataset=test_dataset_conversational,\n",
        "    compute_metrics=compute_metrics,\n",
        ")"
      ]
    },
    {
      "cell_type": "code",
      "execution_count": null,
      "metadata": {
        "id": "5hkfeVZNoGxi",
        "outputId": "c9992e63-8808-4a28-a1c8-113fa5f03d17"
      },
      "outputs": [
        {
          "data": {
            "text/html": [
              "\n",
              "    <div>\n",
              "      \n",
              "      <progress value='9375' max='9375' style='width:300px; height:20px; vertical-align: middle;'></progress>\n",
              "      [9375/9375 11:42, Epoch 5/5]\n",
              "    </div>\n",
              "    <table border=\"1\" class=\"dataframe\">\n",
              "  <thead>\n",
              " <tr style=\"text-align: left;\">\n",
              "      <th>Epoch</th>\n",
              "      <th>Training Loss</th>\n",
              "      <th>Validation Loss</th>\n",
              "      <th>Precision</th>\n",
              "      <th>Recall</th>\n",
              "      <th>F1</th>\n",
              "      <th>Accuracy</th>\n",
              "    </tr>\n",
              "  </thead>\n",
              "  <tbody>\n",
              "    <tr>\n",
              "      <td>1</td>\n",
              "      <td>0.369300</td>\n",
              "      <td>0.288258</td>\n",
              "      <td>0.837056</td>\n",
              "      <td>0.949333</td>\n",
              "      <td>0.889666</td>\n",
              "      <td>0.882078</td>\n",
              "    </tr>\n",
              "    <tr>\n",
              "      <td>2</td>\n",
              "      <td>0.173700</td>\n",
              "      <td>0.450888</td>\n",
              "      <td>0.834738</td>\n",
              "      <td>0.950933</td>\n",
              "      <td>0.889055</td>\n",
              "      <td>0.881143</td>\n",
              "    </tr>\n",
              "    <tr>\n",
              "      <td>3</td>\n",
              "      <td>0.066500</td>\n",
              "      <td>0.540329</td>\n",
              "      <td>0.896968</td>\n",
              "      <td>0.891467</td>\n",
              "      <td>0.894209</td>\n",
              "      <td>0.894364</td>\n",
              "    </tr>\n",
              "    <tr>\n",
              "      <td>4</td>\n",
              "      <td>0.022000</td>\n",
              "      <td>0.712705</td>\n",
              "      <td>0.903836</td>\n",
              "      <td>0.892267</td>\n",
              "      <td>0.898014</td>\n",
              "      <td>0.898504</td>\n",
              "    </tr>\n",
              "    <tr>\n",
              "      <td>5</td>\n",
              "      <td>0.005700</td>\n",
              "      <td>0.773070</td>\n",
              "      <td>0.887676</td>\n",
              "      <td>0.910400</td>\n",
              "      <td>0.898894</td>\n",
              "      <td>0.897436</td>\n",
              "    </tr>\n",
              "  </tbody>\n",
              "</table><p>"
            ],
            "text/plain": [
              "<IPython.core.display.HTML object>"
            ]
          },
          "metadata": {},
          "output_type": "display_data"
        },
        {
          "name": "stdout",
          "output_type": "stream",
          "text": [
            "Training time: 703.26 seconds\n"
          ]
        },
        {
          "data": {
            "text/plain": [
              "TrainOutput(global_step=9375, training_loss=0.1274432480875651, metrics={'train_runtime': 703.0531, 'train_samples_per_second': 213.355, 'train_steps_per_second': 13.335, 'total_flos': 9866664576000000.0, 'train_loss': 0.1274432480875651, 'epoch': 5.0})"
            ]
          },
          "execution_count": 14,
          "metadata": {},
          "output_type": "execute_result"
        }
      ],
      "source": [
        "trainer_conversational.train()"
      ]
    },
    {
      "cell_type": "markdown",
      "metadata": {
        "id": "PH9zN-GUoGxi"
      },
      "source": [
        "####  Bi-LSTM"
      ]
    },
    {
      "cell_type": "code",
      "execution_count": null,
      "metadata": {
        "id": "8Cq06amWoGxi"
      },
      "outputs": [],
      "source": [
        "from collections import Counter\n",
        "import spacy\n",
        "import os\n",
        "\n",
        "nlp = spacy.load(\"ru_core_news_lg\")"
      ]
    },
    {
      "cell_type": "code",
      "execution_count": null,
      "metadata": {
        "id": "BdusQNDsoGxi"
      },
      "outputs": [],
      "source": [
        "# Создание словаря\n",
        "counter = Counter()\n",
        "for text in df_train['lemmas']:\n",
        "    counter.update(text.split())\n",
        "\n",
        "# Создание индексации слов\n",
        "vocab = {word: idx + 2 for idx, (word, _) in enumerate(counter.items())}  # Индексы начинаются с 2, так как 0 и 1 зарезервированы для <pad> и <unk>\n",
        "vocab['<pad>'] = 0\n",
        "vocab['<unk>'] = 1\n",
        "pad_idx = vocab['<pad>']\n",
        "unk_idx = vocab['<unk>']"
      ]
    },
    {
      "cell_type": "code",
      "execution_count": null,
      "metadata": {
        "id": "qwH0tX_EoGxj",
        "outputId": "41f36cb0-c256-4477-c1c1-eb4b91d01130"
      },
      "outputs": [
        {
          "data": {
            "text/plain": [
              "{'давно': 2,\n",
              " 'пора': 3,\n",
              " 'этот': 4,\n",
              " 'дорожник': 5,\n",
              " 'котёл': 6,\n",
              " 'сборная': 7,\n",
              " 'россия': 8,\n",
              " 'футбол': 9,\n",
              " 'лада': 10,\n",
              " 'калина': 11,\n",
              " 'музыкальный': 12,\n",
              " 'стереосистема': 13,\n",
              " 'помирать': 14,\n",
              " 'музыка': 15,\n",
              " 'программист': 16,\n",
              " 'луна': 17,\n",
              " 'рак': 18,\n",
              " 'учиться': 19,\n",
              " 'отборочный': 20,\n",
              " 'матч': 21,\n",
              " 'чемпионат': 22,\n",
              " 'европа': 23,\n",
              " 'андорры': 24,\n",
              " 'центр': 25,\n",
              " 'коррупционный': 26,\n",
              " 'скандал': 27,\n",
              " 'фгуп': 28,\n",
              " 'свердловскавтодор': 29,\n",
              " 'выезжать': 30,\n",
              " 'стать': 31,\n",
              " 'город': 32,\n",
              " 'съёмный': 33,\n",
              " 'почасовой': 34,\n",
              " 'квартира': 35,\n",
              " 'продавать': 36,\n",
              " 'свой': 37,\n",
              " 'помёт': 38,\n",
              " 'всетаки': 39,\n",
              " 'приходить': 40,\n",
              " 'мнение': 41,\n",
              " 'напрасно': 42,\n",
              " 'американы': 43,\n",
              " 'выбрать': 44,\n",
              " 'папуас': 45,\n",
              " 'юсе': 46,\n",
              " 'алло': 47,\n",
              " 'дорогой': 48,\n",
              " 'плохо': 49,\n",
              " 'слышно': 50,\n",
              " 'улететь': 51,\n",
              " 'ещё': 52,\n",
              " 'кувейт': 53,\n",
              " 'чиновник': 54,\n",
              " 'говно': 55,\n",
              " 'вроде': 56,\n",
              " 'утонуть': 57,\n",
              " 'время': 58,\n",
              " 'гдето': 59,\n",
              " 'всплывать': 60,\n",
              " 'извинить': 61,\n",
              " 'ради': 62,\n",
              " 'бог': 63,\n",
              " 'знать': 64,\n",
              " 'плач': 65,\n",
              " 'геморрой': 66,\n",
              " 'выкидывать': 67,\n",
              " 'улица': 68,\n",
              " 'случиться': 69,\n",
              " 'почему': 70,\n",
              " 'собраться': 71,\n",
              " 'такой': 72,\n",
              " 'толпа': 73,\n",
              " 'каждый': 74,\n",
              " 'хотеть': 75,\n",
              " 'убедиться': 76,\n",
              " 'лично': 77,\n",
              " 'самое': 78,\n",
              " 'злой': 79,\n",
              " 'зло': 80,\n",
              " 'это': 81,\n",
              " 'суть': 82,\n",
              " 'сами': 83,\n",
              " 'бумажный': 84,\n",
              " 'деньга': 85,\n",
              " 'ребёнок': 86,\n",
              " 'родиться': 87,\n",
              " 'второй': 88,\n",
              " 'двойня': 89,\n",
              " 'материнский': 90,\n",
              " 'капитал': 91,\n",
              " 'выплачивать': 92,\n",
              " 'почемуто': 93,\n",
              " 'рабочий': 94,\n",
              " 'день': 95,\n",
              " 'выходной': 96,\n",
              " 'должный': 97,\n",
              " 'отдыхать': 98,\n",
              " 'выспаться': 99,\n",
              " 'тд': 100,\n",
              " 'предусмотреть': 101,\n",
              " 'трудовой': 102,\n",
              " 'договор': 103,\n",
              " 'запись': 104,\n",
              " 'книжке': 105,\n",
              " 'профессия': 106,\n",
              " 'домохозяйка': 107,\n",
              " 'свинка': 108,\n",
              " 'морской': 109,\n",
              " 'вредный': 110,\n",
              " 'привычка': 111,\n",
              " 'курение': 112,\n",
              " 'алкоголь': 113,\n",
              " 'возбраняться': 114,\n",
              " 'решить': 115,\n",
              " 'начать': 116,\n",
              " 'новый': 117,\n",
              " 'жизнь': 118,\n",
              " 'придумать': 119,\n",
              " 'кто': 120,\n",
              " 'бояться': 121,\n",
              " 'запомню': 122,\n",
              " 'назначение': 123,\n",
              " 'название': 124,\n",
              " 'лекарство': 125,\n",
              " 'постоянно': 126,\n",
              " 'забывать': 127,\n",
              " 'физик': 128,\n",
              " 'ойро': 129,\n",
              " 'ру': 130,\n",
              " 'сказать': 131,\n",
              " 'обратиться': 132,\n",
              " 'зал': 133,\n",
              " 'медленно': 134,\n",
              " 'гаснет': 135,\n",
              " 'свет': 136,\n",
              " 'другому': 137,\n",
              " 'слушай': 138,\n",
              " 'кореш': 139,\n",
              " 'выключать': 140,\n",
              " 'очень': 141,\n",
              " 'просто': 142,\n",
              " 'сидеть': 143,\n",
              " 'чувак': 144,\n",
              " 'мееедлееенно': 145,\n",
              " 'вытаскивать': 146,\n",
              " 'вилка': 147,\n",
              " 'розетка': 148,\n",
              " 'подьехать': 149,\n",
              " 'какой': 150,\n",
              " 'пельмени': 151,\n",
              " 'даж': 152,\n",
              " 'сварить': 153,\n",
              " 'могу': 154,\n",
              " 'вместо': 155,\n",
              " 'дворник': 156,\n",
              " 'работать': 157,\n",
              " 'заовд': 158,\n",
              " 'пойти': 159,\n",
              " 'милостыня': 160,\n",
              " 'просить': 161,\n",
              " 'рождение': 162,\n",
              " 'василий': 163,\n",
              " 'иванович': 164,\n",
              " 'сын': 165,\n",
              " 'говорить': 166,\n",
              " 'сегодня': 167,\n",
              " 'чапая': 168,\n",
              " 'мочь': 169,\n",
              " 'продолжить': 170,\n",
              " 'ряд': 171,\n",
              " 'жалеть': 172,\n",
              " 'любить': 173,\n",
              " 'съём': 174,\n",
              " 'креативить': 175,\n",
              " 'ухо': 176,\n",
              " 'подстричь': 177,\n",
              " 'окантовка': 178,\n",
              " 'лапа': 179,\n",
              " 'сделать': 180,\n",
              " 'предложи': 181,\n",
              " 'промоутер': 182,\n",
              " 'ковбой': 183,\n",
              " 'бар': 184,\n",
              " 'измениться': 185,\n",
              " 'президент': 186,\n",
              " 'навальный': 187,\n",
              " '…': 188,\n",
              " 'превращаться': 189,\n",
              " 'милиционер': 190,\n",
              " 'полицейский': 191,\n",
              " 'получиться': 192,\n",
              " 'черномырдин': 193,\n",
              " 'жених': 194,\n",
              " 'невеста': 195,\n",
              " 'выкупать': 196,\n",
              " 'заметить': 197,\n",
              " 'украсть': 198,\n",
              " 'вакцина': 199,\n",
              " 'против': 200,\n",
              " 'грипп': 201,\n",
              " 'неэффективный': 202,\n",
              " 'вирус': 203,\n",
              " 'быстро': 204,\n",
              " 'мутировать': 205,\n",
              " 'принц': 206,\n",
              " 'сказка': 207,\n",
              " 'золушка': 208,\n",
              " 'вполнетаки': 209,\n",
              " 'здоровый': 210,\n",
              " 'личность': 211,\n",
              " 'мужчина': 212,\n",
              " 'женщина': 213,\n",
              " 'аж': 214,\n",
              " 'страшный': 215,\n",
              " 'неуютно': 216,\n",
              " 'сразу': 217,\n",
              " 'принять': 218,\n",
              " 'именно': 219,\n",
              " 'ваш': 220,\n",
              " 'парень': 221,\n",
              " 'бывший': 222,\n",
              " 'девушка': 223,\n",
              " 'очевидно': 224,\n",
              " 'вывод': 225,\n",
              " 'одного': 226,\n",
              " 'магазин': 227,\n",
              " 'вежливый': 228,\n",
              " 'продавец': 229,\n",
              " 'воскресение': 230,\n",
              " 'человек': 231,\n",
              " 'наверное': 232,\n",
              " 'дальтоник': 233,\n",
              " 'различать': 234,\n",
              " 'красный': 235,\n",
              " 'зелёный': 236,\n",
              " 'цвет': 237,\n",
              " 'добрый': 238,\n",
              " 'половина': 239,\n",
              " 'группа': 240,\n",
              " 'отчислить': 241,\n",
              " 'сочувствую': 242,\n",
              " 'анек': 243,\n",
              " 'муж': 244,\n",
              " 'жена': 245,\n",
              " 'идиотка': 246,\n",
              " 'бомба': 247,\n",
              " 'пронести': 248,\n",
              " 'метро': 249,\n",
              " 'чемодане': 250,\n",
              " 'колесиках': 251,\n",
              " 'жаль': 252,\n",
              " 'репутация': 253,\n",
              " 'испортить': 254,\n",
              " 'плохой': 255,\n",
              " 'дебил': 256,\n",
              " 'оказываться': 257,\n",
              " 'твой': 258,\n",
              " 'прокладка': 259,\n",
              " 'ладно': 260,\n",
              " 'удача': 261,\n",
              " 'разговаривать': 262,\n",
              " 'себя': 263,\n",
              " 'умереть': 264,\n",
              " 'умрет': 265,\n",
              " 'ксения': 266,\n",
              " 'собчак': 267,\n",
              " 'жить': 268,\n",
              " 'артём': 269,\n",
              " 'иди': 270,\n",
              " 'нахуй': 271,\n",
              " 'заебал': 272,\n",
              " '—': 273,\n",
              " 'тысяча': 274,\n",
              " 'лолов': 275,\n",
              " 'отсоси': 276,\n",
              " 'год': 277,\n",
              " 'вузе': 278,\n",
              " 'гарантия': 279,\n",
              " 'состояние': 280,\n",
              " 'пять': 281,\n",
              " 'бесплатно': 282,\n",
              " 'заниматься': 283,\n",
              " 'неинтересный': 284,\n",
              " 'фигнёй': 285,\n",
              " 'наш': 286,\n",
              " 'страна': 287,\n",
              " 'верить': 288,\n",
              " 'высокий': 289,\n",
              " 'образование': 290,\n",
              " 'победитель': 291,\n",
              " 'соревнование': 292,\n",
              " 'е': 293,\n",
              " 'место': 294,\n",
              " 'бутаков': 295,\n",
              " 'андрей': 296,\n",
              " 'сединкин': 297,\n",
              " 'михаил': 298,\n",
              " 'медведков': 299,\n",
              " 'александр': 300,\n",
              " 'её': 301,\n",
              " 'мама': 302,\n",
              " 'дома': 303,\n",
              " 'ругать': 304,\n",
              " 'ночевать': 305,\n",
              " 'другого': 306,\n",
              " 'поколение': 307,\n",
              " 'тебе': 308,\n",
              " 'понять': 309,\n",
              " 'отчим': 310,\n",
              " 'неё': 311,\n",
              " 'кроме': 312,\n",
              " 'вокруг': 313,\n",
              " 'хороший': 314,\n",
              " 'число': 315,\n",
              " 'расширить': 316,\n",
              " 'круг': 317,\n",
              " 'общение': 318,\n",
              " 'водитель': 319,\n",
              " 'пешеход': 320,\n",
              " 'пропускать': 321,\n",
              " 'подъезд': 322,\n",
              " 'нассано': 323,\n",
              " 'лифт': 324,\n",
              " 'светло': 325,\n",
              " 'надпись': 326,\n",
              " 'кнопка': 327,\n",
              " 'целый': 328,\n",
              " 'ссориться': 329,\n",
              " 'прощение': 330,\n",
              " 'быстров': 331,\n",
              " 'швейцария': 332,\n",
              " 'якин': 333,\n",
              " 'поймать': 334,\n",
              " 'ингушетия': 335,\n",
              " 'увезти': 336,\n",
              " 'зоопарк': 337,\n",
              " 'обезьяна': 338,\n",
              " 'стыдно': 339,\n",
              " 'всевышний': 340,\n",
              " 'предстанете': 341,\n",
              " 'глава': 342,\n",
              " 'мвд': 343,\n",
              " 'нургалиев': 344,\n",
              " 'разрешить': 345,\n",
              " 'россиянин': 346,\n",
              " 'бить': 347,\n",
              " 'незаконопослушный': 348,\n",
              " 'министр': 349,\n",
              " 'транспорт': 350,\n",
              " 'ветка': 351,\n",
              " 'построить': 352,\n",
              " 'тесть': 353,\n",
              " 'маз': 354,\n",
              " 'пофиг': 355,\n",
              " 'лопата': 356,\n",
              " 'указательный': 357,\n",
              " 'палец': 358,\n",
              " 'умора': 359,\n",
              " 'валяться': 360,\n",
              " 'патсталом': 361,\n",
              " 'ип': 362,\n",
              " 'сидоров': 363,\n",
              " 'иван': 364,\n",
              " 'петрович': 365,\n",
              " 'отправить': 366,\n",
              " 'карту': 367,\n",
              " 'лошадиный': 368,\n",
              " 'сила': 369,\n",
              " 'мальчикимажоры': 370,\n",
              " 'мерюются': 371,\n",
              " 'казаться': 372,\n",
              " 'дружба': 373,\n",
              " 'существовать': 374,\n",
              " 'бурый': 375,\n",
              " 'мам': 376,\n",
              " 'гризли': 377,\n",
              " 'белый': 378,\n",
              " 'медведь': 379,\n",
              " 'владимир': 380,\n",
              " 'жириновский': 381,\n",
              " 'ленин': 382,\n",
              " 'хан': 383,\n",
              " 'батый': 384,\n",
              " 'налог': 385,\n",
              " 'возложить': 386,\n",
              " 'народ': 387,\n",
              " '–': 388,\n",
              " 'остаться': 389,\n",
              " 'наложница': 390,\n",
              " 'кризис': 391,\n",
              " 'финансовый': 392,\n",
              " 'баранина': 393,\n",
              " 'свинин': 394,\n",
              " 'вкус': 395,\n",
              " 'направление': 396,\n",
              " 'районный': 397,\n",
              " 'поликлиника': 398,\n",
              " 'получить': 399,\n",
              " 'хозяин': 400,\n",
              " 'тот': 401,\n",
              " 'переехать': 402,\n",
              " 'другое': 403,\n",
              " 'людовик': 404,\n",
              " 'xiv': 405,\n",
              " 'солнце': 406,\n",
              " 'папа': 407,\n",
              " 'xiii': 408,\n",
              " 'справедливый': 409,\n",
              " 'который': 410,\n",
              " 'мушкетёр': 411,\n",
              " 'xvi': 412,\n",
              " 'которого': 413,\n",
              " 'казнить': 414,\n",
              " 'революционер': 415,\n",
              " 'ветер': 416,\n",
              " 'давать': 417,\n",
              " 'вдую': 418,\n",
              " 'что': 419,\n",
              " 'трени': 420,\n",
              " 'тихо': 421,\n",
              " 'сынок': 422,\n",
              " 'касса': 423,\n",
              " 'борьба': 424,\n",
              " 'коррупция': 425,\n",
              " 'коррумпировать': 426,\n",
              " 'сама': 427,\n",
              " 'режется': 428,\n",
              " 'укроп': 429,\n",
              " 'пара': 430,\n",
              " 'пучок': 431,\n",
              " 'отправляться': 432,\n",
              " 'туда': 433,\n",
              " 'салатник': 434,\n",
              " 'плюнуть': 435,\n",
              " 'морда': 436,\n",
              " 'одному': 437,\n",
              " 'назвать': 438,\n",
              " 'танцор': 439,\n",
              " 'известный': 440,\n",
              " 'мешать': 441,\n",
              " 'смотреть': 442,\n",
              " 'пошлость': 443,\n",
              " 'излечить': 444,\n",
              " 'скрывать': 445,\n",
              " 'вечно': 446,\n",
              " 'бабушка': 447,\n",
              " 'проводить': 448,\n",
              " 'внук': 449,\n",
              " 'полезный': 450,\n",
              " 'самой': 451,\n",
              " 'сегодняшний': 452,\n",
              " 'думать': 453,\n",
              " 'повод': 454,\n",
              " 'вместе': 455,\n",
              " 'похоронить': 456,\n",
              " 'внимание': 457,\n",
              " 'родитель': 458,\n",
              " 'определяться': 459,\n",
              " 'вовсе': 460,\n",
              " 'пляж': 461,\n",
              " 'коробка': 462,\n",
              " 'изпод': 463,\n",
              " 'телевизор': 464,\n",
              " 'надеть': 465,\n",
              " 'годиться': 466,\n",
              " 'романский': 467,\n",
              " 'конь': 468,\n",
              " 'полцарства': 469,\n",
              " 'нифигасе': 470,\n",
              " 'трогать': 471,\n",
              " 'ток': 472,\n",
              " 'пастели': 473,\n",
              " 'че': 474,\n",
              " 'заговоршицы': 475,\n",
              " 'мужик': 476,\n",
              " 'подгаблючников': 477,\n",
              " 'делать': 478,\n",
              " 'дрессировать': 479,\n",
              " 'идти': 480,\n",
              " 'параноик': 481,\n",
              " 'шизофреник': 482,\n",
              " 'п': 483,\n",
              " 'перейдём': 484,\n",
              " 'другую': 485,\n",
              " 'сторона': 486,\n",
              " 'какието': 487,\n",
              " 'хулиган': 488,\n",
              " 'широта': 489,\n",
              " 'фигня': 490,\n",
              " 'вперёд': 491,\n",
              " 'нападать': 492,\n",
              " 'раскидать': 493,\n",
              " 'тема': 494,\n",
              " 'лицо': 495,\n",
              " 'нетрадиционный': 496,\n",
              " 'ориентация': 497,\n",
              " 'носок': 498,\n",
              " 'одинаковый': 499,\n",
              " 'раскладывать': 500,\n",
              " 'женатый': 501,\n",
              " 'раз': 502,\n",
              " 'оба': 503,\n",
              " 'неудачно': 504,\n",
              " 'первый': 505,\n",
              " 'уйти': 506,\n",
              " 'карелин': 507,\n",
              " 'похвалить': 508,\n",
              " 'украинских': 509,\n",
              " 'борец': 510,\n",
              " 'решение': 511,\n",
              " 'выступить': 512,\n",
              " 'работа': 513,\n",
              " 'контур': 514,\n",
              " 'слиться': 515,\n",
              " 'одно': 516,\n",
              " 'пряник': 517,\n",
              " 'д': 518,\n",
              " 'р': 519,\n",
              " 'м': 520,\n",
              " 'останешься': 521,\n",
              " 'череп': 522,\n",
              " 'щен': 523,\n",
              " 'маленький': 524,\n",
              " 'вскрыть': 525,\n",
              " 'ура': 526,\n",
              " 'нна': 527,\n",
              " 'стих': 528,\n",
              " 'кричать': 529,\n",
              " 'девочка': 530,\n",
              " 'лишний': 531,\n",
              " 'шуба': 532,\n",
              " 'купить': 533,\n",
              " 'появление': 534,\n",
              " 'джордж': 535,\n",
              " 'приказать': 536,\n",
              " 'ретироваться': 537,\n",
              " 'несколько': 538,\n",
              " 'минута': 539,\n",
              " 'начаться': 540,\n",
              " 'понедельник': 541,\n",
              " 'среда': 542,\n",
              " 'пятница': 543,\n",
              " 'птица': 544,\n",
              " 'поселить': 545,\n",
              " 'вольер': 546,\n",
              " 'павлина': 547,\n",
              " 'фазан': 548,\n",
              " 'голубой': 549,\n",
              " 'сорока': 550,\n",
              " 'художник': 551,\n",
              " 'обидеть': 552,\n",
              " 'видеть': 553,\n",
              " 'личный': 554,\n",
              " 'сплошной': 555,\n",
              " 'знак': 556,\n",
              " 'ввести': 557,\n",
              " 'очередной': 558,\n",
              " 'безграмотность': 559,\n",
              " 'зима': 560,\n",
              " 'разметка': 561,\n",
              " 'жаловаться': 562,\n",
              " 'смс': 563,\n",
              " 'щас': 564,\n",
              " 'выклвкл': 565,\n",
              " 'бывать': 566,\n",
              " 'алкашки': 567,\n",
              " 'чёрный': 568,\n",
              " 'пояс': 569,\n",
              " 'карате': 570,\n",
              " 'миллионер': 571,\n",
              " 'одинокий': 572,\n",
              " 'старенький': 573,\n",
              " 'познакомиться': 574,\n",
              " 'здоровье': 575,\n",
              " 'долголетие': 576,\n",
              " 'правнук': 577,\n",
              " 'радовать': 578,\n",
              " 'прожить': 579,\n",
              " 'москва': 580,\n",
              " 'четверг': 581,\n",
              " 'ожидаться': 582,\n",
              " '°': 583,\n",
              " 'с': 584,\n",
              " 'кудa': 585,\n",
              " 'стрaнa': 586,\n",
              " 'тихонько': 587,\n",
              " 'нa': 588,\n",
              " 'рaботу': 589,\n",
              " 'учение': 590,\n",
              " 'заключаться': 591,\n",
              " 'преступление': 592,\n",
              " 'оно': 593,\n",
              " 'совершить': 594,\n",
              " 'любовница': 595,\n",
              " 'самому': 596,\n",
              " 'документ': 597,\n",
              " 'подписать': 598,\n",
              " 'сентябрь': 599,\n",
              " 'премьерминистром': 600,\n",
              " 'дмитрий': 601,\n",
              " 'медведев': 602,\n",
              " 'ништяк': 603,\n",
              " 'конец': 604,\n",
              " 'мафон': 605,\n",
              " 'плечо': 606,\n",
              " 'носить': 607,\n",
              " 'бейсболка': 608,\n",
              " 'зад': 609,\n",
              " 'наперёд': 610,\n",
              " 'остальном': 611,\n",
              " 'образ': 612,\n",
              " 'норма': 613,\n",
              " 'дать': 614,\n",
              " 'отец': 615,\n",
              " 'машин': 616,\n",
              " 'пьяный': 617,\n",
              " 'справиться': 618,\n",
              " 'управление': 619,\n",
              " 'знакомый': 620,\n",
              " 'вчера': 621,\n",
              " 'скончаться': 622,\n",
              " 'наличие': 623,\n",
              " 'вилок': 624,\n",
              " 'ложка': 625,\n",
              " 'набор': 626,\n",
              " 'тарелка': 627,\n",
              " 'икеи': 628,\n",
              " 'недавно': 629,\n",
              " 'нам': 630,\n",
              " 'мес': 631,\n",
              " 'ка': 632,\n",
              " 'лететь': 633,\n",
              " 'вести': 634,\n",
              " 'запуск': 635,\n",
              " 'адронный': 636,\n",
              " 'коллайдер': 637,\n",
              " 'сходи': 638,\n",
              " 'психиатрический': 639,\n",
              " 'больница': 640,\n",
              " 'полюбому': 641,\n",
              " 'найдешь': 642,\n",
              " 'играть': 643,\n",
              " 'компьютерный': 644,\n",
              " 'настольный': 645,\n",
              " 'игра': 646,\n",
              " 'футболист': 647,\n",
              " 'заинтересоваться': 648,\n",
              " 'италия': 649,\n",
              " 'плакать': 650,\n",
              " 'внимательно': 651,\n",
              " 'глядеть': 652,\n",
              " 'влажный': 653,\n",
              " 'глаз': 654,\n",
              " 'поражаться': 655,\n",
              " 'скрою': 656,\n",
              " 'гордый': 657,\n",
              " 'меняяяя': 658,\n",
              " 'овощной': 659,\n",
              " 'рагуууу': 660,\n",
              " 'цветной': 661,\n",
              " 'капуста': 662,\n",
              " 'брюссельский': 663,\n",
              " 'болгарский': 664,\n",
              " 'перец': 665,\n",
              " 'цуккини': 666,\n",
              " 'помидор': 667,\n",
              " 'смысл': 668,\n",
              " 'иметь': 669,\n",
              " 'долбоеб': 670,\n",
              " 'весь': 671,\n",
              " 'важный': 672,\n",
              " 'самим': 673,\n",
              " 'евгения': 674,\n",
              " 'онегине': 675,\n",
              " 'ленский': 676,\n",
              " 'щадить': 677,\n",
              " 'усилие': 678,\n",
              " 'грязь': 679,\n",
              " 'ударить': 680,\n",
              " 'отель': 681,\n",
              " 'заводить': 682,\n",
              " 'знакомство': 683,\n",
              " 'враг': 684,\n",
              " 'друг': 685,\n",
              " 'росийских': 686,\n",
              " 'деноминация': 687,\n",
              " 'провести': 688,\n",
              " 'отбросить': 689,\n",
              " 'снова': 690,\n",
              " 'нуль': 691,\n",
              " 'немного': 692,\n",
              " 'подождать': 693,\n",
              " 'детский': 694,\n",
              " 'сад': 695,\n",
              " 'воспитатель': 696,\n",
              " 'выбирать': 697,\n",
              " 'айфон': 698,\n",
              " 'реплика': 699,\n",
              " 'китай': 700,\n",
              " 'андроид': 701,\n",
              " 'найти': 702,\n",
              " 'правда': 703,\n",
              " 'доказательство': 704,\n",
              " 'внеземной': 705,\n",
              " 'разумный': 706,\n",
              " 'оман': 707,\n",
              " 'отражаться': 708,\n",
              " 'зеркалах': 709,\n",
              " 'отображаться': 710,\n",
              " 'картинка': 711,\n",
              " 'дождь': 712,\n",
              " 'патамушшто': 713,\n",
              " 'зонт': 714,\n",
              " 'лашара': 715,\n",
              " 'заглючит': 716,\n",
              " 'быть': 717,\n",
              " 'целовать': 718,\n",
              " 'утро': 719,\n",
              " 'русские': 720,\n",
              " 'выиграть': 721,\n",
              " 'чм': 722,\n",
              " 'бразилец': 723,\n",
              " 'хоккее': 724,\n",
              " '\"': 725,\n",
              " 'три': 726,\n",
              " 'семёрка': 727,\n",
              " 'выпить': 728,\n",
              " 'блядь': 729,\n",
              " 'бутылка': 730,\n",
              " 'одной': 731,\n",
              " 'дура': 732,\n",
              " 'петька': 733,\n",
              " 'анка': 734,\n",
              " 'нравиться': 735,\n",
              " 'полиция': 736,\n",
              " 'разыскивать': 737,\n",
              " 'мошенник': 738,\n",
              " 'которые': 739,\n",
              " 'присвоить': 740,\n",
              " 'электрооборудование': 741,\n",
              " 'наблюдатель': 742,\n",
              " 'выбор': 743,\n",
              " 'мэр': 744,\n",
              " 'госдума': 745,\n",
              " 'сначала': 746,\n",
              " 'психолог': 747,\n",
              " 'мной': 748,\n",
              " 'ждать': 749,\n",
              " 'администратор': 750,\n",
              " 'коридор': 751,\n",
              " 'беседовать': 752,\n",
              " 'дальнобойщик': 753,\n",
              " 'рассказывать': 754,\n",
              " 'сложиться': 755,\n",
              " 'дорога': 756,\n",
              " 'трудность': 757,\n",
              " 'напутствовать': 758,\n",
              " 'дальний': 759,\n",
              " 'меткий': 760,\n",
              " 'определение': 761,\n",
              " 'питомец': 762,\n",
              " 'дядя': 763,\n",
              " 'васи': 764,\n",
              " 'особенно': 765,\n",
              " 'голова': 766,\n",
              " 'получаться': 767,\n",
              " 'разбивать': 768,\n",
              " 'фонтан': 769,\n",
              " 'купаться': 770,\n",
              " 'запоями': 771,\n",
              " 'пить': 772,\n",
              " 'два': 773,\n",
              " 'неделя': 774,\n",
              " 'просыхать': 775,\n",
              " 'готовый': 776,\n",
              " 'доставить': 777,\n",
              " 'удовольствие': 778,\n",
              " 'готова': 779,\n",
              " 'везде': 780,\n",
              " 'стройка': 781,\n",
              " 'таджик': 782,\n",
              " 'дом': 783,\n",
              " 'строить': 784,\n",
              " 'сколько': 785,\n",
              " 'последний': 786,\n",
              " 'рисовать': 787,\n",
              " 'титке': 788,\n",
              " 'слухайте': 789,\n",
              " 'сюды': 790,\n",
              " 'пригласить': 791,\n",
              " 'званый': 792,\n",
              " 'вечер': 793,\n",
              " 'внучка': 794,\n",
              " 'подписывать': 795,\n",
              " 'имя': 796,\n",
              " 'ступеньки': 797,\n",
              " 'погреб': 798,\n",
              " 'кверху': 799,\n",
              " 'достать': 800,\n",
              " 'советский': 801,\n",
              " 'дефицит': 802,\n",
              " 'челябинец': 803,\n",
              " 'настолько': 804,\n",
              " 'суровы': 805,\n",
              " 'болеть': 806,\n",
              " 'чак': 807,\n",
              " 'норрис': 808,\n",
              " 'патриотизм': 809,\n",
              " 'партия': 810,\n",
              " 'жопа': 811,\n",
              " 'лизать': 812,\n",
              " 'вопервых': 813,\n",
              " 'синий': 814,\n",
              " 'разница': 815,\n",
              " 'ходить': 816,\n",
              " 'садик': 817,\n",
              " 'школа': 818,\n",
              " 'институт': 819,\n",
              " 'явление': 820,\n",
              " 'сгорание': 821,\n",
              " 'метеорит': 822,\n",
              " 'атмосфера': 823,\n",
              " 'поэтому': 824,\n",
              " 'кусочек': 825,\n",
              " 'метеор': 826,\n",
              " 'болид': 827,\n",
              " 'прийти': 828,\n",
              " 'куданибудь': 829,\n",
              " 'неву': 830,\n",
              " 'олень': 831,\n",
              " 'слишком': 832,\n",
              " 'поздно': 833,\n",
              " 'замечать': 834,\n",
              " 'ошибка': 835,\n",
              " 'прыгать': 836,\n",
              " 'ров': 837,\n",
              " 'взять': 838,\n",
              " 'которое': 839,\n",
              " 'буква': 840,\n",
              " '“': 841,\n",
              " 'ж': 842,\n",
              " '”': 843,\n",
              " 'правильно': 844,\n",
              " 'сша': 845,\n",
              " 'канал': 846,\n",
              " 'показывать': 847,\n",
              " 'искать': 848,\n",
              " 'третий': 849,\n",
              " 'подходить': 850,\n",
              " 'бушь': 851,\n",
              " 'нами': 852,\n",
              " 'немедленно': 853,\n",
              " 'вступление': 854,\n",
              " 'грузия': 855,\n",
              " 'нато': 856,\n",
              " 'неизбежный': 857,\n",
              " 'ехать': 858,\n",
              " 'велосипед': 859,\n",
              " 'песня': 860,\n",
              " 'октябрёнок': 861,\n",
              " 'пионер': 862,\n",
              " 'комсомолец': 863,\n",
              " 'использовать': 864,\n",
              " 'люстра': 865,\n",
              " 'чижевского': 866,\n",
              " 'забыть': 867,\n",
              " 'насморк': 868,\n",
              " 'помимо': 869,\n",
              " 'пользование': 870,\n",
              " 'кредит': 871,\n",
              " 'банк': 872,\n",
              " 'выдача': 873,\n",
              " 'й': 874,\n",
              " 'век': 875,\n",
              " 'веко': 876,\n",
              " 'технология': 877,\n",
              " 'интернет': 878,\n",
              " 'помочь': 879,\n",
              " 'определиться': 880,\n",
              " 'религия': 881,\n",
              " 'депутат': 882,\n",
              " 'рада': 883,\n",
              " 'сломать': 884,\n",
              " 'нос': 885,\n",
              " 'токшоу': 886,\n",
              " 'поклонница': 887,\n",
              " 'певец': 888,\n",
              " 'довольный': 889,\n",
              " 'достаться': 890,\n",
              " 'дух': 891,\n",
              " 'автограф': 892,\n",
              " 'домой': 893,\n",
              " 'одежда': 894,\n",
              " 'стирать': 895,\n",
              " 'приходиться': 896,\n",
              " 'фотка': 897,\n",
              " 'видный': 898,\n",
              " 'рекламный': 899,\n",
              " 'плакат': 900,\n",
              " 'курсе': 901,\n",
              " 'экстрасенс': 902,\n",
              " 'битва': 903,\n",
              " 'действительно': 904,\n",
              " 'встречать': 905,\n",
              " 'выражение': 906,\n",
              " 'беплатный': 907,\n",
              " 'проездной': 908,\n",
              " 'трамвай': 909,\n",
              " 'подарить': 910,\n",
              " 'чтото': 911,\n",
              " 'получать': 912,\n",
              " 'возможность': 913,\n",
              " 'отмазаться': 914,\n",
              " 'армия': 915,\n",
              " 'форум': 916,\n",
              " 'отмазался': 917,\n",
              " 'пожалуйста': 918,\n",
              " 'мальчик': 919,\n",
              " 'яна': 920,\n",
              " 'задний': 921,\n",
              " 'ожить': 922,\n",
              " 'пожилой': 923,\n",
              " 'сосед': 924,\n",
              " 'оставить': 925,\n",
              " 'собственный': 926,\n",
              " 'шептал': 927,\n",
              " 'владимирович': 928,\n",
              " 'интересный': 929,\n",
              " 'история': 930,\n",
              " 'мировой': 931,\n",
              " 'тае': 932,\n",
              " 'мышка': 933,\n",
              " 'написяли': 934,\n",
              " 'норка': 935,\n",
              " 'счастливый': 936,\n",
              " 'детство': 937,\n",
              " 'сей': 938,\n",
              " 'анекдоте': 939,\n",
              " 'генерал': 940,\n",
              " 'навстречу': 941,\n",
              " 'новобранец': 942,\n",
              " 'чо': 943,\n",
              " 'приветствовать': 944,\n",
              " 'посмотри': 945,\n",
              " 'погон': 946,\n",
              " 'веточка': 947,\n",
              " 'сглазить': 948,\n",
              " 'писать': 949,\n",
              " 'включить': 950,\n",
              " 'комп': 951,\n",
              " 'кошка': 952,\n",
              " 'бежать': 953,\n",
              " 'упряжка': 954,\n",
              " 'катать': 955,\n",
              " 'чукча': 956,\n",
              " 'саня': 957,\n",
              " 'тундре': 958,\n",
              " 'автобус': 959,\n",
              " 'рука': 960,\n",
              " 'какогото': 961,\n",
              " 'скоро': 962,\n",
              " 'порнуха': 963,\n",
              " 'икона': 964,\n",
              " 'ай': 965,\n",
              " 'отходчивый': 966,\n",
              " 'находчивый': 967,\n",
              " 'недостаток': 968,\n",
              " 'условие': 969,\n",
              " 'поддержать': 970,\n",
              " 'отечественный': 971,\n",
              " 'производитель': 972,\n",
              " 'армянский': 973,\n",
              " 'радио': 974,\n",
              " 'отвечать': 975,\n",
              " 'слепые': 976,\n",
              " 'ненавидеть': 977,\n",
              " 'главный': 978,\n",
              " 'древний': 979,\n",
              " 'укры': 980,\n",
              " 'изобрести': 981,\n",
              " 'колесо': 982,\n",
              " 'вазелин': 983,\n",
              " 'система': 984,\n",
              " 'мове': 985,\n",
              " 'овидий': 986,\n",
              " 'еврокубы': 987,\n",
              " 'шт': 988,\n",
              " 'немытые': 989,\n",
              " 'желательно': 990,\n",
              " 'пва': 991,\n",
              " 'значить': 992,\n",
              " 'мать': 993,\n",
              " 'дед': 994,\n",
              " 'молиться': 995,\n",
              " 'господи': 996,\n",
              " 'укрепи': 997,\n",
              " 'направь': 998,\n",
              " 'бабка': 999,\n",
              " 'пенсионерка': 1000,\n",
              " 'дедыпенсионеры': 1001,\n",
              " ...}"
            ]
          },
          "execution_count": 17,
          "metadata": {},
          "output_type": "execute_result"
        }
      ],
      "source": [
        "#пример\n",
        "vocab"
      ]
    },
    {
      "cell_type": "code",
      "execution_count": null,
      "metadata": {
        "id": "krgNHkJwoGxj"
      },
      "outputs": [],
      "source": [
        "class TextDataset(Dataset):\n",
        "    def __init__(self, texts, labels, vocab, max_len=128):\n",
        "        self.texts = texts\n",
        "        self.labels = labels\n",
        "        self.vocab = vocab\n",
        "        self.max_len = max_len\n",
        "\n",
        "    def __len__(self):\n",
        "        return len(self.texts)\n",
        "\n",
        "    def __getitem__(self, idx):\n",
        "        text = self.texts[idx]\n",
        "        tokens = text.split()\n",
        "        indices = [self.vocab.get(token, unk_idx) for token in tokens]\n",
        "        if len(indices) < self.max_len:\n",
        "            indices += [pad_idx] * (self.max_len - len(indices))\n",
        "        else:\n",
        "            indices = indices[:self.max_len]\n",
        "        label = self.labels[idx]\n",
        "        return {\"text\": torch.tensor(indices), \"label\": torch.tensor(label, dtype=torch.float)}\n",
        "\n",
        "\n",
        "train_dataset = TextDataset(df_train['lemmas'].tolist(), df_train['is_joke'].tolist(), vocab)\n",
        "test_dataset = TextDataset(df_test['lemmas'].tolist(), df_test['is_joke'].tolist(), vocab)\n",
        "\n",
        "train_dataloader_bert = DataLoader(train_dataset, batch_size=64, shuffle=True)\n",
        "test_dataloader_bert =  DataLoader(test_dataset, batch_size=64, shuffle=False)"
      ]
    },
    {
      "cell_type": "code",
      "execution_count": null,
      "metadata": {
        "id": "ci6BhW-PoGxj",
        "outputId": "6b0050f2-d724-4643-8845-a703f17be328"
      },
      "outputs": [
        {
          "name": "stdout",
          "output_type": "stream",
          "text": [
            "First training example: {'text': tensor([231, 313, 314, 315, 142, 316,  37, 317, 318,   0,   0,   0,   0,   0,\n",
            "          0,   0,   0,   0,   0,   0,   0,   0,   0,   0,   0,   0,   0,   0,\n",
            "          0,   0,   0,   0,   0,   0,   0,   0,   0,   0,   0,   0,   0,   0,\n",
            "          0,   0,   0,   0,   0,   0,   0,   0,   0,   0,   0,   0,   0,   0,\n",
            "          0,   0,   0,   0,   0,   0,   0,   0,   0,   0,   0,   0,   0,   0,\n",
            "          0,   0,   0,   0,   0,   0,   0,   0,   0,   0,   0,   0,   0,   0,\n",
            "          0,   0,   0,   0,   0,   0,   0,   0,   0,   0,   0,   0,   0,   0,\n",
            "          0,   0,   0,   0,   0,   0,   0,   0,   0,   0,   0,   0,   0,   0,\n",
            "          0,   0,   0,   0,   0,   0,   0,   0,   0,   0,   0,   0,   0,   0,\n",
            "          0,   0]), 'label': tensor(0.)}\n",
            "First testing example: {'text': tensor([ 231, 9239, 1194,  685, 1119, 9239, 5987, 1050, 9239,  231, 5987, 1050,\n",
            "         231,    0,    0,    0,    0,    0,    0,    0,    0,    0,    0,    0,\n",
            "           0,    0,    0,    0,    0,    0,    0,    0,    0,    0,    0,    0,\n",
            "           0,    0,    0,    0,    0,    0,    0,    0,    0,    0,    0,    0,\n",
            "           0,    0,    0,    0,    0,    0,    0,    0,    0,    0,    0,    0,\n",
            "           0,    0,    0,    0,    0,    0,    0,    0,    0,    0,    0,    0,\n",
            "           0,    0,    0,    0,    0,    0,    0,    0,    0,    0,    0,    0,\n",
            "           0,    0,    0,    0,    0,    0,    0,    0,    0,    0,    0,    0,\n",
            "           0,    0,    0,    0,    0,    0,    0,    0,    0,    0,    0,    0,\n",
            "           0,    0,    0,    0,    0,    0,    0,    0,    0,    0,    0,    0,\n",
            "           0,    0,    0,    0,    0,    0,    0,    0]), 'label': tensor(0.)}\n"
          ]
        }
      ],
      "source": [
        "print(f\"First training example: {train_dataset[50]}\")\n",
        "print(f\"First testing example: {test_dataset[0]}\")"
      ]
    },
    {
      "cell_type": "code",
      "execution_count": null,
      "metadata": {
        "id": "jQcbLKr2oGxj"
      },
      "outputs": [],
      "source": [
        "# Гиперпараметры\n",
        "VOCAB_SIZE = len(vocab)\n",
        "MAX_LEN = 128\n",
        "BATCH_SIZE = 16\n",
        "HIDDEN_DIM = 128\n",
        "OUTPUT_DIM = 2\n",
        "NUM_EPOCHS = 5\n",
        "LEARNING_RATE = 1e-4\n",
        "EMBED_DIM = 300"
      ]
    },
    {
      "cell_type": "code",
      "execution_count": null,
      "metadata": {
        "id": "QZfR2cozoGxj"
      },
      "outputs": [],
      "source": [
        "# Создание матрицы эмбеддингов\n",
        "embedding_matrix = torch.zeros((VOCAB_SIZE, EMBED_DIM))\n",
        "for word, idx in vocab.items():\n",
        "    if word in nlp.vocab:\n",
        "        embedding_matrix[idx] = torch.tensor(nlp.vocab[word].vector)\n",
        "    else:\n",
        "        embedding_matrix[idx] = torch.zeros(EMBED_DIM)"
      ]
    },
    {
      "cell_type": "code",
      "execution_count": null,
      "metadata": {
        "id": "xPPcu8WVoGxj"
      },
      "outputs": [],
      "source": [
        "class BiLSTMPretrainedModel(nn.Module):\n",
        "    def __init__(self, embedding_matrix, hidden_dim, output_dim, pad_idx, freeze):\n",
        "        super(BiLSTMPretrainedModel, self).__init__()\n",
        "        num_embeddings, embedding_dim = embedding_matrix.shape\n",
        "        self.embedding = nn.Embedding.from_pretrained(embedding_matrix, freeze=freeze, padding_idx=pad_idx)\n",
        "        self.bilstm = nn.LSTM(embedding_dim, hidden_dim, bidirectional=True, batch_first=True)\n",
        "        self.fc = nn.Linear(hidden_dim * 2, output_dim)\n",
        "        self.relu = nn.ReLU()\n",
        "\n",
        "    def forward(self, text, **kwargs):\n",
        "        embedded = self.embedding(text)\n",
        "        lstm_out, _ = self.bilstm(embedded)\n",
        "        avg_pool = torch.mean(lstm_out, dim=1)\n",
        "        output = self.fc(self.relu(avg_pool))\n",
        "        return output\n"
      ]
    },
    {
      "cell_type": "code",
      "execution_count": null,
      "metadata": {
        "jupyter": {
          "outputs_hidden": false
        },
        "id": "4N5sU-e2oGxk"
      },
      "outputs": [],
      "source": [
        "device = torch.device('cuda:0' if torch.cuda.is_available() else 'cpu')\n",
        "freeze = False\n",
        "model_pretrained = BiLSTMPretrainedModel(embedding_matrix, HIDDEN_DIM, OUTPUT_DIM, pad_idx, freeze)\n",
        "optimizer = AdamW(model_pretrained.parameters(), lr=1e-4)\n",
        "criterion = nn.CrossEntropyLoss()\n",
        "num_epochs = 15"
      ]
    },
    {
      "cell_type": "code",
      "execution_count": null,
      "metadata": {
        "id": "w3vCMivSoGxk"
      },
      "outputs": [],
      "source": [
        "def train_eval(model, optimizer, train_dataloader, val_dataloader, criterion, device, num_epochs, save_dir):\n",
        "    model.to(device)\n",
        "    best_f1 = 0.0\n",
        "    best_epoch = 0\n",
        "    best_model_path = os.path.join(save_dir, \"best_model.pth\")\n",
        "\n",
        "    # Создаем директорию, если она не существует\n",
        "    if not os.path.exists(save_dir):\n",
        "        print(f\"Создаем директорию...\")\n",
        "        os.makedirs(save_dir)\n",
        "        print(f\"Успешно создали директорию!\")\n",
        "    else:\n",
        "        print(f\"Директория уже существует\")\n",
        "\n",
        "    total_start_time = time.time()  # Начальное время для общего подсчета\n",
        "\n",
        "    for epoch in range(num_epochs):\n",
        "        start_time = time.time()\n",
        "\n",
        "        # Training phase\n",
        "        model.train()\n",
        "        with tqdm(total=len(train_dataloader), desc=f\"Epoch {epoch+1}/{num_epochs} - Training\") as pbar:\n",
        "            for batch in train_dataloader:\n",
        "                input_ids = batch['text'].to(device)\n",
        "                labels = batch['label'].to(device).long()\n",
        "\n",
        "                optimizer.zero_grad()\n",
        "                outputs = model(input_ids)\n",
        "                loss = criterion(outputs, labels)\n",
        "\n",
        "                _, y_pred = torch.max(outputs.detach(), 1)\n",
        "                precision_train = precision_score(labels.cpu(), y_pred.cpu(), average='binary')\n",
        "                recall_train = recall_score(labels.cpu(), y_pred.cpu(), average='binary')\n",
        "                f1_train = f1_score(labels.cpu(), y_pred.cpu(), average='binary')\n",
        "                accuracy_train = accuracy_score(labels.cpu(), y_pred.cpu())\n",
        "\n",
        "                loss.backward()\n",
        "                optimizer.step()\n",
        "\n",
        "                pbar.set_description(f'Loss: {loss.item():.4f}, Acc: {accuracy_train:.4f}, Prec: {precision_train:.4f}, Rec: {recall_train:.4f}, F1: {f1_train:.4f}')\n",
        "                pbar.update(1)\n",
        "\n",
        "        # Validation phase\n",
        "        model.eval()\n",
        "        val_loss = 0.0\n",
        "        predictions = torch.tensor([], dtype=torch.long, device=device)\n",
        "        targets = torch.tensor([], dtype=torch.long, device=device)\n",
        "\n",
        "        with torch.no_grad():\n",
        "            with tqdm(total=len(val_dataloader), desc=f\"Epoch {epoch+1}/{num_epochs} - Validation\") as pbar:\n",
        "                for batch in val_dataloader:\n",
        "                    input_ids = batch['text'].to(device)\n",
        "                    labels = batch['label'].to(device).long()\n",
        "\n",
        "                    outputs = model(input_ids)\n",
        "                    loss = criterion(outputs, labels)\n",
        "                    val_loss += loss.item()\n",
        "\n",
        "                    _, y_pred = torch.max(outputs.detach(), 1)\n",
        "\n",
        "                    predictions = torch.cat((predictions, y_pred), dim=0)\n",
        "                    targets = torch.cat((targets, labels), dim=0)\n",
        "\n",
        "                    pbar.update(1)\n",
        "\n",
        "            precision_test = precision_score(targets.cpu(), predictions.cpu(), average='binary')\n",
        "            recall_test = recall_score(targets.cpu(), predictions.cpu(), average='binary')\n",
        "            f1_test = f1_score(targets.cpu(), predictions.cpu(), average='binary')\n",
        "            accuracy_test = accuracy_score(targets.cpu(), predictions.cpu())\n",
        "            avg_val_loss = val_loss / len(val_dataloader)\n",
        "\n",
        "            print(f'Epoch {epoch + 1}/{num_epochs}, Loss: {avg_val_loss:.4f}, Acc: {accuracy_test:.4f}, Prec: {precision_test:.4f}, Rec: {recall_test:.4f}, F1: {f1_test:.4f}')\n",
        "\n",
        "            if f1_test > best_f1:\n",
        "                best_f1 = f1_test\n",
        "                best_epoch = epoch + 1  # Запоминаем номер эпохи (начиная с 1)\n",
        "                torch.save(model.state_dict(), best_model_path)\n",
        "                print(f\"Best model saved with F1: {best_f1:.4f}\")\n",
        "\n",
        "        end_time = time.time()\n",
        "        epoch_time = end_time - start_time\n",
        "        print(f\"Epoch {epoch + 1} completed in {epoch_time // 60:.0f}m {epoch_time % 60:.0f}s\")\n",
        "\n",
        "    total_end_time = time.time()  # Конечное время для общего подсчета\n",
        "    total_training_time = total_end_time - total_start_time\n",
        "    print(f\"Total training time: {total_training_time // 60:.0f}m {total_training_time % 60:.0f}s\")\n",
        "\n",
        "    # Выводим лучшую метрику и номер эпохи\n",
        "    print(f\"Best F1 score: {best_f1:.4f} achieved at epoch {best_epoch}\")"
      ]
    },
    {
      "cell_type": "markdown",
      "metadata": {
        "id": "TjSnKC2UoGxk"
      },
      "source": [
        "Для начала рассмотрим ситуацию когда веса эмбеддингового слоя будут обучаемы"
      ]
    },
    {
      "cell_type": "code",
      "execution_count": null,
      "metadata": {
        "jupyter": {
          "outputs_hidden": false
        },
        "colab": {
          "referenced_widgets": [
            "62cb255ccd6440eda4f3a1b5267e4c63",
            "26dacebf781b4cc5b9c24df3f56f3f22",
            "4b0ef2bc94af4d4db965968ffb11e8e6",
            "d53d49e1b03e4d2891f873fda0e1b4b7",
            "fcd48b7c2abc4b64b7911633cddac56e",
            "f58dc895afe44f1d9e3e475501a1cbca",
            "a15149effc2549c8a3610ffa13f5c05e",
            "8f7ba5e7178040cd980820e2661bc81e",
            "4e2023cd26f6496da76a2ca7fa45b55e",
            "217a1f066c2d4a55b340f38e752a1aba",
            "0ee49de62c41418197b8db054542cc2c",
            "bf1f2c0ccc774f77b0b48d437c05fbc3",
            "0fbbcde7d2bc494393b084c892fa47a0",
            "28dea68ffdde43ca94a79b77ff207b4f",
            "5bbecbdce53143edb20c31bf58258770",
            "8b81ad0035d4410fa689f9b78ad84f1c",
            "f0ed9eb4ef054010992f336088091745",
            "572989b0573c481fa7ca410c6394fd46",
            "ee05ea0ba7c9442fbde65aae9d5c137c",
            "49c8c803965f46779ceb4e68c1f14431",
            "d0255d4b81034d0aa6b5f30b4414e2f9",
            "926779ab177a4fdcb8dd418fcbd77b6b",
            "fefae43dab8e47818bd87e9b7abc4290",
            "810f822df47b4796bd9828152174cf97",
            "44e4ce162b314dfd883a1467d69b2558",
            "b3cd2396663b45b2a946e7964f93bffd",
            "46fd243bdfb54112b2ebbd73f9bfde58",
            "1812d59dad4e4924a048bb56c72425b8",
            "0c1b6cb02c7249e0989ff4f87937f733",
            "4d345fb72ce6404bb2511e00aad1c6c4"
          ]
        },
        "id": "e-3vG0hkoGxk",
        "outputId": "e65b2b04-ad4b-410a-f811-bac0de519013"
      },
      "outputs": [
        {
          "name": "stdout",
          "output_type": "stream",
          "text": [
            "Создаем директорию...\n",
            "Успешно создали директорию!\n"
          ]
        },
        {
          "data": {
            "application/vnd.jupyter.widget-view+json": {
              "model_id": "62cb255ccd6440eda4f3a1b5267e4c63",
              "version_major": 2,
              "version_minor": 0
            },
            "text/plain": [
              "Epoch 1/15 - Training:   0%|          | 0/469 [00:00<?, ?it/s]"
            ]
          },
          "metadata": {},
          "output_type": "display_data"
        },
        {
          "data": {
            "application/vnd.jupyter.widget-view+json": {
              "model_id": "26dacebf781b4cc5b9c24df3f56f3f22",
              "version_major": 2,
              "version_minor": 0
            },
            "text/plain": [
              "Epoch 1/15 - Validation:   0%|          | 0/117 [00:00<?, ?it/s]"
            ]
          },
          "metadata": {},
          "output_type": "display_data"
        },
        {
          "name": "stdout",
          "output_type": "stream",
          "text": [
            "Epoch 1/15, Loss: 0.6539, Acc: 0.6592, Prec: 0.6947, Rec: 0.5699, F1: 0.6261\n",
            "Best model saved with F1: 0.6261\n",
            "Epoch 1 completed in 0m 6s\n"
          ]
        },
        {
          "data": {
            "application/vnd.jupyter.widget-view+json": {
              "model_id": "4b0ef2bc94af4d4db965968ffb11e8e6",
              "version_major": 2,
              "version_minor": 0
            },
            "text/plain": [
              "Epoch 2/15 - Training:   0%|          | 0/469 [00:00<?, ?it/s]"
            ]
          },
          "metadata": {},
          "output_type": "display_data"
        },
        {
          "data": {
            "application/vnd.jupyter.widget-view+json": {
              "model_id": "d53d49e1b03e4d2891f873fda0e1b4b7",
              "version_major": 2,
              "version_minor": 0
            },
            "text/plain": [
              "Epoch 2/15 - Validation:   0%|          | 0/117 [00:00<?, ?it/s]"
            ]
          },
          "metadata": {},
          "output_type": "display_data"
        },
        {
          "name": "stdout",
          "output_type": "stream",
          "text": [
            "Epoch 2/15, Loss: 0.6129, Acc: 0.6774, Prec: 0.6685, Rec: 0.7056, F1: 0.6866\n",
            "Best model saved with F1: 0.6866\n",
            "Epoch 2 completed in 0m 6s\n"
          ]
        },
        {
          "data": {
            "application/vnd.jupyter.widget-view+json": {
              "model_id": "fcd48b7c2abc4b64b7911633cddac56e",
              "version_major": 2,
              "version_minor": 0
            },
            "text/plain": [
              "Epoch 3/15 - Training:   0%|          | 0/469 [00:00<?, ?it/s]"
            ]
          },
          "metadata": {},
          "output_type": "display_data"
        },
        {
          "data": {
            "application/vnd.jupyter.widget-view+json": {
              "model_id": "f58dc895afe44f1d9e3e475501a1cbca",
              "version_major": 2,
              "version_minor": 0
            },
            "text/plain": [
              "Epoch 3/15 - Validation:   0%|          | 0/117 [00:00<?, ?it/s]"
            ]
          },
          "metadata": {},
          "output_type": "display_data"
        },
        {
          "name": "stdout",
          "output_type": "stream",
          "text": [
            "Epoch 3/15, Loss: 0.6137, Acc: 0.6436, Prec: 0.6056, Rec: 0.8267, F1: 0.6991\n",
            "Best model saved with F1: 0.6991\n",
            "Epoch 3 completed in 0m 6s\n"
          ]
        },
        {
          "data": {
            "application/vnd.jupyter.widget-view+json": {
              "model_id": "a15149effc2549c8a3610ffa13f5c05e",
              "version_major": 2,
              "version_minor": 0
            },
            "text/plain": [
              "Epoch 4/15 - Training:   0%|          | 0/469 [00:00<?, ?it/s]"
            ]
          },
          "metadata": {},
          "output_type": "display_data"
        },
        {
          "data": {
            "application/vnd.jupyter.widget-view+json": {
              "model_id": "8f7ba5e7178040cd980820e2661bc81e",
              "version_major": 2,
              "version_minor": 0
            },
            "text/plain": [
              "Epoch 4/15 - Validation:   0%|          | 0/117 [00:00<?, ?it/s]"
            ]
          },
          "metadata": {},
          "output_type": "display_data"
        },
        {
          "name": "stdout",
          "output_type": "stream",
          "text": [
            "Epoch 4/15, Loss: 0.6291, Acc: 0.6772, Prec: 0.6854, Rec: 0.6571, F1: 0.6709\n",
            "Epoch 4 completed in 0m 6s\n"
          ]
        },
        {
          "data": {
            "application/vnd.jupyter.widget-view+json": {
              "model_id": "4e2023cd26f6496da76a2ca7fa45b55e",
              "version_major": 2,
              "version_minor": 0
            },
            "text/plain": [
              "Epoch 5/15 - Training:   0%|          | 0/469 [00:00<?, ?it/s]"
            ]
          },
          "metadata": {},
          "output_type": "display_data"
        },
        {
          "data": {
            "application/vnd.jupyter.widget-view+json": {
              "model_id": "217a1f066c2d4a55b340f38e752a1aba",
              "version_major": 2,
              "version_minor": 0
            },
            "text/plain": [
              "Epoch 5/15 - Validation:   0%|          | 0/117 [00:00<?, ?it/s]"
            ]
          },
          "metadata": {},
          "output_type": "display_data"
        },
        {
          "name": "stdout",
          "output_type": "stream",
          "text": [
            "Epoch 5/15, Loss: 0.6283, Acc: 0.6828, Prec: 0.6801, Rec: 0.6923, F1: 0.6861\n",
            "Epoch 5 completed in 0m 6s\n"
          ]
        },
        {
          "data": {
            "application/vnd.jupyter.widget-view+json": {
              "model_id": "0ee49de62c41418197b8db054542cc2c",
              "version_major": 2,
              "version_minor": 0
            },
            "text/plain": [
              "Epoch 6/15 - Training:   0%|          | 0/469 [00:00<?, ?it/s]"
            ]
          },
          "metadata": {},
          "output_type": "display_data"
        },
        {
          "data": {
            "application/vnd.jupyter.widget-view+json": {
              "model_id": "bf1f2c0ccc774f77b0b48d437c05fbc3",
              "version_major": 2,
              "version_minor": 0
            },
            "text/plain": [
              "Epoch 6/15 - Validation:   0%|          | 0/117 [00:00<?, ?it/s]"
            ]
          },
          "metadata": {},
          "output_type": "display_data"
        },
        {
          "name": "stdout",
          "output_type": "stream",
          "text": [
            "Epoch 6/15, Loss: 0.6421, Acc: 0.6850, Prec: 0.6954, Rec: 0.6600, F1: 0.6772\n",
            "Epoch 6 completed in 0m 6s\n"
          ]
        },
        {
          "data": {
            "application/vnd.jupyter.widget-view+json": {
              "model_id": "0fbbcde7d2bc494393b084c892fa47a0",
              "version_major": 2,
              "version_minor": 0
            },
            "text/plain": [
              "Epoch 7/15 - Training:   0%|          | 0/469 [00:00<?, ?it/s]"
            ]
          },
          "metadata": {},
          "output_type": "display_data"
        },
        {
          "data": {
            "application/vnd.jupyter.widget-view+json": {
              "model_id": "28dea68ffdde43ca94a79b77ff207b4f",
              "version_major": 2,
              "version_minor": 0
            },
            "text/plain": [
              "Epoch 7/15 - Validation:   0%|          | 0/117 [00:00<?, ?it/s]"
            ]
          },
          "metadata": {},
          "output_type": "display_data"
        },
        {
          "name": "stdout",
          "output_type": "stream",
          "text": [
            "Epoch 7/15, Loss: 0.6699, Acc: 0.6672, Prec: 0.7981, Rec: 0.4491, F1: 0.5747\n",
            "Epoch 7 completed in 0m 6s\n"
          ]
        },
        {
          "data": {
            "application/vnd.jupyter.widget-view+json": {
              "model_id": "5bbecbdce53143edb20c31bf58258770",
              "version_major": 2,
              "version_minor": 0
            },
            "text/plain": [
              "Epoch 8/15 - Training:   0%|          | 0/469 [00:00<?, ?it/s]"
            ]
          },
          "metadata": {},
          "output_type": "display_data"
        },
        {
          "data": {
            "application/vnd.jupyter.widget-view+json": {
              "model_id": "8b81ad0035d4410fa689f9b78ad84f1c",
              "version_major": 2,
              "version_minor": 0
            },
            "text/plain": [
              "Epoch 8/15 - Validation:   0%|          | 0/117 [00:00<?, ?it/s]"
            ]
          },
          "metadata": {},
          "output_type": "display_data"
        },
        {
          "name": "stdout",
          "output_type": "stream",
          "text": [
            "Epoch 8/15, Loss: 0.6386, Acc: 0.6703, Prec: 0.7953, Rec: 0.4600, F1: 0.5829\n",
            "Epoch 8 completed in 0m 6s\n"
          ]
        },
        {
          "data": {
            "application/vnd.jupyter.widget-view+json": {
              "model_id": "f0ed9eb4ef054010992f336088091745",
              "version_major": 2,
              "version_minor": 0
            },
            "text/plain": [
              "Epoch 9/15 - Training:   0%|          | 0/469 [00:00<?, ?it/s]"
            ]
          },
          "metadata": {},
          "output_type": "display_data"
        },
        {
          "data": {
            "application/vnd.jupyter.widget-view+json": {
              "model_id": "572989b0573c481fa7ca410c6394fd46",
              "version_major": 2,
              "version_minor": 0
            },
            "text/plain": [
              "Epoch 9/15 - Validation:   0%|          | 0/117 [00:00<?, ?it/s]"
            ]
          },
          "metadata": {},
          "output_type": "display_data"
        },
        {
          "name": "stdout",
          "output_type": "stream",
          "text": [
            "Epoch 9/15, Loss: 0.6861, Acc: 0.6860, Prec: 0.7131, Rec: 0.6243, F1: 0.6657\n",
            "Epoch 9 completed in 0m 6s\n"
          ]
        },
        {
          "data": {
            "application/vnd.jupyter.widget-view+json": {
              "model_id": "ee05ea0ba7c9442fbde65aae9d5c137c",
              "version_major": 2,
              "version_minor": 0
            },
            "text/plain": [
              "Epoch 10/15 - Training:   0%|          | 0/469 [00:00<?, ?it/s]"
            ]
          },
          "metadata": {},
          "output_type": "display_data"
        },
        {
          "data": {
            "application/vnd.jupyter.widget-view+json": {
              "model_id": "49c8c803965f46779ceb4e68c1f14431",
              "version_major": 2,
              "version_minor": 0
            },
            "text/plain": [
              "Epoch 10/15 - Validation:   0%|          | 0/117 [00:00<?, ?it/s]"
            ]
          },
          "metadata": {},
          "output_type": "display_data"
        },
        {
          "name": "stdout",
          "output_type": "stream",
          "text": [
            "Epoch 10/15, Loss: 0.7280, Acc: 0.6814, Prec: 0.7025, Rec: 0.6309, F1: 0.6648\n",
            "Epoch 10 completed in 0m 6s\n"
          ]
        },
        {
          "data": {
            "application/vnd.jupyter.widget-view+json": {
              "model_id": "d0255d4b81034d0aa6b5f30b4414e2f9",
              "version_major": 2,
              "version_minor": 0
            },
            "text/plain": [
              "Epoch 11/15 - Training:   0%|          | 0/469 [00:00<?, ?it/s]"
            ]
          },
          "metadata": {},
          "output_type": "display_data"
        },
        {
          "data": {
            "application/vnd.jupyter.widget-view+json": {
              "model_id": "926779ab177a4fdcb8dd418fcbd77b6b",
              "version_major": 2,
              "version_minor": 0
            },
            "text/plain": [
              "Epoch 11/15 - Validation:   0%|          | 0/117 [00:00<?, ?it/s]"
            ]
          },
          "metadata": {},
          "output_type": "display_data"
        },
        {
          "name": "stdout",
          "output_type": "stream",
          "text": [
            "Epoch 11/15, Loss: 0.7716, Acc: 0.6752, Prec: 0.6890, Rec: 0.6405, F1: 0.6639\n",
            "Epoch 11 completed in 0m 6s\n"
          ]
        },
        {
          "data": {
            "application/vnd.jupyter.widget-view+json": {
              "model_id": "fefae43dab8e47818bd87e9b7abc4290",
              "version_major": 2,
              "version_minor": 0
            },
            "text/plain": [
              "Epoch 12/15 - Training:   0%|          | 0/469 [00:00<?, ?it/s]"
            ]
          },
          "metadata": {},
          "output_type": "display_data"
        },
        {
          "data": {
            "application/vnd.jupyter.widget-view+json": {
              "model_id": "810f822df47b4796bd9828152174cf97",
              "version_major": 2,
              "version_minor": 0
            },
            "text/plain": [
              "Epoch 12/15 - Validation:   0%|          | 0/117 [00:00<?, ?it/s]"
            ]
          },
          "metadata": {},
          "output_type": "display_data"
        },
        {
          "name": "stdout",
          "output_type": "stream",
          "text": [
            "Epoch 12/15, Loss: 0.8275, Acc: 0.6693, Prec: 0.6714, Rec: 0.6653, F1: 0.6684\n",
            "Epoch 12 completed in 0m 6s\n"
          ]
        },
        {
          "data": {
            "application/vnd.jupyter.widget-view+json": {
              "model_id": "44e4ce162b314dfd883a1467d69b2558",
              "version_major": 2,
              "version_minor": 0
            },
            "text/plain": [
              "Epoch 13/15 - Training:   0%|          | 0/469 [00:00<?, ?it/s]"
            ]
          },
          "metadata": {},
          "output_type": "display_data"
        },
        {
          "data": {
            "application/vnd.jupyter.widget-view+json": {
              "model_id": "b3cd2396663b45b2a946e7964f93bffd",
              "version_major": 2,
              "version_minor": 0
            },
            "text/plain": [
              "Epoch 13/15 - Validation:   0%|          | 0/117 [00:00<?, ?it/s]"
            ]
          },
          "metadata": {},
          "output_type": "display_data"
        },
        {
          "name": "stdout",
          "output_type": "stream",
          "text": [
            "Epoch 13/15, Loss: 0.8326, Acc: 0.6771, Prec: 0.6852, Rec: 0.6571, F1: 0.6708\n",
            "Epoch 13 completed in 0m 6s\n"
          ]
        },
        {
          "data": {
            "application/vnd.jupyter.widget-view+json": {
              "model_id": "46fd243bdfb54112b2ebbd73f9bfde58",
              "version_major": 2,
              "version_minor": 0
            },
            "text/plain": [
              "Epoch 14/15 - Training:   0%|          | 0/469 [00:00<?, ?it/s]"
            ]
          },
          "metadata": {},
          "output_type": "display_data"
        },
        {
          "data": {
            "application/vnd.jupyter.widget-view+json": {
              "model_id": "1812d59dad4e4924a048bb56c72425b8",
              "version_major": 2,
              "version_minor": 0
            },
            "text/plain": [
              "Epoch 14/15 - Validation:   0%|          | 0/117 [00:00<?, ?it/s]"
            ]
          },
          "metadata": {},
          "output_type": "display_data"
        },
        {
          "name": "stdout",
          "output_type": "stream",
          "text": [
            "Epoch 14/15, Loss: 0.8360, Acc: 0.6820, Prec: 0.6963, Rec: 0.6475, F1: 0.6710\n",
            "Epoch 14 completed in 0m 6s\n"
          ]
        },
        {
          "data": {
            "application/vnd.jupyter.widget-view+json": {
              "model_id": "0c1b6cb02c7249e0989ff4f87937f733",
              "version_major": 2,
              "version_minor": 0
            },
            "text/plain": [
              "Epoch 15/15 - Training:   0%|          | 0/469 [00:00<?, ?it/s]"
            ]
          },
          "metadata": {},
          "output_type": "display_data"
        },
        {
          "data": {
            "application/vnd.jupyter.widget-view+json": {
              "model_id": "4d345fb72ce6404bb2511e00aad1c6c4",
              "version_major": 2,
              "version_minor": 0
            },
            "text/plain": [
              "Epoch 15/15 - Validation:   0%|          | 0/117 [00:00<?, ?it/s]"
            ]
          },
          "metadata": {},
          "output_type": "display_data"
        },
        {
          "name": "stdout",
          "output_type": "stream",
          "text": [
            "Epoch 15/15, Loss: 0.7195, Acc: 0.6677, Prec: 0.6535, Rec: 0.7165, F1: 0.6835\n",
            "Epoch 15 completed in 0m 6s\n",
            "Total training time: 1m 26s\n",
            "Best F1 score: 0.6991 achieved at epoch 3\n"
          ]
        }
      ],
      "source": [
        "train_eval(model=model_pretrained,\n",
        "           optimizer=optimizer,\n",
        "           train_dataloader=train_dataloader_bert,\n",
        "           val_dataloader=test_dataloader_bert,\n",
        "           criterion=criterion,\n",
        "           device=device,\n",
        "           num_epochs=num_epochs,\n",
        "           save_dir='best_bilstm_false')"
      ]
    },
    {
      "cell_type": "markdown",
      "metadata": {
        "id": "Nl_DoQw0oGxl"
      },
      "source": [
        "Теперь веса заморозим"
      ]
    },
    {
      "cell_type": "code",
      "execution_count": null,
      "metadata": {
        "id": "6RVmGFpwoGxl"
      },
      "outputs": [],
      "source": [
        "freeze = True\n",
        "model_pretrained = BiLSTMPretrainedModel(embedding_matrix, HIDDEN_DIM, OUTPUT_DIM, pad_idx, freeze)\n",
        "optimizer = AdamW(model_pretrained.parameters(), lr=1e-4)"
      ]
    },
    {
      "cell_type": "code",
      "execution_count": null,
      "metadata": {
        "colab": {
          "referenced_widgets": [
            "8be4082866944d18a1241faf25007fc8",
            "3cabbc6a89994c4a8fffdab6c5ee353e",
            "7bc1b03587994712a68939dd99b52f40",
            "e6ef039e16f74ba39a950e75d0528267",
            "9a300bab1c9d46bd8d9f7dff4b353b0d",
            "251157cc89d442e78410253d9c851ae2",
            "32150fb2626740da8333dae663cf64ab",
            "335e362a839c41e08b62c68f34951f5b",
            "b5ed280713c048a2ae853d969207e06f",
            "fa646c0d361541d1b0dcf0b41eb40c4f",
            "b2c75b3597164fedb7782c0c26a2e1cf",
            "64c0f157f9e2412bb685a11ef0c98522",
            "a3cdb6b303af4916b369c2d27a68e040",
            "78364b5522c6441c92222a30b3027451",
            "3122ee936d8a4865961f3ad93d3cd2c2",
            "2fd8300a8aa240cbb89c4b3e86692b9b",
            "acb39301096842a4ad377657759d873e",
            "fe1998b41c3d4b42b3ba11baba10e5ec",
            "cf538cb966b64406b0c8d2f87203210c",
            "2625f2e9a2294e12bb07b76ee6253d33",
            "8571b0f065ff454cb2eb49cbb2258920",
            "871c9d2569564f05b3cd0eea63f434af",
            "320e623909254cde8a21a896a0e3bb50",
            "c3b459df54b047b3ba70770a5aaf95fd",
            "77a0b298d76b4cb18723b43fabc3d7fa",
            "500f0696603d494ea249b2e5f8c5ab23",
            "2e1db9032f9848b98587455bc8bd6546",
            "33b09d1801b147efbcad2a7cc33b1d1f",
            "ee8dea11878744ab8fb06e0a0f980eba",
            "264193fb812245e38815891ce5083bc2"
          ]
        },
        "id": "yqZjdz5CoGxl",
        "outputId": "b204c70b-4aa7-4863-d8d8-d2ac5fbde202"
      },
      "outputs": [
        {
          "name": "stdout",
          "output_type": "stream",
          "text": [
            "Создаем директорию...\n",
            "Успешно создали директорию!\n"
          ]
        },
        {
          "data": {
            "application/vnd.jupyter.widget-view+json": {
              "model_id": "8be4082866944d18a1241faf25007fc8",
              "version_major": 2,
              "version_minor": 0
            },
            "text/plain": [
              "Epoch 1/15 - Training:   0%|          | 0/469 [00:00<?, ?it/s]"
            ]
          },
          "metadata": {},
          "output_type": "display_data"
        },
        {
          "data": {
            "application/vnd.jupyter.widget-view+json": {
              "model_id": "3cabbc6a89994c4a8fffdab6c5ee353e",
              "version_major": 2,
              "version_minor": 0
            },
            "text/plain": [
              "Epoch 1/15 - Validation:   0%|          | 0/117 [00:00<?, ?it/s]"
            ]
          },
          "metadata": {},
          "output_type": "display_data"
        },
        {
          "name": "stdout",
          "output_type": "stream",
          "text": [
            "Epoch 1/15, Loss: 0.6931, Acc: 0.5008, Prec: 0.5008, Rec: 1.0000, F1: 0.6674\n",
            "Best model saved with F1: 0.6674\n",
            "Epoch 1 completed in 0m 6s\n"
          ]
        },
        {
          "data": {
            "application/vnd.jupyter.widget-view+json": {
              "model_id": "7bc1b03587994712a68939dd99b52f40",
              "version_major": 2,
              "version_minor": 0
            },
            "text/plain": [
              "Epoch 2/15 - Training:   0%|          | 0/469 [00:00<?, ?it/s]"
            ]
          },
          "metadata": {},
          "output_type": "display_data"
        },
        {
          "data": {
            "application/vnd.jupyter.widget-view+json": {
              "model_id": "e6ef039e16f74ba39a950e75d0528267",
              "version_major": 2,
              "version_minor": 0
            },
            "text/plain": [
              "Epoch 2/15 - Validation:   0%|          | 0/117 [00:00<?, ?it/s]"
            ]
          },
          "metadata": {},
          "output_type": "display_data"
        },
        {
          "name": "stdout",
          "output_type": "stream",
          "text": [
            "Epoch 2/15, Loss: 0.6928, Acc: 0.5008, Prec: 0.5008, Rec: 1.0000, F1: 0.6674\n",
            "Epoch 2 completed in 0m 6s\n"
          ]
        },
        {
          "data": {
            "application/vnd.jupyter.widget-view+json": {
              "model_id": "9a300bab1c9d46bd8d9f7dff4b353b0d",
              "version_major": 2,
              "version_minor": 0
            },
            "text/plain": [
              "Epoch 3/15 - Training:   0%|          | 0/469 [00:00<?, ?it/s]"
            ]
          },
          "metadata": {},
          "output_type": "display_data"
        },
        {
          "data": {
            "application/vnd.jupyter.widget-view+json": {
              "model_id": "251157cc89d442e78410253d9c851ae2",
              "version_major": 2,
              "version_minor": 0
            },
            "text/plain": [
              "Epoch 3/15 - Validation:   0%|          | 0/117 [00:00<?, ?it/s]"
            ]
          },
          "metadata": {},
          "output_type": "display_data"
        },
        {
          "name": "stdout",
          "output_type": "stream",
          "text": [
            "Epoch 3/15, Loss: 0.6912, Acc: 0.5115, Prec: 0.6608, Rec: 0.0504, F1: 0.0937\n",
            "Epoch 3 completed in 0m 6s\n"
          ]
        },
        {
          "data": {
            "application/vnd.jupyter.widget-view+json": {
              "model_id": "32150fb2626740da8333dae663cf64ab",
              "version_major": 2,
              "version_minor": 0
            },
            "text/plain": [
              "Epoch 4/15 - Training:   0%|          | 0/469 [00:00<?, ?it/s]"
            ]
          },
          "metadata": {},
          "output_type": "display_data"
        },
        {
          "data": {
            "application/vnd.jupyter.widget-view+json": {
              "model_id": "335e362a839c41e08b62c68f34951f5b",
              "version_major": 2,
              "version_minor": 0
            },
            "text/plain": [
              "Epoch 4/15 - Validation:   0%|          | 0/117 [00:00<?, ?it/s]"
            ]
          },
          "metadata": {},
          "output_type": "display_data"
        },
        {
          "name": "stdout",
          "output_type": "stream",
          "text": [
            "Epoch 4/15, Loss: 0.6904, Acc: 0.5008, Prec: 0.5008, Rec: 0.9997, F1: 0.6673\n",
            "Epoch 4 completed in 0m 6s\n"
          ]
        },
        {
          "data": {
            "application/vnd.jupyter.widget-view+json": {
              "model_id": "b5ed280713c048a2ae853d969207e06f",
              "version_major": 2,
              "version_minor": 0
            },
            "text/plain": [
              "Epoch 5/15 - Training:   0%|          | 0/469 [00:00<?, ?it/s]"
            ]
          },
          "metadata": {},
          "output_type": "display_data"
        },
        {
          "data": {
            "application/vnd.jupyter.widget-view+json": {
              "model_id": "fa646c0d361541d1b0dcf0b41eb40c4f",
              "version_major": 2,
              "version_minor": 0
            },
            "text/plain": [
              "Epoch 5/15 - Validation:   0%|          | 0/117 [00:00<?, ?it/s]"
            ]
          },
          "metadata": {},
          "output_type": "display_data"
        },
        {
          "name": "stdout",
          "output_type": "stream",
          "text": [
            "Epoch 5/15, Loss: 0.6900, Acc: 0.5106, Prec: 0.6152, Rec: 0.0605, F1: 0.1102\n",
            "Epoch 5 completed in 0m 6s\n"
          ]
        },
        {
          "data": {
            "application/vnd.jupyter.widget-view+json": {
              "model_id": "b2c75b3597164fedb7782c0c26a2e1cf",
              "version_major": 2,
              "version_minor": 0
            },
            "text/plain": [
              "Epoch 6/15 - Training:   0%|          | 0/469 [00:00<?, ?it/s]"
            ]
          },
          "metadata": {},
          "output_type": "display_data"
        },
        {
          "data": {
            "application/vnd.jupyter.widget-view+json": {
              "model_id": "64c0f157f9e2412bb685a11ef0c98522",
              "version_major": 2,
              "version_minor": 0
            },
            "text/plain": [
              "Epoch 6/15 - Validation:   0%|          | 0/117 [00:00<?, ?it/s]"
            ]
          },
          "metadata": {},
          "output_type": "display_data"
        },
        {
          "name": "stdout",
          "output_type": "stream",
          "text": [
            "Epoch 6/15, Loss: 0.6898, Acc: 0.5108, Prec: 0.6239, Rec: 0.0584, F1: 0.1068\n",
            "Epoch 6 completed in 0m 6s\n"
          ]
        },
        {
          "data": {
            "application/vnd.jupyter.widget-view+json": {
              "model_id": "a3cdb6b303af4916b369c2d27a68e040",
              "version_major": 2,
              "version_minor": 0
            },
            "text/plain": [
              "Epoch 7/15 - Training:   0%|          | 0/469 [00:00<?, ?it/s]"
            ]
          },
          "metadata": {},
          "output_type": "display_data"
        },
        {
          "data": {
            "application/vnd.jupyter.widget-view+json": {
              "model_id": "78364b5522c6441c92222a30b3027451",
              "version_major": 2,
              "version_minor": 0
            },
            "text/plain": [
              "Epoch 7/15 - Validation:   0%|          | 0/117 [00:00<?, ?it/s]"
            ]
          },
          "metadata": {},
          "output_type": "display_data"
        },
        {
          "name": "stdout",
          "output_type": "stream",
          "text": [
            "Epoch 7/15, Loss: 0.6897, Acc: 0.5107, Prec: 0.6222, Rec: 0.0584, F1: 0.1068\n",
            "Epoch 7 completed in 0m 6s\n"
          ]
        },
        {
          "data": {
            "application/vnd.jupyter.widget-view+json": {
              "model_id": "3122ee936d8a4865961f3ad93d3cd2c2",
              "version_major": 2,
              "version_minor": 0
            },
            "text/plain": [
              "Epoch 8/15 - Training:   0%|          | 0/469 [00:00<?, ?it/s]"
            ]
          },
          "metadata": {},
          "output_type": "display_data"
        },
        {
          "data": {
            "application/vnd.jupyter.widget-view+json": {
              "model_id": "2fd8300a8aa240cbb89c4b3e86692b9b",
              "version_major": 2,
              "version_minor": 0
            },
            "text/plain": [
              "Epoch 8/15 - Validation:   0%|          | 0/117 [00:00<?, ?it/s]"
            ]
          },
          "metadata": {},
          "output_type": "display_data"
        },
        {
          "name": "stdout",
          "output_type": "stream",
          "text": [
            "Epoch 8/15, Loss: 0.6896, Acc: 0.5108, Prec: 0.6225, Rec: 0.0589, F1: 0.1077\n",
            "Epoch 8 completed in 0m 6s\n"
          ]
        },
        {
          "data": {
            "application/vnd.jupyter.widget-view+json": {
              "model_id": "acb39301096842a4ad377657759d873e",
              "version_major": 2,
              "version_minor": 0
            },
            "text/plain": [
              "Epoch 9/15 - Training:   0%|          | 0/469 [00:00<?, ?it/s]"
            ]
          },
          "metadata": {},
          "output_type": "display_data"
        },
        {
          "data": {
            "application/vnd.jupyter.widget-view+json": {
              "model_id": "fe1998b41c3d4b42b3ba11baba10e5ec",
              "version_major": 2,
              "version_minor": 0
            },
            "text/plain": [
              "Epoch 9/15 - Validation:   0%|          | 0/117 [00:00<?, ?it/s]"
            ]
          },
          "metadata": {},
          "output_type": "display_data"
        },
        {
          "name": "stdout",
          "output_type": "stream",
          "text": [
            "Epoch 9/15, Loss: 0.6895, Acc: 0.5110, Prec: 0.6215, Rec: 0.0600, F1: 0.1094\n",
            "Epoch 9 completed in 0m 6s\n"
          ]
        },
        {
          "data": {
            "application/vnd.jupyter.widget-view+json": {
              "model_id": "cf538cb966b64406b0c8d2f87203210c",
              "version_major": 2,
              "version_minor": 0
            },
            "text/plain": [
              "Epoch 10/15 - Training:   0%|          | 0/469 [00:00<?, ?it/s]"
            ]
          },
          "metadata": {},
          "output_type": "display_data"
        },
        {
          "data": {
            "application/vnd.jupyter.widget-view+json": {
              "model_id": "2625f2e9a2294e12bb07b76ee6253d33",
              "version_major": 2,
              "version_minor": 0
            },
            "text/plain": [
              "Epoch 10/15 - Validation:   0%|          | 0/117 [00:00<?, ?it/s]"
            ]
          },
          "metadata": {},
          "output_type": "display_data"
        },
        {
          "name": "stdout",
          "output_type": "stream",
          "text": [
            "Epoch 10/15, Loss: 0.6895, Acc: 0.5112, Prec: 0.6331, Rec: 0.0571, F1: 0.1047\n",
            "Epoch 10 completed in 0m 6s\n"
          ]
        },
        {
          "data": {
            "application/vnd.jupyter.widget-view+json": {
              "model_id": "8571b0f065ff454cb2eb49cbb2258920",
              "version_major": 2,
              "version_minor": 0
            },
            "text/plain": [
              "Epoch 11/15 - Training:   0%|          | 0/469 [00:00<?, ?it/s]"
            ]
          },
          "metadata": {},
          "output_type": "display_data"
        },
        {
          "data": {
            "application/vnd.jupyter.widget-view+json": {
              "model_id": "871c9d2569564f05b3cd0eea63f434af",
              "version_major": 2,
              "version_minor": 0
            },
            "text/plain": [
              "Epoch 11/15 - Validation:   0%|          | 0/117 [00:00<?, ?it/s]"
            ]
          },
          "metadata": {},
          "output_type": "display_data"
        },
        {
          "name": "stdout",
          "output_type": "stream",
          "text": [
            "Epoch 11/15, Loss: 0.6895, Acc: 0.5115, Prec: 0.6438, Rec: 0.0549, F1: 0.1012\n",
            "Epoch 11 completed in 0m 6s\n"
          ]
        },
        {
          "data": {
            "application/vnd.jupyter.widget-view+json": {
              "model_id": "320e623909254cde8a21a896a0e3bb50",
              "version_major": 2,
              "version_minor": 0
            },
            "text/plain": [
              "Epoch 12/15 - Training:   0%|          | 0/469 [00:00<?, ?it/s]"
            ]
          },
          "metadata": {},
          "output_type": "display_data"
        },
        {
          "data": {
            "application/vnd.jupyter.widget-view+json": {
              "model_id": "c3b459df54b047b3ba70770a5aaf95fd",
              "version_major": 2,
              "version_minor": 0
            },
            "text/plain": [
              "Epoch 12/15 - Validation:   0%|          | 0/117 [00:00<?, ?it/s]"
            ]
          },
          "metadata": {},
          "output_type": "display_data"
        },
        {
          "name": "stdout",
          "output_type": "stream",
          "text": [
            "Epoch 12/15, Loss: 0.6892, Acc: 0.5119, Prec: 0.6498, Rec: 0.0549, F1: 0.1013\n",
            "Epoch 12 completed in 0m 6s\n"
          ]
        },
        {
          "data": {
            "application/vnd.jupyter.widget-view+json": {
              "model_id": "77a0b298d76b4cb18723b43fabc3d7fa",
              "version_major": 2,
              "version_minor": 0
            },
            "text/plain": [
              "Epoch 13/15 - Training:   0%|          | 0/469 [00:00<?, ?it/s]"
            ]
          },
          "metadata": {},
          "output_type": "display_data"
        },
        {
          "data": {
            "application/vnd.jupyter.widget-view+json": {
              "model_id": "500f0696603d494ea249b2e5f8c5ab23",
              "version_major": 2,
              "version_minor": 0
            },
            "text/plain": [
              "Epoch 13/15 - Validation:   0%|          | 0/117 [00:00<?, ?it/s]"
            ]
          },
          "metadata": {},
          "output_type": "display_data"
        },
        {
          "name": "stdout",
          "output_type": "stream",
          "text": [
            "Epoch 13/15, Loss: 0.6893, Acc: 0.5116, Prec: 0.6388, Rec: 0.0571, F1: 0.1048\n",
            "Epoch 13 completed in 0m 6s\n"
          ]
        },
        {
          "data": {
            "application/vnd.jupyter.widget-view+json": {
              "model_id": "2e1db9032f9848b98587455bc8bd6546",
              "version_major": 2,
              "version_minor": 0
            },
            "text/plain": [
              "Epoch 14/15 - Training:   0%|          | 0/469 [00:00<?, ?it/s]"
            ]
          },
          "metadata": {},
          "output_type": "display_data"
        },
        {
          "data": {
            "application/vnd.jupyter.widget-view+json": {
              "model_id": "33b09d1801b147efbcad2a7cc33b1d1f",
              "version_major": 2,
              "version_minor": 0
            },
            "text/plain": [
              "Epoch 14/15 - Validation:   0%|          | 0/117 [00:00<?, ?it/s]"
            ]
          },
          "metadata": {},
          "output_type": "display_data"
        },
        {
          "name": "stdout",
          "output_type": "stream",
          "text": [
            "Epoch 14/15, Loss: 0.6892, Acc: 0.5119, Prec: 0.6453, Rec: 0.0563, F1: 0.1035\n",
            "Epoch 14 completed in 0m 6s\n"
          ]
        },
        {
          "data": {
            "application/vnd.jupyter.widget-view+json": {
              "model_id": "ee8dea11878744ab8fb06e0a0f980eba",
              "version_major": 2,
              "version_minor": 0
            },
            "text/plain": [
              "Epoch 15/15 - Training:   0%|          | 0/469 [00:00<?, ?it/s]"
            ]
          },
          "metadata": {},
          "output_type": "display_data"
        },
        {
          "data": {
            "application/vnd.jupyter.widget-view+json": {
              "model_id": "264193fb812245e38815891ce5083bc2",
              "version_major": 2,
              "version_minor": 0
            },
            "text/plain": [
              "Epoch 15/15 - Validation:   0%|          | 0/117 [00:00<?, ?it/s]"
            ]
          },
          "metadata": {},
          "output_type": "display_data"
        },
        {
          "name": "stdout",
          "output_type": "stream",
          "text": [
            "Epoch 15/15, Loss: 0.6891, Acc: 0.5122, Prec: 0.6520, Rec: 0.0555, F1: 0.1022\n",
            "Epoch 15 completed in 0m 6s\n",
            "Total training time: 1m 24s\n",
            "Best F1 score: 0.6674 achieved at epoch 1\n"
          ]
        }
      ],
      "source": [
        "train_eval(model=model_pretrained,\n",
        "           optimizer=optimizer,\n",
        "           train_dataloader=train_dataloader_bert,\n",
        "           val_dataloader=test_dataloader_bert,\n",
        "           criterion=criterion,\n",
        "           device=device,\n",
        "           num_epochs=num_epochs,\n",
        "           save_dir='best_bilstm_true')"
      ]
    }
  ],
  "metadata": {
    "kernelspec": {
      "display_name": "Python 3 (ipykernel)",
      "language": "python",
      "name": "python3"
    },
    "language_info": {
      "codemirror_mode": {
        "name": "ipython",
        "version": 3
      },
      "file_extension": ".py",
      "mimetype": "text/x-python",
      "name": "python",
      "nbconvert_exporter": "python",
      "pygments_lexer": "ipython3",
      "version": "3.9.13"
    },
    "colab": {
      "provenance": [],
      "toc_visible": true
    }
  },
  "nbformat": 4,
  "nbformat_minor": 0
}
