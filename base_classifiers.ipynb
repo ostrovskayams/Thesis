{
  "nbformat": 4,
  "nbformat_minor": 0,
  "metadata": {
    "colab": {
      "provenance": [],
      "toc_visible": true
    },
    "kernelspec": {
      "name": "python3",
      "display_name": "Python 3"
    },
    "language_info": {
      "name": "python"
    }
  },
  "cells": [
    {
      "cell_type": "code",
      "execution_count": null,
      "metadata": {
        "id": "X204NsZwOy77"
      },
      "outputs": [],
      "source": []
    },
    {
      "cell_type": "code",
      "source": [
        "import pandas as pd"
      ],
      "metadata": {
        "id": "MrfILVsRN98N"
      },
      "execution_count": null,
      "outputs": []
    },
    {
      "cell_type": "markdown",
      "metadata": {
        "id": "-8IbgrT52sxY"
      },
      "source": [
        "## SVM"
      ]
    },
    {
      "cell_type": "code",
      "execution_count": null,
      "metadata": {
        "colab": {
          "base_uri": "https://localhost:8080/",
          "height": 597
        },
        "id": "jlqS02fmonvK",
        "outputId": "ce7ec30d-3a24-45d6-f532-bfad325840e5"
      },
      "outputs": [
        {
          "data": {
            "application/vnd.google.colaboratory.intrinsic+json": {
              "summary": "{\n  \"name\": \"df\",\n  \"rows\": 30000,\n  \"fields\": [\n    {\n      \"column\": \"text\",\n      \"properties\": {\n        \"dtype\": \"string\",\n        \"num_unique_values\": 30000,\n        \"samples\": [\n          \"\\u0410 \\u0447\\u0442\\u043e \\u0442\\u0430\\u043c \\u043d\\u043e\\u0447\\u044c\\u044e \\u0442\\u0432\\u043e\\u0440\\u0438\\u0442\\u0441\\u044f? \\u0421\\u0443\\u043d\\u0435\\u0448\\u044c\\u0441\\u044f, \\u0438 \\u0441\\u043e\\u0436\\u0440\\u0443\\u0442 \\u0436\\u0435 \\u0437\\u0430 \\u0437\\u0434\\u043e\\u0440\\u043e\\u0432\\u043e \\u0436\\u0438\\u0432\\u0451\\u0448\\u044c.\",\n          \"\\u0421\\u043e\\u0442\\u0440\\u0443\\u0434\\u043d\\u0438\\u043a \\u0437\\u043e\\u043e\\u043f\\u0430\\u0440\\u043a\\u0430 \\u0431\\u043b\\u043e\\u043d\\u0434\\u0438\\u043d\\u043a\\u0435: \\u00ab\\u0414\\u0435\\u0432\\u0443\\u0448\\u043a\\u0430! \\u041d\\u0435 \\u043d\\u0430\\u0434\\u043e \\u0442\\u0430\\u043a \\u043d\\u0430\\u0441\\u0442\\u043e\\u0439\\u0447\\u0438\\u0432\\u043e \\u043a\\u043e\\u0440\\u043c\\u0438\\u0442\\u044c \\u0431\\u0435\\u0433\\u0435\\u043c\\u043e\\u0442\\u0430 \\u043c\\u043e\\u0440\\u043e\\u0436\\u0435\\u043d\\u044b\\u043c, \\u0443 \\u043d\\u0435\\u0433\\u043e \\u0433\\u043e\\u043b\\u043e\\u0432\\u0430 \\u0441 \\u0434\\u0440\\u0443\\u0433\\u043e\\u0439 \\u0441\\u0442\\u043e\\u0440\\u043e\\u043d\\u044b!\\u00bb\",\n          \"\\u0411\\u043b\\u0430\\u0433\\u043e\\u0434\\u0430\\u0440\\u044f \\u043a\\u043d\\u0438\\u0433\\u0435 \\u041d\\u043e\\u0441\\u043e\\u0432\\u0430 \\u041d\\u0435\\u0437\\u043d\\u0430\\u0439\\u043a\\u0430 \\u043d\\u0430 \\u043b\\u0443\\u043d\\u0435, \\u044f \\u0435\\u0449\\u0435 \\u0432 \\u043d\\u0430\\u0447\\u0430\\u043b\\u044c\\u043d\\u044b\\u0445 \\u043a\\u043b\\u0430\\u0441\\u0441\\u0430\\u0445 \\u043f\\u043e\\u043d\\u044f\\u043b \\u043e\\u0441\\u043d\\u043e\\u0432\\u043d\\u044b\\u0435 \\u043f\\u0440\\u0438\\u043d\\u0446\\u0438\\u043f\\u044b \\u043a\\u0430\\u043f\\u0438\\u0442\\u0430\\u043b\\u0438\\u0437\\u043c\\u0430. \\u0410 \\u0432\\u0435\\u0434\\u044c \\u043f\\u0440\\u0438\\u0433\\u043e\\u0434\\u0438\\u043b\\u043e\\u0441\\u044c \\u0447\\u0435\\u0440\\u0435\\u0437 \\u0441\\u0442\\u043e\\u043b\\u044c\\u043a\\u043e \\u043b\\u0435\\u0442, \\u0447\\u044c\\u0451\\u0440\\u0442 \\u043f\\u043e\\u0431\\u044c\\u0435\\u0440\\u0438!\"\n        ],\n        \"semantic_type\": \"\",\n        \"description\": \"\"\n      }\n    },\n    {\n      \"column\": \"is_joke\",\n      \"properties\": {\n        \"dtype\": \"number\",\n        \"std\": 0,\n        \"min\": 0,\n        \"max\": 1,\n        \"num_unique_values\": 2,\n        \"samples\": [\n          1,\n          0\n        ],\n        \"semantic_type\": \"\",\n        \"description\": \"\"\n      }\n    },\n    {\n      \"column\": \"clean_text\",\n      \"properties\": {\n        \"dtype\": \"string\",\n        \"num_unique_values\": 29999,\n        \"samples\": [\n          \"\\u0430 \\u0447\\u0442\\u043e \\u0442\\u0430\\u043c \\u043d\\u043e\\u0447\\u044c\\u044e \\u0442\\u0432\\u043e\\u0440\\u0438\\u0442\\u0441\\u044f \\u0441\\u0443\\u043d\\u0435\\u0448\\u044c\\u0441\\u044f \\u0438 \\u0441\\u043e\\u0436\\u0440\\u0443\\u0442 \\u0436\\u0435 \\u0437\\u0430 \\u0437\\u0434\\u043e\\u0440\\u043e\\u0432\\u043e \\u0436\\u0438\\u0432\\u0451\\u0448\\u044c\",\n          \"\\u0441\\u043e\\u0442\\u0440\\u0443\\u0434\\u043d\\u0438\\u043a \\u0437\\u043e\\u043e\\u043f\\u0430\\u0440\\u043a\\u0430 \\u0431\\u043b\\u043e\\u043d\\u0434\\u0438\\u043d\\u043a\\u0435 \\u00ab\\u0434\\u0435\\u0432\\u0443\\u0448\\u043a\\u0430 \\u043d\\u0435 \\u043d\\u0430\\u0434\\u043e \\u0442\\u0430\\u043a \\u043d\\u0430\\u0441\\u0442\\u043e\\u0439\\u0447\\u0438\\u0432\\u043e \\u043a\\u043e\\u0440\\u043c\\u0438\\u0442\\u044c \\u0431\\u0435\\u0433\\u0435\\u043c\\u043e\\u0442\\u0430 \\u043c\\u043e\\u0440\\u043e\\u0436\\u0435\\u043d\\u044b\\u043c \\u0443 \\u043d\\u0435\\u0433\\u043e \\u0433\\u043e\\u043b\\u043e\\u0432\\u0430 \\u0441 \\u0434\\u0440\\u0443\\u0433\\u043e\\u0439 \\u0441\\u0442\\u043e\\u0440\\u043e\\u043d\\u044b\\u00bb\"\n        ],\n        \"semantic_type\": \"\",\n        \"description\": \"\"\n      }\n    },\n    {\n      \"column\": \"lemmas\",\n      \"properties\": {\n        \"dtype\": \"string\",\n        \"num_unique_values\": 29996,\n        \"samples\": [\n          \"\\u043d\\u043e\\u0447\\u044c \\u0442\\u0432\\u043e\\u0440\\u0438\\u0442\\u044c\\u0441\\u044f \\u0441\\u0443\\u043d\\u0435\\u0448\\u044c\\u0441\\u044f \\u0441\\u043e\\u0436\\u0440\\u0430\\u0442\\u044c \\u0437\\u0434\\u043e\\u0440\\u043e\\u0432\\u043e \\u0436\\u0438\\u0432\\u0451\\u0448\\u044c\",\n          \"\\u043a\\u0430\\u0437\\u0430\\u0442\\u044c\\u0441\\u044f \\u0431\\u043e\\u043b\\u044c\\u0448\\u0438\\u043d\\u0441\\u0442\\u0432\\u043e \\u0441\\u0442\\u0443\\u0434\\u0435\\u043d\\u0442 \\u0431\\u044b\\u0442\\u044c \\u0441\\u0432\\u043e\\u0439 \\u0431\\u0435\\u043b\\u044b\\u0439 \\u0432\\u043e\\u0440\\u043e\\u043d\\u0430\"\n        ],\n        \"semantic_type\": \"\",\n        \"description\": \"\"\n      }\n    }\n  ]\n}",
              "type": "dataframe",
              "variable_name": "df"
            },
            "text/html": [
              "\n",
              "  <div id=\"df-554d5f0a-dc16-41e2-a25a-9592df43d2b5\" class=\"colab-df-container\">\n",
              "    <div>\n",
              "<style scoped>\n",
              "    .dataframe tbody tr th:only-of-type {\n",
              "        vertical-align: middle;\n",
              "    }\n",
              "\n",
              "    .dataframe tbody tr th {\n",
              "        vertical-align: top;\n",
              "    }\n",
              "\n",
              "    .dataframe thead th {\n",
              "        text-align: right;\n",
              "    }\n",
              "</style>\n",
              "<table border=\"1\" class=\"dataframe\">\n",
              "  <thead>\n",
              "    <tr style=\"text-align: right;\">\n",
              "      <th></th>\n",
              "      <th>text</th>\n",
              "      <th>is_joke</th>\n",
              "      <th>clean_text</th>\n",
              "      <th>lemmas</th>\n",
              "    </tr>\n",
              "  </thead>\n",
              "  <tbody>\n",
              "    <tr>\n",
              "      <th>0</th>\n",
              "      <td>Да все давно пора с этими дорожниками... В оди...</td>\n",
              "      <td>0</td>\n",
              "      <td>да все давно пора с этими дорожниками в один к...</td>\n",
              "      <td>давно пора этот дорожник котёл сборная россия ...</td>\n",
              "    </tr>\n",
              "    <tr>\n",
              "      <th>1</th>\n",
              "      <td>-лада калина теперь с музыкальной стереосистем...</td>\n",
              "      <td>0</td>\n",
              "      <td>лада калина теперь с музыкальной стереосистемо...</td>\n",
              "      <td>лада калина музыкальный стереосистема помирать...</td>\n",
              "    </tr>\n",
              "    <tr>\n",
              "      <th>2</th>\n",
              "      <td>А вы разве программист? Вам до программиста, к...</td>\n",
              "      <td>0</td>\n",
              "      <td>а вы разве программист вам до программиста как...</td>\n",
              "      <td>программист программист луна рак учиться учиться</td>\n",
              "    </tr>\n",
              "    <tr>\n",
              "      <th>3</th>\n",
              "      <td>Отборочный матч чемпионата Европы-2012. Сборна...</td>\n",
              "      <td>0</td>\n",
              "      <td>отборочный матч чемпионата европы сборная росс...</td>\n",
              "      <td>отборочный матч чемпионат европа сборная росси...</td>\n",
              "    </tr>\n",
              "    <tr>\n",
              "      <th>4</th>\n",
              "      <td>В центре коррупционного скандала - ФГУП \"Сверд...</td>\n",
              "      <td>0</td>\n",
              "      <td>в центре коррупционного скандала фгуп свердлов...</td>\n",
              "      <td>центр коррупционный скандал фгуп свердловскавт...</td>\n",
              "    </tr>\n",
              "    <tr>\n",
              "      <th>...</th>\n",
              "      <td>...</td>\n",
              "      <td>...</td>\n",
              "      <td>...</td>\n",
              "      <td>...</td>\n",
              "    </tr>\n",
              "    <tr>\n",
              "      <th>29995</th>\n",
              "      <td>Движение за честные выборы назначило акцию про...</td>\n",
              "      <td>1</td>\n",
              "      <td>движение за честные выборы назначило акцию про...</td>\n",
              "      <td>движение честной выбор назначить акция протест...</td>\n",
              "    </tr>\n",
              "    <tr>\n",
              "      <th>29996</th>\n",
              "      <td>«Ты должен меня отодрать» © Этикетка</td>\n",
              "      <td>1</td>\n",
              "      <td>«ты должен меня отодрать» © этикетка</td>\n",
              "      <td>\" ты должный отодрать \" © этикетка</td>\n",
              "    </tr>\n",
              "    <tr>\n",
              "      <th>29997</th>\n",
              "      <td>- Здравствуйте! Мы из TV6, проводим опрос, - в...</td>\n",
              "      <td>1</td>\n",
              "      <td>здравствуйте мы из tv проводим опрос вы верите...</td>\n",
              "      <td>здравствовать tv проводить опрос верить конец ...</td>\n",
              "    </tr>\n",
              "    <tr>\n",
              "      <th>29998</th>\n",
              "      <td>Николай Валуев живёт на третьем этаже. И немно...</td>\n",
              "      <td>1</td>\n",
              "      <td>николай валуев живёт на третьем этаже и немнож...</td>\n",
              "      <td>николай валуев живёт третий этаж немножко четв...</td>\n",
              "    </tr>\n",
              "    <tr>\n",
              "      <th>29999</th>\n",
              "      <td>Мигалки ездят по встречке чтобы создать иллюзи...</td>\n",
              "      <td>1</td>\n",
              "      <td>мигалки ездят по встречке чтобы создать иллюзи...</td>\n",
              "      <td>мигалки ездить встречка создать иллюзия минист...</td>\n",
              "    </tr>\n",
              "  </tbody>\n",
              "</table>\n",
              "<p>30000 rows × 4 columns</p>\n",
              "</div>\n",
              "    <div class=\"colab-df-buttons\">\n",
              "\n",
              "  <div class=\"colab-df-container\">\n",
              "    <button class=\"colab-df-convert\" onclick=\"convertToInteractive('df-554d5f0a-dc16-41e2-a25a-9592df43d2b5')\"\n",
              "            title=\"Convert this dataframe to an interactive table.\"\n",
              "            style=\"display:none;\">\n",
              "\n",
              "  <svg xmlns=\"http://www.w3.org/2000/svg\" height=\"24px\" viewBox=\"0 -960 960 960\">\n",
              "    <path d=\"M120-120v-720h720v720H120Zm60-500h600v-160H180v160Zm220 220h160v-160H400v160Zm0 220h160v-160H400v160ZM180-400h160v-160H180v160Zm440 0h160v-160H620v160ZM180-180h160v-160H180v160Zm440 0h160v-160H620v160Z\"/>\n",
              "  </svg>\n",
              "    </button>\n",
              "\n",
              "  <style>\n",
              "    .colab-df-container {\n",
              "      display:flex;\n",
              "      gap: 12px;\n",
              "    }\n",
              "\n",
              "    .colab-df-convert {\n",
              "      background-color: #E8F0FE;\n",
              "      border: none;\n",
              "      border-radius: 50%;\n",
              "      cursor: pointer;\n",
              "      display: none;\n",
              "      fill: #1967D2;\n",
              "      height: 32px;\n",
              "      padding: 0 0 0 0;\n",
              "      width: 32px;\n",
              "    }\n",
              "\n",
              "    .colab-df-convert:hover {\n",
              "      background-color: #E2EBFA;\n",
              "      box-shadow: 0px 1px 2px rgba(60, 64, 67, 0.3), 0px 1px 3px 1px rgba(60, 64, 67, 0.15);\n",
              "      fill: #174EA6;\n",
              "    }\n",
              "\n",
              "    .colab-df-buttons div {\n",
              "      margin-bottom: 4px;\n",
              "    }\n",
              "\n",
              "    [theme=dark] .colab-df-convert {\n",
              "      background-color: #3B4455;\n",
              "      fill: #D2E3FC;\n",
              "    }\n",
              "\n",
              "    [theme=dark] .colab-df-convert:hover {\n",
              "      background-color: #434B5C;\n",
              "      box-shadow: 0px 1px 3px 1px rgba(0, 0, 0, 0.15);\n",
              "      filter: drop-shadow(0px 1px 2px rgba(0, 0, 0, 0.3));\n",
              "      fill: #FFFFFF;\n",
              "    }\n",
              "  </style>\n",
              "\n",
              "    <script>\n",
              "      const buttonEl =\n",
              "        document.querySelector('#df-554d5f0a-dc16-41e2-a25a-9592df43d2b5 button.colab-df-convert');\n",
              "      buttonEl.style.display =\n",
              "        google.colab.kernel.accessAllowed ? 'block' : 'none';\n",
              "\n",
              "      async function convertToInteractive(key) {\n",
              "        const element = document.querySelector('#df-554d5f0a-dc16-41e2-a25a-9592df43d2b5');\n",
              "        const dataTable =\n",
              "          await google.colab.kernel.invokeFunction('convertToInteractive',\n",
              "                                                    [key], {});\n",
              "        if (!dataTable) return;\n",
              "\n",
              "        const docLinkHtml = 'Like what you see? Visit the ' +\n",
              "          '<a target=\"_blank\" href=https://colab.research.google.com/notebooks/data_table.ipynb>data table notebook</a>'\n",
              "          + ' to learn more about interactive tables.';\n",
              "        element.innerHTML = '';\n",
              "        dataTable['output_type'] = 'display_data';\n",
              "        await google.colab.output.renderOutput(dataTable, element);\n",
              "        const docLink = document.createElement('div');\n",
              "        docLink.innerHTML = docLinkHtml;\n",
              "        element.appendChild(docLink);\n",
              "      }\n",
              "    </script>\n",
              "  </div>\n",
              "\n",
              "\n",
              "<div id=\"df-cffed57c-c4d1-4ecf-898f-59909d4fb26f\">\n",
              "  <button class=\"colab-df-quickchart\" onclick=\"quickchart('df-cffed57c-c4d1-4ecf-898f-59909d4fb26f')\"\n",
              "            title=\"Suggest charts\"\n",
              "            style=\"display:none;\">\n",
              "\n",
              "<svg xmlns=\"http://www.w3.org/2000/svg\" height=\"24px\"viewBox=\"0 0 24 24\"\n",
              "     width=\"24px\">\n",
              "    <g>\n",
              "        <path d=\"M19 3H5c-1.1 0-2 .9-2 2v14c0 1.1.9 2 2 2h14c1.1 0 2-.9 2-2V5c0-1.1-.9-2-2-2zM9 17H7v-7h2v7zm4 0h-2V7h2v10zm4 0h-2v-4h2v4z\"/>\n",
              "    </g>\n",
              "</svg>\n",
              "  </button>\n",
              "\n",
              "<style>\n",
              "  .colab-df-quickchart {\n",
              "      --bg-color: #E8F0FE;\n",
              "      --fill-color: #1967D2;\n",
              "      --hover-bg-color: #E2EBFA;\n",
              "      --hover-fill-color: #174EA6;\n",
              "      --disabled-fill-color: #AAA;\n",
              "      --disabled-bg-color: #DDD;\n",
              "  }\n",
              "\n",
              "  [theme=dark] .colab-df-quickchart {\n",
              "      --bg-color: #3B4455;\n",
              "      --fill-color: #D2E3FC;\n",
              "      --hover-bg-color: #434B5C;\n",
              "      --hover-fill-color: #FFFFFF;\n",
              "      --disabled-bg-color: #3B4455;\n",
              "      --disabled-fill-color: #666;\n",
              "  }\n",
              "\n",
              "  .colab-df-quickchart {\n",
              "    background-color: var(--bg-color);\n",
              "    border: none;\n",
              "    border-radius: 50%;\n",
              "    cursor: pointer;\n",
              "    display: none;\n",
              "    fill: var(--fill-color);\n",
              "    height: 32px;\n",
              "    padding: 0;\n",
              "    width: 32px;\n",
              "  }\n",
              "\n",
              "  .colab-df-quickchart:hover {\n",
              "    background-color: var(--hover-bg-color);\n",
              "    box-shadow: 0 1px 2px rgba(60, 64, 67, 0.3), 0 1px 3px 1px rgba(60, 64, 67, 0.15);\n",
              "    fill: var(--button-hover-fill-color);\n",
              "  }\n",
              "\n",
              "  .colab-df-quickchart-complete:disabled,\n",
              "  .colab-df-quickchart-complete:disabled:hover {\n",
              "    background-color: var(--disabled-bg-color);\n",
              "    fill: var(--disabled-fill-color);\n",
              "    box-shadow: none;\n",
              "  }\n",
              "\n",
              "  .colab-df-spinner {\n",
              "    border: 2px solid var(--fill-color);\n",
              "    border-color: transparent;\n",
              "    border-bottom-color: var(--fill-color);\n",
              "    animation:\n",
              "      spin 1s steps(1) infinite;\n",
              "  }\n",
              "\n",
              "  @keyframes spin {\n",
              "    0% {\n",
              "      border-color: transparent;\n",
              "      border-bottom-color: var(--fill-color);\n",
              "      border-left-color: var(--fill-color);\n",
              "    }\n",
              "    20% {\n",
              "      border-color: transparent;\n",
              "      border-left-color: var(--fill-color);\n",
              "      border-top-color: var(--fill-color);\n",
              "    }\n",
              "    30% {\n",
              "      border-color: transparent;\n",
              "      border-left-color: var(--fill-color);\n",
              "      border-top-color: var(--fill-color);\n",
              "      border-right-color: var(--fill-color);\n",
              "    }\n",
              "    40% {\n",
              "      border-color: transparent;\n",
              "      border-right-color: var(--fill-color);\n",
              "      border-top-color: var(--fill-color);\n",
              "    }\n",
              "    60% {\n",
              "      border-color: transparent;\n",
              "      border-right-color: var(--fill-color);\n",
              "    }\n",
              "    80% {\n",
              "      border-color: transparent;\n",
              "      border-right-color: var(--fill-color);\n",
              "      border-bottom-color: var(--fill-color);\n",
              "    }\n",
              "    90% {\n",
              "      border-color: transparent;\n",
              "      border-bottom-color: var(--fill-color);\n",
              "    }\n",
              "  }\n",
              "</style>\n",
              "\n",
              "  <script>\n",
              "    async function quickchart(key) {\n",
              "      const quickchartButtonEl =\n",
              "        document.querySelector('#' + key + ' button');\n",
              "      quickchartButtonEl.disabled = true;  // To prevent multiple clicks.\n",
              "      quickchartButtonEl.classList.add('colab-df-spinner');\n",
              "      try {\n",
              "        const charts = await google.colab.kernel.invokeFunction(\n",
              "            'suggestCharts', [key], {});\n",
              "      } catch (error) {\n",
              "        console.error('Error during call to suggestCharts:', error);\n",
              "      }\n",
              "      quickchartButtonEl.classList.remove('colab-df-spinner');\n",
              "      quickchartButtonEl.classList.add('colab-df-quickchart-complete');\n",
              "    }\n",
              "    (() => {\n",
              "      let quickchartButtonEl =\n",
              "        document.querySelector('#df-cffed57c-c4d1-4ecf-898f-59909d4fb26f button');\n",
              "      quickchartButtonEl.style.display =\n",
              "        google.colab.kernel.accessAllowed ? 'block' : 'none';\n",
              "    })();\n",
              "  </script>\n",
              "</div>\n",
              "    </div>\n",
              "  </div>\n"
            ],
            "text/plain": [
              "                                                    text  is_joke  \\\n",
              "0      Да все давно пора с этими дорожниками... В оди...        0   \n",
              "1      -лада калина теперь с музыкальной стереосистем...        0   \n",
              "2      А вы разве программист? Вам до программиста, к...        0   \n",
              "3      Отборочный матч чемпионата Европы-2012. Сборна...        0   \n",
              "4      В центре коррупционного скандала - ФГУП \"Сверд...        0   \n",
              "...                                                  ...      ...   \n",
              "29995  Движение за честные выборы назначило акцию про...        1   \n",
              "29996               «Ты должен меня отодрать» © Этикетка        1   \n",
              "29997  - Здравствуйте! Мы из TV6, проводим опрос, - в...        1   \n",
              "29998  Николай Валуев живёт на третьем этаже. И немно...        1   \n",
              "29999  Мигалки ездят по встречке чтобы создать иллюзи...        1   \n",
              "\n",
              "                                              clean_text  \\\n",
              "0      да все давно пора с этими дорожниками в один к...   \n",
              "1      лада калина теперь с музыкальной стереосистемо...   \n",
              "2      а вы разве программист вам до программиста как...   \n",
              "3      отборочный матч чемпионата европы сборная росс...   \n",
              "4      в центре коррупционного скандала фгуп свердлов...   \n",
              "...                                                  ...   \n",
              "29995  движение за честные выборы назначило акцию про...   \n",
              "29996               «ты должен меня отодрать» © этикетка   \n",
              "29997  здравствуйте мы из tv проводим опрос вы верите...   \n",
              "29998  николай валуев живёт на третьем этаже и немнож...   \n",
              "29999  мигалки ездят по встречке чтобы создать иллюзи...   \n",
              "\n",
              "                                                  lemmas  \n",
              "0      давно пора этот дорожник котёл сборная россия ...  \n",
              "1      лада калина музыкальный стереосистема помирать...  \n",
              "2       программист программист луна рак учиться учиться  \n",
              "3      отборочный матч чемпионат европа сборная росси...  \n",
              "4      центр коррупционный скандал фгуп свердловскавт...  \n",
              "...                                                  ...  \n",
              "29995  движение честной выбор назначить акция протест...  \n",
              "29996                 \" ты должный отодрать \" © этикетка  \n",
              "29997  здравствовать tv проводить опрос верить конец ...  \n",
              "29998  николай валуев живёт третий этаж немножко четв...  \n",
              "29999  мигалки ездить встречка создать иллюзия минист...  \n",
              "\n",
              "[30000 rows x 4 columns]"
            ]
          },
          "execution_count": 4,
          "metadata": {},
          "output_type": "execute_result"
        }
      ],
      "source": [
        "df = pd.read_csv('train_30k.csv', sep='\\t')\n",
        "df"
      ]
    },
    {
      "cell_type": "code",
      "execution_count": null,
      "metadata": {
        "colab": {
          "base_uri": "https://localhost:8080/",
          "height": 597
        },
        "id": "fZT6KwfApMPy",
        "outputId": "35c3f4e4-a250-44fd-c3e4-b2dd4aebc897"
      },
      "outputs": [
        {
          "data": {
            "application/vnd.google.colaboratory.intrinsic+json": {
              "summary": "{\n  \"name\": \"df_\",\n  \"rows\": 7488,\n  \"fields\": [\n    {\n      \"column\": \"text\",\n      \"properties\": {\n        \"dtype\": \"string\",\n        \"num_unique_values\": 7488,\n        \"samples\": [\n          \"\\u0422\\u0430\\u043a \\u0438 \\u0435\\u0441\\u0442\\u044c. \\u041d\\u0430 \\u0417\\u0435\\u043c\\u043b\\u0435 \\u043d\\u0435\\u043b\\u044c\\u0437\\u044f \\u043d\\u0438\\u0447\\u0435\\u0433\\u043e \\u0443\\u043a\\u0440\\u0430\\u0441\\u0442\\u044c. \\u041c\\u043e\\u0436\\u043d\\u043e \\u0442\\u043e\\u043b\\u044c\\u043a\\u043e \\u043f\\u0435\\u0440\\u0435\\u043c\\u0435\\u0441\\u0442\\u0438\\u0442\\u044c.\",\n          \"\\u041a\\u0430\\u043a\\u043e\\u0439 \\u0438\\u0437 \\u043a\\u043e\\u043d\\u044c\\u044f\\u043a\\u043e\\u0432 \\u0432\\u044b \\u043f\\u0440\\u0435\\u0434\\u043f\\u043e\\u0447\\u0438\\u0442\\u0430\\u0435\\u0442\\u0435? -\\u0418\\u0437 \\u0432\\u0441\\u0435\\u0445 \\u043a\\u043e\\u043d\\u044c\\u044f\\u043a\\u043e\\u0432 \\u044f \\u043f\\u0440\\u0435\\u0434\\u043f\\u043e\\u0447\\u0438\\u0442\\u0430\\u044e \\u0432\\u043e\\u0434\\u043a\\u0443!!\",\n          \"\\u0418 \\u043a\\u0430\\u043a \\u043d\\u0430\\u0441 \\u0434\\u043e \\u0441\\u0438\\u0445 \\u043f\\u043e\\u0440 \\u043d\\u0435 \\u0437\\u0430\\u0442\\u0430\\u0431\\u0430\\u043d\\u0438\\u043b\\u0438 \\u0437\\u0430 \\u0441\\u0435\\u043a\\u0441\\u0443\\u0430\\u043b\\u044c\\u043d\\u044b\\u0435 \\u0434\\u043e\\u043c\\u043e\\u0433\\u0430\\u0442\\u0435\\u043b\\u044c\\u0441\\u0442\\u0432\\u0430 \\u043a \\u043c\\u043e\\u0434\\u0435\\u0440\\u0430\\u0442\\u043e\\u0440\\u0443?\"\n        ],\n        \"semantic_type\": \"\",\n        \"description\": \"\"\n      }\n    },\n    {\n      \"column\": \"is_joke\",\n      \"properties\": {\n        \"dtype\": \"number\",\n        \"std\": 0,\n        \"min\": 0,\n        \"max\": 1,\n        \"num_unique_values\": 2,\n        \"samples\": [\n          1,\n          0\n        ],\n        \"semantic_type\": \"\",\n        \"description\": \"\"\n      }\n    },\n    {\n      \"column\": \"clean_text\",\n      \"properties\": {\n        \"dtype\": \"string\",\n        \"num_unique_values\": 7488,\n        \"samples\": [\n          \"\\u0442\\u0430\\u043a \\u0438 \\u0435\\u0441\\u0442\\u044c \\u043d\\u0430 \\u0437\\u0435\\u043c\\u043b\\u0435 \\u043d\\u0435\\u043b\\u044c\\u0437\\u044f \\u043d\\u0438\\u0447\\u0435\\u0433\\u043e \\u0443\\u043a\\u0440\\u0430\\u0441\\u0442\\u044c \\u043c\\u043e\\u0436\\u043d\\u043e \\u0442\\u043e\\u043b\\u044c\\u043a\\u043e \\u043f\\u0435\\u0440\\u0435\\u043c\\u0435\\u0441\\u0442\\u0438\\u0442\\u044c\",\n          \"\\u043a\\u0430\\u043a\\u043e\\u0439 \\u0438\\u0437 \\u043a\\u043e\\u043d\\u044c\\u044f\\u043a\\u043e\\u0432 \\u0432\\u044b \\u043f\\u0440\\u0435\\u0434\\u043f\\u043e\\u0447\\u0438\\u0442\\u0430\\u0435\\u0442\\u0435 \\u0438\\u0437 \\u0432\\u0441\\u0435\\u0445 \\u043a\\u043e\\u043d\\u044c\\u044f\\u043a\\u043e\\u0432 \\u044f \\u043f\\u0440\\u0435\\u0434\\u043f\\u043e\\u0447\\u0438\\u0442\\u0430\\u044e \\u0432\\u043e\\u0434\\u043a\\u0443\"\n        ],\n        \"semantic_type\": \"\",\n        \"description\": \"\"\n      }\n    },\n    {\n      \"column\": \"lemmas\",\n      \"properties\": {\n        \"dtype\": \"string\",\n        \"num_unique_values\": 7488,\n        \"samples\": [\n          \"\\u0437\\u0435\\u043c\\u043b\\u044f \\u0443\\u043a\\u0440\\u0430\\u0441\\u0442\\u044c \\u043f\\u0435\\u0440\\u0435\\u043c\\u0435\\u0441\\u0442\\u0438\\u0442\\u044c\",\n          \"\\u043a\\u043e\\u043d\\u044c\\u044f\\u043a\\u043e\\u0432 \\u043f\\u0440\\u0435\\u0434\\u043f\\u043e\\u0447\\u0438\\u0442\\u0430\\u0442\\u044c \\u043a\\u043e\\u043d\\u044c\\u044f\\u043a\\u043e\\u0432 \\u043f\\u0440\\u0435\\u0434\\u043f\\u043e\\u0447\\u0438\\u0442\\u0430\\u0442\\u044c \\u0432\\u043e\\u0434\\u043a\\u0430\"\n        ],\n        \"semantic_type\": \"\",\n        \"description\": \"\"\n      }\n    }\n  ]\n}",
              "type": "dataframe",
              "variable_name": "df_"
            },
            "text/html": [
              "\n",
              "  <div id=\"df-ca0e0985-7fee-4dfc-abe1-b05f9642fe7b\" class=\"colab-df-container\">\n",
              "    <div>\n",
              "<style scoped>\n",
              "    .dataframe tbody tr th:only-of-type {\n",
              "        vertical-align: middle;\n",
              "    }\n",
              "\n",
              "    .dataframe tbody tr th {\n",
              "        vertical-align: top;\n",
              "    }\n",
              "\n",
              "    .dataframe thead th {\n",
              "        text-align: right;\n",
              "    }\n",
              "</style>\n",
              "<table border=\"1\" class=\"dataframe\">\n",
              "  <thead>\n",
              "    <tr style=\"text-align: right;\">\n",
              "      <th></th>\n",
              "      <th>text</th>\n",
              "      <th>is_joke</th>\n",
              "      <th>clean_text</th>\n",
              "      <th>lemmas</th>\n",
              "    </tr>\n",
              "  </thead>\n",
              "  <tbody>\n",
              "    <tr>\n",
              "      <th>0</th>\n",
              "      <td>Люди и шимпанзе дальше друг от друга - шимпанз...</td>\n",
              "      <td>0</td>\n",
              "      <td>люди и шимпанзе дальше друг от друга шимпанзе ...</td>\n",
              "      <td>человек шимпанзе далёкий друг друга шимпанзе о...</td>\n",
              "    </tr>\n",
              "    <tr>\n",
              "      <th>1</th>\n",
              "      <td>Отгрузил продукцию с отсрочкой платежа, тебе н...</td>\n",
              "      <td>0</td>\n",
              "      <td>отгрузил продукцию с отсрочкой платежа тебе не...</td>\n",
              "      <td>отгрузить продукция отсрочка платёж тебе оплат...</td>\n",
              "    </tr>\n",
              "    <tr>\n",
              "      <th>2</th>\n",
              "      <td>Дочери Путина поступают в ВУЗ конкурс 12 ВУЗ'о...</td>\n",
              "      <td>0</td>\n",
              "      <td>дочери путина поступают в вуз конкурс вузов на...</td>\n",
              "      <td>дочь путин поступать вуз конкурс вуз одно место</td>\n",
              "    </tr>\n",
              "    <tr>\n",
              "      <th>3</th>\n",
              "      <td>Ведь вон, что творится: Пьяные летчики рвутся ...</td>\n",
              "      <td>0</td>\n",
              "      <td>ведь вон что творится пьяные летчики рвутся уп...</td>\n",
              "      <td>вон творится пьяный лётчик рваться управлять с...</td>\n",
              "    </tr>\n",
              "    <tr>\n",
              "      <th>4</th>\n",
              "      <td>знает сила правду да не любит сказывать</td>\n",
              "      <td>0</td>\n",
              "      <td>знает сила правду да не любит сказывать</td>\n",
              "      <td>знать сила правда любить сказывать</td>\n",
              "    </tr>\n",
              "    <tr>\n",
              "      <th>...</th>\n",
              "      <td>...</td>\n",
              "      <td>...</td>\n",
              "      <td>...</td>\n",
              "      <td>...</td>\n",
              "    </tr>\n",
              "    <tr>\n",
              "      <th>7483</th>\n",
              "      <td>На наших глазах женщины стали стремительно пре...</td>\n",
              "      <td>1</td>\n",
              "      <td>на наших глазах женщины стали стремительно пре...</td>\n",
              "      <td>наш глаз женщина стать стремительно превращать...</td>\n",
              "    </tr>\n",
              "    <tr>\n",
              "      <th>7484</th>\n",
              "      <td>- Что вы думаете о значении антикризисных мер ...</td>\n",
              "      <td>1</td>\n",
              "      <td>что вы думаете о значении антикризисных мер пр...</td>\n",
              "      <td>думать значение антикризисный мера правительст...</td>\n",
              "    </tr>\n",
              "    <tr>\n",
              "      <th>7485</th>\n",
              "      <td>Рекламное объявление: Возьмите квартиру в ипот...</td>\n",
              "      <td>1</td>\n",
              "      <td>рекламное объявление возьмите квартиру в ипоте...</td>\n",
              "      <td>рекламный объявление взять квартира ипотека на...</td>\n",
              "    </tr>\n",
              "    <tr>\n",
              "      <th>7486</th>\n",
              "      <td>— Никто не возвращается из путешествий таким, ...</td>\n",
              "      <td>1</td>\n",
              "      <td>— никто не возвращается из путешествий таким к...</td>\n",
              "      <td>— никто возвращаться путешествие такой какой р...</td>\n",
              "    </tr>\n",
              "    <tr>\n",
              "      <th>7487</th>\n",
              "      <td>Лучший (к тому же бесплатный) антиалиазинг - б...</td>\n",
              "      <td>1</td>\n",
              "      <td>лучший к тому же бесплатный антиалиазинг бабуш...</td>\n",
              "      <td>хороший тот бесплатный антиалиазинг бабушкины ...</td>\n",
              "    </tr>\n",
              "  </tbody>\n",
              "</table>\n",
              "<p>7488 rows × 4 columns</p>\n",
              "</div>\n",
              "    <div class=\"colab-df-buttons\">\n",
              "\n",
              "  <div class=\"colab-df-container\">\n",
              "    <button class=\"colab-df-convert\" onclick=\"convertToInteractive('df-ca0e0985-7fee-4dfc-abe1-b05f9642fe7b')\"\n",
              "            title=\"Convert this dataframe to an interactive table.\"\n",
              "            style=\"display:none;\">\n",
              "\n",
              "  <svg xmlns=\"http://www.w3.org/2000/svg\" height=\"24px\" viewBox=\"0 -960 960 960\">\n",
              "    <path d=\"M120-120v-720h720v720H120Zm60-500h600v-160H180v160Zm220 220h160v-160H400v160Zm0 220h160v-160H400v160ZM180-400h160v-160H180v160Zm440 0h160v-160H620v160ZM180-180h160v-160H180v160Zm440 0h160v-160H620v160Z\"/>\n",
              "  </svg>\n",
              "    </button>\n",
              "\n",
              "  <style>\n",
              "    .colab-df-container {\n",
              "      display:flex;\n",
              "      gap: 12px;\n",
              "    }\n",
              "\n",
              "    .colab-df-convert {\n",
              "      background-color: #E8F0FE;\n",
              "      border: none;\n",
              "      border-radius: 50%;\n",
              "      cursor: pointer;\n",
              "      display: none;\n",
              "      fill: #1967D2;\n",
              "      height: 32px;\n",
              "      padding: 0 0 0 0;\n",
              "      width: 32px;\n",
              "    }\n",
              "\n",
              "    .colab-df-convert:hover {\n",
              "      background-color: #E2EBFA;\n",
              "      box-shadow: 0px 1px 2px rgba(60, 64, 67, 0.3), 0px 1px 3px 1px rgba(60, 64, 67, 0.15);\n",
              "      fill: #174EA6;\n",
              "    }\n",
              "\n",
              "    .colab-df-buttons div {\n",
              "      margin-bottom: 4px;\n",
              "    }\n",
              "\n",
              "    [theme=dark] .colab-df-convert {\n",
              "      background-color: #3B4455;\n",
              "      fill: #D2E3FC;\n",
              "    }\n",
              "\n",
              "    [theme=dark] .colab-df-convert:hover {\n",
              "      background-color: #434B5C;\n",
              "      box-shadow: 0px 1px 3px 1px rgba(0, 0, 0, 0.15);\n",
              "      filter: drop-shadow(0px 1px 2px rgba(0, 0, 0, 0.3));\n",
              "      fill: #FFFFFF;\n",
              "    }\n",
              "  </style>\n",
              "\n",
              "    <script>\n",
              "      const buttonEl =\n",
              "        document.querySelector('#df-ca0e0985-7fee-4dfc-abe1-b05f9642fe7b button.colab-df-convert');\n",
              "      buttonEl.style.display =\n",
              "        google.colab.kernel.accessAllowed ? 'block' : 'none';\n",
              "\n",
              "      async function convertToInteractive(key) {\n",
              "        const element = document.querySelector('#df-ca0e0985-7fee-4dfc-abe1-b05f9642fe7b');\n",
              "        const dataTable =\n",
              "          await google.colab.kernel.invokeFunction('convertToInteractive',\n",
              "                                                    [key], {});\n",
              "        if (!dataTable) return;\n",
              "\n",
              "        const docLinkHtml = 'Like what you see? Visit the ' +\n",
              "          '<a target=\"_blank\" href=https://colab.research.google.com/notebooks/data_table.ipynb>data table notebook</a>'\n",
              "          + ' to learn more about interactive tables.';\n",
              "        element.innerHTML = '';\n",
              "        dataTable['output_type'] = 'display_data';\n",
              "        await google.colab.output.renderOutput(dataTable, element);\n",
              "        const docLink = document.createElement('div');\n",
              "        docLink.innerHTML = docLinkHtml;\n",
              "        element.appendChild(docLink);\n",
              "      }\n",
              "    </script>\n",
              "  </div>\n",
              "\n",
              "\n",
              "<div id=\"df-43c147f6-3c90-40d6-9d54-d29ed72c7e85\">\n",
              "  <button class=\"colab-df-quickchart\" onclick=\"quickchart('df-43c147f6-3c90-40d6-9d54-d29ed72c7e85')\"\n",
              "            title=\"Suggest charts\"\n",
              "            style=\"display:none;\">\n",
              "\n",
              "<svg xmlns=\"http://www.w3.org/2000/svg\" height=\"24px\"viewBox=\"0 0 24 24\"\n",
              "     width=\"24px\">\n",
              "    <g>\n",
              "        <path d=\"M19 3H5c-1.1 0-2 .9-2 2v14c0 1.1.9 2 2 2h14c1.1 0 2-.9 2-2V5c0-1.1-.9-2-2-2zM9 17H7v-7h2v7zm4 0h-2V7h2v10zm4 0h-2v-4h2v4z\"/>\n",
              "    </g>\n",
              "</svg>\n",
              "  </button>\n",
              "\n",
              "<style>\n",
              "  .colab-df-quickchart {\n",
              "      --bg-color: #E8F0FE;\n",
              "      --fill-color: #1967D2;\n",
              "      --hover-bg-color: #E2EBFA;\n",
              "      --hover-fill-color: #174EA6;\n",
              "      --disabled-fill-color: #AAA;\n",
              "      --disabled-bg-color: #DDD;\n",
              "  }\n",
              "\n",
              "  [theme=dark] .colab-df-quickchart {\n",
              "      --bg-color: #3B4455;\n",
              "      --fill-color: #D2E3FC;\n",
              "      --hover-bg-color: #434B5C;\n",
              "      --hover-fill-color: #FFFFFF;\n",
              "      --disabled-bg-color: #3B4455;\n",
              "      --disabled-fill-color: #666;\n",
              "  }\n",
              "\n",
              "  .colab-df-quickchart {\n",
              "    background-color: var(--bg-color);\n",
              "    border: none;\n",
              "    border-radius: 50%;\n",
              "    cursor: pointer;\n",
              "    display: none;\n",
              "    fill: var(--fill-color);\n",
              "    height: 32px;\n",
              "    padding: 0;\n",
              "    width: 32px;\n",
              "  }\n",
              "\n",
              "  .colab-df-quickchart:hover {\n",
              "    background-color: var(--hover-bg-color);\n",
              "    box-shadow: 0 1px 2px rgba(60, 64, 67, 0.3), 0 1px 3px 1px rgba(60, 64, 67, 0.15);\n",
              "    fill: var(--button-hover-fill-color);\n",
              "  }\n",
              "\n",
              "  .colab-df-quickchart-complete:disabled,\n",
              "  .colab-df-quickchart-complete:disabled:hover {\n",
              "    background-color: var(--disabled-bg-color);\n",
              "    fill: var(--disabled-fill-color);\n",
              "    box-shadow: none;\n",
              "  }\n",
              "\n",
              "  .colab-df-spinner {\n",
              "    border: 2px solid var(--fill-color);\n",
              "    border-color: transparent;\n",
              "    border-bottom-color: var(--fill-color);\n",
              "    animation:\n",
              "      spin 1s steps(1) infinite;\n",
              "  }\n",
              "\n",
              "  @keyframes spin {\n",
              "    0% {\n",
              "      border-color: transparent;\n",
              "      border-bottom-color: var(--fill-color);\n",
              "      border-left-color: var(--fill-color);\n",
              "    }\n",
              "    20% {\n",
              "      border-color: transparent;\n",
              "      border-left-color: var(--fill-color);\n",
              "      border-top-color: var(--fill-color);\n",
              "    }\n",
              "    30% {\n",
              "      border-color: transparent;\n",
              "      border-left-color: var(--fill-color);\n",
              "      border-top-color: var(--fill-color);\n",
              "      border-right-color: var(--fill-color);\n",
              "    }\n",
              "    40% {\n",
              "      border-color: transparent;\n",
              "      border-right-color: var(--fill-color);\n",
              "      border-top-color: var(--fill-color);\n",
              "    }\n",
              "    60% {\n",
              "      border-color: transparent;\n",
              "      border-right-color: var(--fill-color);\n",
              "    }\n",
              "    80% {\n",
              "      border-color: transparent;\n",
              "      border-right-color: var(--fill-color);\n",
              "      border-bottom-color: var(--fill-color);\n",
              "    }\n",
              "    90% {\n",
              "      border-color: transparent;\n",
              "      border-bottom-color: var(--fill-color);\n",
              "    }\n",
              "  }\n",
              "</style>\n",
              "\n",
              "  <script>\n",
              "    async function quickchart(key) {\n",
              "      const quickchartButtonEl =\n",
              "        document.querySelector('#' + key + ' button');\n",
              "      quickchartButtonEl.disabled = true;  // To prevent multiple clicks.\n",
              "      quickchartButtonEl.classList.add('colab-df-spinner');\n",
              "      try {\n",
              "        const charts = await google.colab.kernel.invokeFunction(\n",
              "            'suggestCharts', [key], {});\n",
              "      } catch (error) {\n",
              "        console.error('Error during call to suggestCharts:', error);\n",
              "      }\n",
              "      quickchartButtonEl.classList.remove('colab-df-spinner');\n",
              "      quickchartButtonEl.classList.add('colab-df-quickchart-complete');\n",
              "    }\n",
              "    (() => {\n",
              "      let quickchartButtonEl =\n",
              "        document.querySelector('#df-43c147f6-3c90-40d6-9d54-d29ed72c7e85 button');\n",
              "      quickchartButtonEl.style.display =\n",
              "        google.colab.kernel.accessAllowed ? 'block' : 'none';\n",
              "    })();\n",
              "  </script>\n",
              "</div>\n",
              "    </div>\n",
              "  </div>\n"
            ],
            "text/plain": [
              "                                                   text  is_joke  \\\n",
              "0     Люди и шимпанзе дальше друг от друга - шимпанз...        0   \n",
              "1     Отгрузил продукцию с отсрочкой платежа, тебе н...        0   \n",
              "2     Дочери Путина поступают в ВУЗ конкурс 12 ВУЗ'о...        0   \n",
              "3     Ведь вон, что творится: Пьяные летчики рвутся ...        0   \n",
              "4               знает сила правду да не любит сказывать        0   \n",
              "...                                                 ...      ...   \n",
              "7483  На наших глазах женщины стали стремительно пре...        1   \n",
              "7484  - Что вы думаете о значении антикризисных мер ...        1   \n",
              "7485  Рекламное объявление: Возьмите квартиру в ипот...        1   \n",
              "7486  — Никто не возвращается из путешествий таким, ...        1   \n",
              "7487  Лучший (к тому же бесплатный) антиалиазинг - б...        1   \n",
              "\n",
              "                                             clean_text  \\\n",
              "0     люди и шимпанзе дальше друг от друга шимпанзе ...   \n",
              "1     отгрузил продукцию с отсрочкой платежа тебе не...   \n",
              "2     дочери путина поступают в вуз конкурс вузов на...   \n",
              "3     ведь вон что творится пьяные летчики рвутся уп...   \n",
              "4               знает сила правду да не любит сказывать   \n",
              "...                                                 ...   \n",
              "7483  на наших глазах женщины стали стремительно пре...   \n",
              "7484  что вы думаете о значении антикризисных мер пр...   \n",
              "7485  рекламное объявление возьмите квартиру в ипоте...   \n",
              "7486  — никто не возвращается из путешествий таким к...   \n",
              "7487  лучший к тому же бесплатный антиалиазинг бабуш...   \n",
              "\n",
              "                                                 lemmas  \n",
              "0     человек шимпанзе далёкий друг друга шимпанзе о...  \n",
              "1     отгрузить продукция отсрочка платёж тебе оплат...  \n",
              "2       дочь путин поступать вуз конкурс вуз одно место  \n",
              "3     вон творится пьяный лётчик рваться управлять с...  \n",
              "4                    знать сила правда любить сказывать  \n",
              "...                                                 ...  \n",
              "7483  наш глаз женщина стать стремительно превращать...  \n",
              "7484  думать значение антикризисный мера правительст...  \n",
              "7485  рекламный объявление взять квартира ипотека на...  \n",
              "7486  — никто возвращаться путешествие такой какой р...  \n",
              "7487  хороший тот бесплатный антиалиазинг бабушкины ...  \n",
              "\n",
              "[7488 rows x 4 columns]"
            ]
          },
          "execution_count": 7,
          "metadata": {},
          "output_type": "execute_result"
        }
      ],
      "source": [
        "df_ = pd.read_csv('test.csv', sep='\\t')\n",
        "df_"
      ]
    },
    {
      "cell_type": "markdown",
      "metadata": {
        "id": "SRD7KeJzrtcA"
      },
      "source": [
        "### TfidfVectorizer"
      ]
    },
    {
      "cell_type": "code",
      "execution_count": null,
      "metadata": {
        "id": "eVo-KSHA2vAU"
      },
      "outputs": [],
      "source": [
        "# данные для обучения\n",
        "\n",
        "X_train = df.lemmas.values\n",
        "y_train = df.is_joke.values"
      ]
    },
    {
      "cell_type": "code",
      "execution_count": null,
      "metadata": {
        "colab": {
          "base_uri": "https://localhost:8080/"
        },
        "id": "4xHJ-unH4j4p",
        "outputId": "c3613481-ff01-4cca-e415-014ebb74cdf1"
      },
      "outputs": [
        {
          "data": {
            "text/plain": [
              "(30000, 7673)"
            ]
          },
          "execution_count": 6,
          "metadata": {},
          "output_type": "execute_result"
        }
      ],
      "source": [
        "# векторизация обучаемых данных\n",
        "\n",
        "from sklearn.feature_extraction.text import TfidfVectorizer\n",
        "\n",
        "vectorizer = TfidfVectorizer(encoding='utf8', min_df=5)\n",
        "X_train = vectorizer.fit_transform(X_train)\n",
        "X_train.shape"
      ]
    },
    {
      "cell_type": "code",
      "execution_count": null,
      "metadata": {
        "colab": {
          "base_uri": "https://localhost:8080/"
        },
        "id": "BIXiCgMR59oY",
        "outputId": "32407edc-5c6a-44f2-c76a-9e8662ad46cb"
      },
      "outputs": [
        {
          "data": {
            "text/plain": [
              "(7488, 7673)"
            ]
          },
          "execution_count": 8,
          "metadata": {},
          "output_type": "execute_result"
        }
      ],
      "source": [
        "# данные для тестирования\n",
        "\n",
        "X_test = df_.lemmas.values\n",
        "y_test = df_.is_joke.values\n",
        "\n",
        "# векторизация тестируемых данных\n",
        "\n",
        "X_test = vectorizer.transform(X_test)\n",
        "X_test.shape"
      ]
    },
    {
      "cell_type": "code",
      "execution_count": null,
      "metadata": {
        "id": "FO7hyN1F6DjK"
      },
      "outputs": [],
      "source": [
        "from sklearn.svm import SVC\n",
        "svc = SVC(kernel='linear')"
      ]
    },
    {
      "cell_type": "code",
      "execution_count": null,
      "metadata": {
        "colab": {
          "base_uri": "https://localhost:8080/",
          "height": 74
        },
        "id": "FS-fIzvp6LLP",
        "outputId": "1e26541e-fcb1-434d-a859-4e28b0db1807"
      },
      "outputs": [
        {
          "data": {
            "text/html": [
              "<style>#sk-container-id-1 {color: black;background-color: white;}#sk-container-id-1 pre{padding: 0;}#sk-container-id-1 div.sk-toggleable {background-color: white;}#sk-container-id-1 label.sk-toggleable__label {cursor: pointer;display: block;width: 100%;margin-bottom: 0;padding: 0.3em;box-sizing: border-box;text-align: center;}#sk-container-id-1 label.sk-toggleable__label-arrow:before {content: \"▸\";float: left;margin-right: 0.25em;color: #696969;}#sk-container-id-1 label.sk-toggleable__label-arrow:hover:before {color: black;}#sk-container-id-1 div.sk-estimator:hover label.sk-toggleable__label-arrow:before {color: black;}#sk-container-id-1 div.sk-toggleable__content {max-height: 0;max-width: 0;overflow: hidden;text-align: left;background-color: #f0f8ff;}#sk-container-id-1 div.sk-toggleable__content pre {margin: 0.2em;color: black;border-radius: 0.25em;background-color: #f0f8ff;}#sk-container-id-1 input.sk-toggleable__control:checked~div.sk-toggleable__content {max-height: 200px;max-width: 100%;overflow: auto;}#sk-container-id-1 input.sk-toggleable__control:checked~label.sk-toggleable__label-arrow:before {content: \"▾\";}#sk-container-id-1 div.sk-estimator input.sk-toggleable__control:checked~label.sk-toggleable__label {background-color: #d4ebff;}#sk-container-id-1 div.sk-label input.sk-toggleable__control:checked~label.sk-toggleable__label {background-color: #d4ebff;}#sk-container-id-1 input.sk-hidden--visually {border: 0;clip: rect(1px 1px 1px 1px);clip: rect(1px, 1px, 1px, 1px);height: 1px;margin: -1px;overflow: hidden;padding: 0;position: absolute;width: 1px;}#sk-container-id-1 div.sk-estimator {font-family: monospace;background-color: #f0f8ff;border: 1px dotted black;border-radius: 0.25em;box-sizing: border-box;margin-bottom: 0.5em;}#sk-container-id-1 div.sk-estimator:hover {background-color: #d4ebff;}#sk-container-id-1 div.sk-parallel-item::after {content: \"\";width: 100%;border-bottom: 1px solid gray;flex-grow: 1;}#sk-container-id-1 div.sk-label:hover label.sk-toggleable__label {background-color: #d4ebff;}#sk-container-id-1 div.sk-serial::before {content: \"\";position: absolute;border-left: 1px solid gray;box-sizing: border-box;top: 0;bottom: 0;left: 50%;z-index: 0;}#sk-container-id-1 div.sk-serial {display: flex;flex-direction: column;align-items: center;background-color: white;padding-right: 0.2em;padding-left: 0.2em;position: relative;}#sk-container-id-1 div.sk-item {position: relative;z-index: 1;}#sk-container-id-1 div.sk-parallel {display: flex;align-items: stretch;justify-content: center;background-color: white;position: relative;}#sk-container-id-1 div.sk-item::before, #sk-container-id-1 div.sk-parallel-item::before {content: \"\";position: absolute;border-left: 1px solid gray;box-sizing: border-box;top: 0;bottom: 0;left: 50%;z-index: -1;}#sk-container-id-1 div.sk-parallel-item {display: flex;flex-direction: column;z-index: 1;position: relative;background-color: white;}#sk-container-id-1 div.sk-parallel-item:first-child::after {align-self: flex-end;width: 50%;}#sk-container-id-1 div.sk-parallel-item:last-child::after {align-self: flex-start;width: 50%;}#sk-container-id-1 div.sk-parallel-item:only-child::after {width: 0;}#sk-container-id-1 div.sk-dashed-wrapped {border: 1px dashed gray;margin: 0 0.4em 0.5em 0.4em;box-sizing: border-box;padding-bottom: 0.4em;background-color: white;}#sk-container-id-1 div.sk-label label {font-family: monospace;font-weight: bold;display: inline-block;line-height: 1.2em;}#sk-container-id-1 div.sk-label-container {text-align: center;}#sk-container-id-1 div.sk-container {/* jupyter's `normalize.less` sets `[hidden] { display: none; }` but bootstrap.min.css set `[hidden] { display: none !important; }` so we also need the `!important` here to be able to override the default hidden behavior on the sphinx rendered scikit-learn.org. See: https://github.com/scikit-learn/scikit-learn/issues/21755 */display: inline-block !important;position: relative;}#sk-container-id-1 div.sk-text-repr-fallback {display: none;}</style><div id=\"sk-container-id-1\" class=\"sk-top-container\"><div class=\"sk-text-repr-fallback\"><pre>SVC(kernel=&#x27;linear&#x27;)</pre><b>In a Jupyter environment, please rerun this cell to show the HTML representation or trust the notebook. <br />On GitHub, the HTML representation is unable to render, please try loading this page with nbviewer.org.</b></div><div class=\"sk-container\" hidden><div class=\"sk-item\"><div class=\"sk-estimator sk-toggleable\"><input class=\"sk-toggleable__control sk-hidden--visually\" id=\"sk-estimator-id-1\" type=\"checkbox\" checked><label for=\"sk-estimator-id-1\" class=\"sk-toggleable__label sk-toggleable__label-arrow\">SVC</label><div class=\"sk-toggleable__content\"><pre>SVC(kernel=&#x27;linear&#x27;)</pre></div></div></div></div></div>"
            ],
            "text/plain": [
              "SVC(kernel='linear')"
            ]
          },
          "execution_count": 10,
          "metadata": {},
          "output_type": "execute_result"
        }
      ],
      "source": [
        "svc.fit(X_train, y_train)"
      ]
    },
    {
      "cell_type": "code",
      "execution_count": null,
      "metadata": {
        "id": "7iJTPa9XPVgK"
      },
      "outputs": [],
      "source": [
        "y_pred_svc = svc.predict(X_test)"
      ]
    },
    {
      "cell_type": "code",
      "execution_count": null,
      "metadata": {
        "id": "1xp9MbQHPYLU"
      },
      "outputs": [],
      "source": [
        "from sklearn.metrics import f1_score, accuracy_score, precision_score, recall_score\n",
        "\n",
        "f1 = f1_score(y_test, y_pred_svc)\n",
        "acc = accuracy_score(y_test, y_pred_svc)\n",
        "pr = precision_score(y_test, y_pred_svc)\n",
        "rec = recall_score(y_test, y_pred_svc)"
      ]
    },
    {
      "cell_type": "code",
      "execution_count": null,
      "metadata": {
        "colab": {
          "base_uri": "https://localhost:8080/"
        },
        "id": "WnTj1U34qLRY",
        "outputId": "f27889c8-2440-4e2b-8f93-37f78df5a96d"
      },
      "outputs": [
        {
          "data": {
            "text/plain": [
              "(0.6700684839532698, 0.671875, 0.6748715174465784, 0.6653333333333333)"
            ]
          },
          "execution_count": 13,
          "metadata": {},
          "output_type": "execute_result"
        }
      ],
      "source": [
        "f1, acc, pr, rec"
      ]
    },
    {
      "cell_type": "markdown",
      "metadata": {
        "id": "fhByRmKErmrE"
      },
      "source": [
        "### CountVectorizer"
      ]
    },
    {
      "cell_type": "code",
      "execution_count": null,
      "metadata": {
        "id": "M0HIfcv6r-Rk"
      },
      "outputs": [],
      "source": [
        "# данные для обучения\n",
        "\n",
        "X_train = df.lemmas.values\n",
        "y_train = df.is_joke.values"
      ]
    },
    {
      "cell_type": "code",
      "execution_count": null,
      "metadata": {
        "colab": {
          "base_uri": "https://localhost:8080/"
        },
        "id": "UoAB9xi_rlvr",
        "outputId": "7ee9d367-4f6d-4fa0-8896-ffb9ab6c38f8"
      },
      "outputs": [
        {
          "data": {
            "text/plain": [
              "(30000, 7673)"
            ]
          },
          "execution_count": 18,
          "metadata": {},
          "output_type": "execute_result"
        }
      ],
      "source": [
        "# векторизация обучаемых данных\n",
        "\n",
        "from sklearn.feature_extraction.text import CountVectorizer\n",
        "\n",
        "vectorizer = CountVectorizer(encoding='utf8', min_df=5)\n",
        "X_train = vectorizer.fit_transform(X_train)\n",
        "X_train.shape"
      ]
    },
    {
      "cell_type": "code",
      "execution_count": null,
      "metadata": {
        "colab": {
          "base_uri": "https://localhost:8080/"
        },
        "id": "SdUsDfBAr-Rl",
        "outputId": "eedba54e-1b6b-4ec3-b2ca-dd1ff6ebcb1b"
      },
      "outputs": [
        {
          "data": {
            "text/plain": [
              "(7488, 7673)"
            ]
          },
          "execution_count": 19,
          "metadata": {},
          "output_type": "execute_result"
        }
      ],
      "source": [
        "# данные для тестирования\n",
        "\n",
        "X_test = df_.lemmas.values\n",
        "y_test = df_.is_joke.values\n",
        "\n",
        "# векторизация тестируемых данных\n",
        "\n",
        "X_test = vectorizer.transform(X_test)\n",
        "X_test.shape"
      ]
    },
    {
      "cell_type": "code",
      "execution_count": null,
      "metadata": {
        "id": "Q1kicESbr-Rl"
      },
      "outputs": [],
      "source": [
        "from sklearn.svm import SVC\n",
        "svc = SVC(kernel='linear')"
      ]
    },
    {
      "cell_type": "code",
      "execution_count": null,
      "metadata": {
        "colab": {
          "base_uri": "https://localhost:8080/",
          "height": 74
        },
        "id": "2gsyyjJlr-Rl",
        "outputId": "e4105a7a-63d0-4f7f-daf0-c30860479ebf"
      },
      "outputs": [
        {
          "data": {
            "text/html": [
              "<style>#sk-container-id-2 {color: black;background-color: white;}#sk-container-id-2 pre{padding: 0;}#sk-container-id-2 div.sk-toggleable {background-color: white;}#sk-container-id-2 label.sk-toggleable__label {cursor: pointer;display: block;width: 100%;margin-bottom: 0;padding: 0.3em;box-sizing: border-box;text-align: center;}#sk-container-id-2 label.sk-toggleable__label-arrow:before {content: \"▸\";float: left;margin-right: 0.25em;color: #696969;}#sk-container-id-2 label.sk-toggleable__label-arrow:hover:before {color: black;}#sk-container-id-2 div.sk-estimator:hover label.sk-toggleable__label-arrow:before {color: black;}#sk-container-id-2 div.sk-toggleable__content {max-height: 0;max-width: 0;overflow: hidden;text-align: left;background-color: #f0f8ff;}#sk-container-id-2 div.sk-toggleable__content pre {margin: 0.2em;color: black;border-radius: 0.25em;background-color: #f0f8ff;}#sk-container-id-2 input.sk-toggleable__control:checked~div.sk-toggleable__content {max-height: 200px;max-width: 100%;overflow: auto;}#sk-container-id-2 input.sk-toggleable__control:checked~label.sk-toggleable__label-arrow:before {content: \"▾\";}#sk-container-id-2 div.sk-estimator input.sk-toggleable__control:checked~label.sk-toggleable__label {background-color: #d4ebff;}#sk-container-id-2 div.sk-label input.sk-toggleable__control:checked~label.sk-toggleable__label {background-color: #d4ebff;}#sk-container-id-2 input.sk-hidden--visually {border: 0;clip: rect(1px 1px 1px 1px);clip: rect(1px, 1px, 1px, 1px);height: 1px;margin: -1px;overflow: hidden;padding: 0;position: absolute;width: 1px;}#sk-container-id-2 div.sk-estimator {font-family: monospace;background-color: #f0f8ff;border: 1px dotted black;border-radius: 0.25em;box-sizing: border-box;margin-bottom: 0.5em;}#sk-container-id-2 div.sk-estimator:hover {background-color: #d4ebff;}#sk-container-id-2 div.sk-parallel-item::after {content: \"\";width: 100%;border-bottom: 1px solid gray;flex-grow: 1;}#sk-container-id-2 div.sk-label:hover label.sk-toggleable__label {background-color: #d4ebff;}#sk-container-id-2 div.sk-serial::before {content: \"\";position: absolute;border-left: 1px solid gray;box-sizing: border-box;top: 0;bottom: 0;left: 50%;z-index: 0;}#sk-container-id-2 div.sk-serial {display: flex;flex-direction: column;align-items: center;background-color: white;padding-right: 0.2em;padding-left: 0.2em;position: relative;}#sk-container-id-2 div.sk-item {position: relative;z-index: 1;}#sk-container-id-2 div.sk-parallel {display: flex;align-items: stretch;justify-content: center;background-color: white;position: relative;}#sk-container-id-2 div.sk-item::before, #sk-container-id-2 div.sk-parallel-item::before {content: \"\";position: absolute;border-left: 1px solid gray;box-sizing: border-box;top: 0;bottom: 0;left: 50%;z-index: -1;}#sk-container-id-2 div.sk-parallel-item {display: flex;flex-direction: column;z-index: 1;position: relative;background-color: white;}#sk-container-id-2 div.sk-parallel-item:first-child::after {align-self: flex-end;width: 50%;}#sk-container-id-2 div.sk-parallel-item:last-child::after {align-self: flex-start;width: 50%;}#sk-container-id-2 div.sk-parallel-item:only-child::after {width: 0;}#sk-container-id-2 div.sk-dashed-wrapped {border: 1px dashed gray;margin: 0 0.4em 0.5em 0.4em;box-sizing: border-box;padding-bottom: 0.4em;background-color: white;}#sk-container-id-2 div.sk-label label {font-family: monospace;font-weight: bold;display: inline-block;line-height: 1.2em;}#sk-container-id-2 div.sk-label-container {text-align: center;}#sk-container-id-2 div.sk-container {/* jupyter's `normalize.less` sets `[hidden] { display: none; }` but bootstrap.min.css set `[hidden] { display: none !important; }` so we also need the `!important` here to be able to override the default hidden behavior on the sphinx rendered scikit-learn.org. See: https://github.com/scikit-learn/scikit-learn/issues/21755 */display: inline-block !important;position: relative;}#sk-container-id-2 div.sk-text-repr-fallback {display: none;}</style><div id=\"sk-container-id-2\" class=\"sk-top-container\"><div class=\"sk-text-repr-fallback\"><pre>SVC(kernel=&#x27;linear&#x27;)</pre><b>In a Jupyter environment, please rerun this cell to show the HTML representation or trust the notebook. <br />On GitHub, the HTML representation is unable to render, please try loading this page with nbviewer.org.</b></div><div class=\"sk-container\" hidden><div class=\"sk-item\"><div class=\"sk-estimator sk-toggleable\"><input class=\"sk-toggleable__control sk-hidden--visually\" id=\"sk-estimator-id-2\" type=\"checkbox\" checked><label for=\"sk-estimator-id-2\" class=\"sk-toggleable__label sk-toggleable__label-arrow\">SVC</label><div class=\"sk-toggleable__content\"><pre>SVC(kernel=&#x27;linear&#x27;)</pre></div></div></div></div></div>"
            ],
            "text/plain": [
              "SVC(kernel='linear')"
            ]
          },
          "execution_count": 21,
          "metadata": {},
          "output_type": "execute_result"
        }
      ],
      "source": [
        "svc.fit(X_train, y_train)"
      ]
    },
    {
      "cell_type": "code",
      "execution_count": null,
      "metadata": {
        "id": "-LXygGlFr-Rl"
      },
      "outputs": [],
      "source": [
        "y_pred_svc = svc.predict(X_test)"
      ]
    },
    {
      "cell_type": "code",
      "execution_count": null,
      "metadata": {
        "id": "UAAUwzrGr-Rm"
      },
      "outputs": [],
      "source": [
        "from sklearn.metrics import f1_score, accuracy_score, precision_score, recall_score\n",
        "\n",
        "f1 = f1_score(y_test, y_pred_svc)\n",
        "acc = accuracy_score(y_test, y_pred_svc)\n",
        "pr = precision_score(y_test, y_pred_svc)\n",
        "rec = recall_score(y_test, y_pred_svc)"
      ]
    },
    {
      "cell_type": "code",
      "execution_count": null,
      "metadata": {
        "colab": {
          "base_uri": "https://localhost:8080/"
        },
        "id": "rRHTSN5vr-Rm",
        "outputId": "a4feb049-4379-432b-f1ed-a011ed37d5e7"
      },
      "outputs": [
        {
          "data": {
            "text/plain": [
              "(0.6609550561797753, 0.6776175213675214, 0.698219584569733, 0.6274666666666666)"
            ]
          },
          "execution_count": 24,
          "metadata": {},
          "output_type": "execute_result"
        }
      ],
      "source": [
        "f1, acc, pr, rec"
      ]
    },
    {
      "cell_type": "markdown",
      "metadata": {
        "id": "Od73aFV4PN-J"
      },
      "source": [
        "## Logistic Regression"
      ]
    },
    {
      "cell_type": "code",
      "execution_count": null,
      "metadata": {
        "id": "fjO4MEfoPTUF"
      },
      "outputs": [],
      "source": [
        "X_train = df.lemmas.values\n",
        "y_train = df.is_joke.values"
      ]
    },
    {
      "cell_type": "code",
      "execution_count": null,
      "metadata": {
        "id": "9DSwvpwzZG9P"
      },
      "outputs": [],
      "source": [
        "X_test = df_.lemmas.values\n",
        "y_test = df_.is_joke.values"
      ]
    },
    {
      "cell_type": "markdown",
      "metadata": {
        "id": "NYixbJinboWI"
      },
      "source": [
        "### CountVectorizer"
      ]
    },
    {
      "cell_type": "code",
      "execution_count": null,
      "metadata": {
        "colab": {
          "base_uri": "https://localhost:8080/"
        },
        "id": "pTex4HrHZeS0",
        "outputId": "723c546c-b5de-4fa6-ef70-c7e474eeee89"
      },
      "outputs": [
        {
          "output_type": "execute_result",
          "data": {
            "text/plain": [
              "(30000, 7673)"
            ]
          },
          "metadata": {},
          "execution_count": 10
        }
      ],
      "source": [
        "from sklearn.feature_extraction.text import CountVectorizer\n",
        "\n",
        "vectorizer = CountVectorizer(encoding='utf8', min_df=5)\n",
        "X_train = vectorizer.fit_transform(X_train)\n",
        "X_train.shape"
      ]
    },
    {
      "cell_type": "code",
      "execution_count": null,
      "metadata": {
        "colab": {
          "base_uri": "https://localhost:8080/"
        },
        "id": "qU_G5MiXZkLX",
        "outputId": "0c42c954-6315-46d2-9ed4-8136223e4ada"
      },
      "outputs": [
        {
          "output_type": "execute_result",
          "data": {
            "text/plain": [
              "(30000,)"
            ]
          },
          "metadata": {},
          "execution_count": 11
        }
      ],
      "source": [
        "y_train.shape"
      ]
    },
    {
      "cell_type": "code",
      "execution_count": null,
      "metadata": {
        "colab": {
          "base_uri": "https://localhost:8080/"
        },
        "id": "yVNlutPwZnAz",
        "outputId": "dbf74eaf-f91c-4c74-9871-168223b0605b"
      },
      "outputs": [
        {
          "output_type": "execute_result",
          "data": {
            "text/plain": [
              "(7488, 7673)"
            ]
          },
          "metadata": {},
          "execution_count": 12
        }
      ],
      "source": [
        "X_test = vectorizer.transform(X_test)\n",
        "X_test.shape"
      ]
    },
    {
      "cell_type": "code",
      "execution_count": null,
      "metadata": {
        "id": "gN8feSnXZrdW"
      },
      "outputs": [],
      "source": [
        "from sklearn.linear_model import LogisticRegression\n",
        "\n",
        "model = LogisticRegression(solver='liblinear', random_state=0).fit(X_train, y_train)\n",
        "preds = model.predict(X_test)"
      ]
    },
    {
      "cell_type": "code",
      "execution_count": null,
      "metadata": {
        "id": "kyemyyPaasCa"
      },
      "outputs": [],
      "source": [
        "from sklearn.metrics import f1_score, accuracy_score, precision_score, recall_score\n",
        "\n",
        "f1 = f1_score(y_test, preds)\n",
        "acc = accuracy_score(y_test, preds)\n",
        "pr = precision_score(y_test, preds)\n",
        "rec = recall_score(y_test, preds)"
      ]
    },
    {
      "cell_type": "code",
      "execution_count": null,
      "metadata": {
        "colab": {
          "base_uri": "https://localhost:8080/"
        },
        "id": "ZTXvkjMUbNhw",
        "outputId": "f60caa7c-63ba-478b-c379-b458d0404dc0"
      },
      "outputs": [
        {
          "data": {
            "text/plain": [
              "(0.677553279822862, 0.6888354700854701, 0.7042577675489068, 0.6528)"
            ]
          },
          "execution_count": 20,
          "metadata": {},
          "output_type": "execute_result"
        }
      ],
      "source": [
        "f1, acc, pr, rec"
      ]
    },
    {
      "cell_type": "markdown",
      "metadata": {
        "id": "rAPZn6xbbsK5"
      },
      "source": [
        "### TfidfVectorizer"
      ]
    },
    {
      "cell_type": "code",
      "execution_count": null,
      "metadata": {
        "colab": {
          "base_uri": "https://localhost:8080/"
        },
        "id": "iAlBX8tXbuET",
        "outputId": "74e045da-be24-4d9e-999e-bff22109fafd"
      },
      "outputs": [
        {
          "data": {
            "text/plain": [
              "(30000, 7673)"
            ]
          },
          "execution_count": 23,
          "metadata": {},
          "output_type": "execute_result"
        }
      ],
      "source": [
        "from sklearn.feature_extraction.text import TfidfVectorizer\n",
        "\n",
        "vectorizer = TfidfVectorizer(encoding='utf8', min_df=5)\n",
        "X_train = vectorizer.fit_transform(X_train)\n",
        "X_train.shape"
      ]
    },
    {
      "cell_type": "code",
      "execution_count": null,
      "metadata": {
        "colab": {
          "base_uri": "https://localhost:8080/"
        },
        "id": "mP3ObTxhb2rx",
        "outputId": "4a534623-eef5-4298-c1f8-c893aa46b306"
      },
      "outputs": [
        {
          "data": {
            "text/plain": [
              "(7488, 7673)"
            ]
          },
          "execution_count": 24,
          "metadata": {},
          "output_type": "execute_result"
        }
      ],
      "source": [
        "X_test = vectorizer.transform(X_test)\n",
        "X_test.shape"
      ]
    },
    {
      "cell_type": "code",
      "execution_count": null,
      "metadata": {
        "id": "t8d-RHGEb3k1"
      },
      "outputs": [],
      "source": [
        "model = LogisticRegression(solver='liblinear', random_state=0).fit(X_train, y_train)\n",
        "preds = model.predict(X_test)"
      ]
    },
    {
      "cell_type": "code",
      "execution_count": null,
      "metadata": {
        "id": "J2QqgE2Zb-4c"
      },
      "outputs": [],
      "source": [
        "f1 = f1_score(y_test, preds)\n",
        "acc = accuracy_score(y_test, preds)\n",
        "pr = precision_score(y_test, preds)\n",
        "rec = recall_score(y_test, preds)"
      ]
    },
    {
      "cell_type": "code",
      "execution_count": null,
      "metadata": {
        "colab": {
          "base_uri": "https://localhost:8080/"
        },
        "id": "QkVDSS3Hb_e9",
        "outputId": "3f904bd8-ddde-4e22-8aba-4beb89b5c57d"
      },
      "outputs": [
        {
          "data": {
            "text/plain": [
              "(0.6666666666666667, 0.6638621794871795, 0.6621941594317285, 0.6712)"
            ]
          },
          "execution_count": 27,
          "metadata": {},
          "output_type": "execute_result"
        }
      ],
      "source": [
        "f1, acc, pr, rec"
      ]
    },
    {
      "cell_type": "markdown",
      "metadata": {
        "id": "JSdLEz0Ydt3n"
      },
      "source": [
        "## Random Forest"
      ]
    },
    {
      "cell_type": "code",
      "execution_count": null,
      "metadata": {
        "id": "WfjD61hFpdy8"
      },
      "outputs": [],
      "source": [
        "X_train = df.lemmas.values\n",
        "y_train = df.is_joke.values"
      ]
    },
    {
      "cell_type": "code",
      "execution_count": null,
      "metadata": {
        "id": "5PIThidGpdy9"
      },
      "outputs": [],
      "source": [
        "X_test = df_.lemmas.values\n",
        "y_test = df_.is_joke.values"
      ]
    },
    {
      "cell_type": "code",
      "execution_count": null,
      "metadata": {
        "id": "meKoZwwBdv5Q"
      },
      "outputs": [],
      "source": [
        "from sklearn.ensemble import RandomForestClassifier"
      ]
    },
    {
      "cell_type": "code",
      "execution_count": null,
      "metadata": {
        "colab": {
          "base_uri": "https://localhost:8080/"
        },
        "id": "yMoEW4L0jmDT",
        "outputId": "09ba8195-bb40-42cf-a0fb-bbaff9255861"
      },
      "outputs": [
        {
          "data": {
            "text/plain": [
              "(30000, 7673)"
            ]
          },
          "execution_count": 9,
          "metadata": {},
          "output_type": "execute_result"
        }
      ],
      "source": [
        "from sklearn.feature_extraction.text import CountVectorizer\n",
        "\n",
        "vectorizer = CountVectorizer(encoding='utf8', min_df=5)\n",
        "X_train = vectorizer.fit_transform(X_train)\n",
        "X_train.shape"
      ]
    },
    {
      "cell_type": "code",
      "execution_count": null,
      "metadata": {
        "colab": {
          "base_uri": "https://localhost:8080/"
        },
        "id": "Nexo1nqZjmDT",
        "outputId": "9c734b3c-6918-4a3d-91f8-a880a5a0cbc2"
      },
      "outputs": [
        {
          "data": {
            "text/plain": [
              "(7488, 7673)"
            ]
          },
          "execution_count": 10,
          "metadata": {},
          "output_type": "execute_result"
        }
      ],
      "source": [
        "X_test = vectorizer.transform(X_test)\n",
        "X_test.shape"
      ]
    },
    {
      "cell_type": "markdown",
      "metadata": {
        "id": "3KgLz4U41O8a"
      },
      "source": [
        "### GridSearch CountVectorizer"
      ]
    },
    {
      "cell_type": "code",
      "source": [
        "from sklearn.model_selection import GridSearchCV"
      ],
      "metadata": {
        "id": "cCBqsXhaOg3F"
      },
      "execution_count": null,
      "outputs": []
    },
    {
      "cell_type": "code",
      "execution_count": null,
      "metadata": {
        "colab": {
          "base_uri": "https://localhost:8080/",
          "height": 116
        },
        "id": "BQeUpWX0nle6",
        "outputId": "174e9068-8ec6-4ff4-92aa-5aa50d9fb865"
      },
      "outputs": [
        {
          "data": {
            "text/html": [
              "<style>#sk-container-id-1 {color: black;background-color: white;}#sk-container-id-1 pre{padding: 0;}#sk-container-id-1 div.sk-toggleable {background-color: white;}#sk-container-id-1 label.sk-toggleable__label {cursor: pointer;display: block;width: 100%;margin-bottom: 0;padding: 0.3em;box-sizing: border-box;text-align: center;}#sk-container-id-1 label.sk-toggleable__label-arrow:before {content: \"▸\";float: left;margin-right: 0.25em;color: #696969;}#sk-container-id-1 label.sk-toggleable__label-arrow:hover:before {color: black;}#sk-container-id-1 div.sk-estimator:hover label.sk-toggleable__label-arrow:before {color: black;}#sk-container-id-1 div.sk-toggleable__content {max-height: 0;max-width: 0;overflow: hidden;text-align: left;background-color: #f0f8ff;}#sk-container-id-1 div.sk-toggleable__content pre {margin: 0.2em;color: black;border-radius: 0.25em;background-color: #f0f8ff;}#sk-container-id-1 input.sk-toggleable__control:checked~div.sk-toggleable__content {max-height: 200px;max-width: 100%;overflow: auto;}#sk-container-id-1 input.sk-toggleable__control:checked~label.sk-toggleable__label-arrow:before {content: \"▾\";}#sk-container-id-1 div.sk-estimator input.sk-toggleable__control:checked~label.sk-toggleable__label {background-color: #d4ebff;}#sk-container-id-1 div.sk-label input.sk-toggleable__control:checked~label.sk-toggleable__label {background-color: #d4ebff;}#sk-container-id-1 input.sk-hidden--visually {border: 0;clip: rect(1px 1px 1px 1px);clip: rect(1px, 1px, 1px, 1px);height: 1px;margin: -1px;overflow: hidden;padding: 0;position: absolute;width: 1px;}#sk-container-id-1 div.sk-estimator {font-family: monospace;background-color: #f0f8ff;border: 1px dotted black;border-radius: 0.25em;box-sizing: border-box;margin-bottom: 0.5em;}#sk-container-id-1 div.sk-estimator:hover {background-color: #d4ebff;}#sk-container-id-1 div.sk-parallel-item::after {content: \"\";width: 100%;border-bottom: 1px solid gray;flex-grow: 1;}#sk-container-id-1 div.sk-label:hover label.sk-toggleable__label {background-color: #d4ebff;}#sk-container-id-1 div.sk-serial::before {content: \"\";position: absolute;border-left: 1px solid gray;box-sizing: border-box;top: 0;bottom: 0;left: 50%;z-index: 0;}#sk-container-id-1 div.sk-serial {display: flex;flex-direction: column;align-items: center;background-color: white;padding-right: 0.2em;padding-left: 0.2em;position: relative;}#sk-container-id-1 div.sk-item {position: relative;z-index: 1;}#sk-container-id-1 div.sk-parallel {display: flex;align-items: stretch;justify-content: center;background-color: white;position: relative;}#sk-container-id-1 div.sk-item::before, #sk-container-id-1 div.sk-parallel-item::before {content: \"\";position: absolute;border-left: 1px solid gray;box-sizing: border-box;top: 0;bottom: 0;left: 50%;z-index: -1;}#sk-container-id-1 div.sk-parallel-item {display: flex;flex-direction: column;z-index: 1;position: relative;background-color: white;}#sk-container-id-1 div.sk-parallel-item:first-child::after {align-self: flex-end;width: 50%;}#sk-container-id-1 div.sk-parallel-item:last-child::after {align-self: flex-start;width: 50%;}#sk-container-id-1 div.sk-parallel-item:only-child::after {width: 0;}#sk-container-id-1 div.sk-dashed-wrapped {border: 1px dashed gray;margin: 0 0.4em 0.5em 0.4em;box-sizing: border-box;padding-bottom: 0.4em;background-color: white;}#sk-container-id-1 div.sk-label label {font-family: monospace;font-weight: bold;display: inline-block;line-height: 1.2em;}#sk-container-id-1 div.sk-label-container {text-align: center;}#sk-container-id-1 div.sk-container {/* jupyter's `normalize.less` sets `[hidden] { display: none; }` but bootstrap.min.css set `[hidden] { display: none !important; }` so we also need the `!important` here to be able to override the default hidden behavior on the sphinx rendered scikit-learn.org. See: https://github.com/scikit-learn/scikit-learn/issues/21755 */display: inline-block !important;position: relative;}#sk-container-id-1 div.sk-text-repr-fallback {display: none;}</style><div id=\"sk-container-id-1\" class=\"sk-top-container\"><div class=\"sk-text-repr-fallback\"><pre>GridSearchCV(cv=3, estimator=RandomForestClassifier(random_state=241),\n",
              "             param_grid={&#x27;criterion&#x27;: [&#x27;gini&#x27;, &#x27;entropy&#x27;],\n",
              "                         &#x27;max_depth&#x27;: [2, 4, 6, 8, 10],\n",
              "                         &#x27;min_samples_leaf&#x27;: [1, 5, 10, 15, 20],\n",
              "                         &#x27;n_estimators&#x27;: [100, 500, 1000]},\n",
              "             scoring=&#x27;r2&#x27;)</pre><b>In a Jupyter environment, please rerun this cell to show the HTML representation or trust the notebook. <br />On GitHub, the HTML representation is unable to render, please try loading this page with nbviewer.org.</b></div><div class=\"sk-container\" hidden><div class=\"sk-item sk-dashed-wrapped\"><div class=\"sk-label-container\"><div class=\"sk-label sk-toggleable\"><input class=\"sk-toggleable__control sk-hidden--visually\" id=\"sk-estimator-id-1\" type=\"checkbox\" ><label for=\"sk-estimator-id-1\" class=\"sk-toggleable__label sk-toggleable__label-arrow\">GridSearchCV</label><div class=\"sk-toggleable__content\"><pre>GridSearchCV(cv=3, estimator=RandomForestClassifier(random_state=241),\n",
              "             param_grid={&#x27;criterion&#x27;: [&#x27;gini&#x27;, &#x27;entropy&#x27;],\n",
              "                         &#x27;max_depth&#x27;: [2, 4, 6, 8, 10],\n",
              "                         &#x27;min_samples_leaf&#x27;: [1, 5, 10, 15, 20],\n",
              "                         &#x27;n_estimators&#x27;: [100, 500, 1000]},\n",
              "             scoring=&#x27;r2&#x27;)</pre></div></div></div><div class=\"sk-parallel\"><div class=\"sk-parallel-item\"><div class=\"sk-item\"><div class=\"sk-label-container\"><div class=\"sk-label sk-toggleable\"><input class=\"sk-toggleable__control sk-hidden--visually\" id=\"sk-estimator-id-2\" type=\"checkbox\" ><label for=\"sk-estimator-id-2\" class=\"sk-toggleable__label sk-toggleable__label-arrow\">estimator: RandomForestClassifier</label><div class=\"sk-toggleable__content\"><pre>RandomForestClassifier(random_state=241)</pre></div></div></div><div class=\"sk-serial\"><div class=\"sk-item\"><div class=\"sk-estimator sk-toggleable\"><input class=\"sk-toggleable__control sk-hidden--visually\" id=\"sk-estimator-id-3\" type=\"checkbox\" ><label for=\"sk-estimator-id-3\" class=\"sk-toggleable__label sk-toggleable__label-arrow\">RandomForestClassifier</label><div class=\"sk-toggleable__content\"><pre>RandomForestClassifier(random_state=241)</pre></div></div></div></div></div></div></div></div></div></div>"
            ],
            "text/plain": [
              "GridSearchCV(cv=3, estimator=RandomForestClassifier(random_state=241),\n",
              "             param_grid={'criterion': ['gini', 'entropy'],\n",
              "                         'max_depth': [2, 4, 6, 8, 10],\n",
              "                         'min_samples_leaf': [1, 5, 10, 15, 20],\n",
              "                         'n_estimators': [100, 500, 1000]},\n",
              "             scoring='r2')"
            ]
          },
          "execution_count": 12,
          "metadata": {},
          "output_type": "execute_result"
        }
      ],
      "source": [
        "gs = GridSearchCV(RandomForestClassifier(random_state=241),\n",
        "                  param_grid={'n_estimators': [100, 500, 1000],\n",
        "                              'max_depth': [2, 4, 6, 8, 10],\n",
        "                              'min_samples_leaf': [1, 5, 10, 15, 20],\n",
        "                              'criterion': ['gini', 'entropy']},\n",
        "                  cv=3,\n",
        "                  scoring='r2')\n",
        "gs.fit(X_train, y_train)"
      ]
    },
    {
      "cell_type": "code",
      "execution_count": null,
      "metadata": {
        "colab": {
          "base_uri": "https://localhost:8080/"
        },
        "id": "Biu3skZ_z8Oc",
        "outputId": "186dfd0d-e740-4ea7-c53b-61ed21275b2c"
      },
      "outputs": [
        {
          "name": "stdout",
          "output_type": "stream",
          "text": [
            "-0.44706666666666667\n",
            "{'criterion': 'gini', 'max_depth': 10, 'min_samples_leaf': 1, 'n_estimators': 1000}\n"
          ]
        }
      ],
      "source": [
        "print(gs.best_score_)\n",
        "print(gs.best_params_)"
      ]
    },
    {
      "cell_type": "code",
      "execution_count": null,
      "metadata": {
        "id": "Uom0BEzN0YS-"
      },
      "outputs": [],
      "source": [
        "preds = gs.best_estimator_.predict(X_test)"
      ]
    },
    {
      "cell_type": "code",
      "execution_count": null,
      "metadata": {
        "id": "PJfbzWyH0eIh"
      },
      "outputs": [],
      "source": [
        "from sklearn.metrics import f1_score, accuracy_score, precision_score, recall_score\n",
        "\n",
        "f1 = f1_score(y_test, preds)\n",
        "acc = accuracy_score(y_test, preds)\n",
        "pr = precision_score(y_test, preds)\n",
        "rec = recall_score(y_test, preds)"
      ]
    },
    {
      "cell_type": "code",
      "execution_count": null,
      "metadata": {
        "colab": {
          "base_uri": "https://localhost:8080/"
        },
        "id": "YSCOxw-Q0eIi",
        "outputId": "bd0ef5ce-cc7d-4511-9cc7-133edcc587bd"
      },
      "outputs": [
        {
          "data": {
            "text/plain": [
              "(0.6069281419982823,\n",
              " 0.6332799145299145,\n",
              " 0.6551297898640297,\n",
              " 0.5653333333333334)"
            ]
          },
          "execution_count": 18,
          "metadata": {},
          "output_type": "execute_result"
        }
      ],
      "source": [
        "f1, acc, pr, rec"
      ]
    },
    {
      "cell_type": "markdown",
      "metadata": {
        "id": "Pu19G7LP12QY"
      },
      "source": [
        "### TfidfVectorizer"
      ]
    },
    {
      "cell_type": "code",
      "execution_count": null,
      "metadata": {
        "colab": {
          "base_uri": "https://localhost:8080/"
        },
        "id": "jH1-huUS10Tx",
        "outputId": "4abfb342-99bd-4357-9303-41b693b10880"
      },
      "outputs": [
        {
          "data": {
            "text/plain": [
              "(30000, 7673)"
            ]
          },
          "execution_count": 21,
          "metadata": {},
          "output_type": "execute_result"
        }
      ],
      "source": [
        "from sklearn.feature_extraction.text import TfidfVectorizer\n",
        "\n",
        "vectorizer = TfidfVectorizer(encoding='utf8', min_df=5)\n",
        "X_train = vectorizer.fit_transform(X_train)\n",
        "X_train.shape"
      ]
    },
    {
      "cell_type": "code",
      "execution_count": null,
      "metadata": {
        "colab": {
          "base_uri": "https://localhost:8080/"
        },
        "id": "Id-u99Oq10Ty",
        "outputId": "1064abcd-3ff6-4963-b07b-39b9ad5f24ae"
      },
      "outputs": [
        {
          "data": {
            "text/plain": [
              "(7488, 7673)"
            ]
          },
          "execution_count": 22,
          "metadata": {},
          "output_type": "execute_result"
        }
      ],
      "source": [
        "X_test = vectorizer.transform(X_test)\n",
        "X_test.shape"
      ]
    },
    {
      "cell_type": "code",
      "execution_count": null,
      "metadata": {
        "colab": {
          "base_uri": "https://localhost:8080/",
          "height": 116
        },
        "id": "j7saRGu12BlQ",
        "outputId": "ce664842-4276-47b9-a95f-f932221a6155"
      },
      "outputs": [
        {
          "data": {
            "text/html": [
              "<style>#sk-container-id-2 {color: black;background-color: white;}#sk-container-id-2 pre{padding: 0;}#sk-container-id-2 div.sk-toggleable {background-color: white;}#sk-container-id-2 label.sk-toggleable__label {cursor: pointer;display: block;width: 100%;margin-bottom: 0;padding: 0.3em;box-sizing: border-box;text-align: center;}#sk-container-id-2 label.sk-toggleable__label-arrow:before {content: \"▸\";float: left;margin-right: 0.25em;color: #696969;}#sk-container-id-2 label.sk-toggleable__label-arrow:hover:before {color: black;}#sk-container-id-2 div.sk-estimator:hover label.sk-toggleable__label-arrow:before {color: black;}#sk-container-id-2 div.sk-toggleable__content {max-height: 0;max-width: 0;overflow: hidden;text-align: left;background-color: #f0f8ff;}#sk-container-id-2 div.sk-toggleable__content pre {margin: 0.2em;color: black;border-radius: 0.25em;background-color: #f0f8ff;}#sk-container-id-2 input.sk-toggleable__control:checked~div.sk-toggleable__content {max-height: 200px;max-width: 100%;overflow: auto;}#sk-container-id-2 input.sk-toggleable__control:checked~label.sk-toggleable__label-arrow:before {content: \"▾\";}#sk-container-id-2 div.sk-estimator input.sk-toggleable__control:checked~label.sk-toggleable__label {background-color: #d4ebff;}#sk-container-id-2 div.sk-label input.sk-toggleable__control:checked~label.sk-toggleable__label {background-color: #d4ebff;}#sk-container-id-2 input.sk-hidden--visually {border: 0;clip: rect(1px 1px 1px 1px);clip: rect(1px, 1px, 1px, 1px);height: 1px;margin: -1px;overflow: hidden;padding: 0;position: absolute;width: 1px;}#sk-container-id-2 div.sk-estimator {font-family: monospace;background-color: #f0f8ff;border: 1px dotted black;border-radius: 0.25em;box-sizing: border-box;margin-bottom: 0.5em;}#sk-container-id-2 div.sk-estimator:hover {background-color: #d4ebff;}#sk-container-id-2 div.sk-parallel-item::after {content: \"\";width: 100%;border-bottom: 1px solid gray;flex-grow: 1;}#sk-container-id-2 div.sk-label:hover label.sk-toggleable__label {background-color: #d4ebff;}#sk-container-id-2 div.sk-serial::before {content: \"\";position: absolute;border-left: 1px solid gray;box-sizing: border-box;top: 0;bottom: 0;left: 50%;z-index: 0;}#sk-container-id-2 div.sk-serial {display: flex;flex-direction: column;align-items: center;background-color: white;padding-right: 0.2em;padding-left: 0.2em;position: relative;}#sk-container-id-2 div.sk-item {position: relative;z-index: 1;}#sk-container-id-2 div.sk-parallel {display: flex;align-items: stretch;justify-content: center;background-color: white;position: relative;}#sk-container-id-2 div.sk-item::before, #sk-container-id-2 div.sk-parallel-item::before {content: \"\";position: absolute;border-left: 1px solid gray;box-sizing: border-box;top: 0;bottom: 0;left: 50%;z-index: -1;}#sk-container-id-2 div.sk-parallel-item {display: flex;flex-direction: column;z-index: 1;position: relative;background-color: white;}#sk-container-id-2 div.sk-parallel-item:first-child::after {align-self: flex-end;width: 50%;}#sk-container-id-2 div.sk-parallel-item:last-child::after {align-self: flex-start;width: 50%;}#sk-container-id-2 div.sk-parallel-item:only-child::after {width: 0;}#sk-container-id-2 div.sk-dashed-wrapped {border: 1px dashed gray;margin: 0 0.4em 0.5em 0.4em;box-sizing: border-box;padding-bottom: 0.4em;background-color: white;}#sk-container-id-2 div.sk-label label {font-family: monospace;font-weight: bold;display: inline-block;line-height: 1.2em;}#sk-container-id-2 div.sk-label-container {text-align: center;}#sk-container-id-2 div.sk-container {/* jupyter's `normalize.less` sets `[hidden] { display: none; }` but bootstrap.min.css set `[hidden] { display: none !important; }` so we also need the `!important` here to be able to override the default hidden behavior on the sphinx rendered scikit-learn.org. See: https://github.com/scikit-learn/scikit-learn/issues/21755 */display: inline-block !important;position: relative;}#sk-container-id-2 div.sk-text-repr-fallback {display: none;}</style><div id=\"sk-container-id-2\" class=\"sk-top-container\"><div class=\"sk-text-repr-fallback\"><pre>GridSearchCV(cv=3, estimator=RandomForestClassifier(random_state=241),\n",
              "             param_grid={&#x27;criterion&#x27;: [&#x27;gini&#x27;, &#x27;entropy&#x27;],\n",
              "                         &#x27;max_depth&#x27;: [2, 4, 6, 8, 10],\n",
              "                         &#x27;min_samples_leaf&#x27;: [1, 5, 10, 15, 20],\n",
              "                         &#x27;n_estimators&#x27;: [100, 500, 1000]},\n",
              "             scoring=&#x27;r2&#x27;)</pre><b>In a Jupyter environment, please rerun this cell to show the HTML representation or trust the notebook. <br />On GitHub, the HTML representation is unable to render, please try loading this page with nbviewer.org.</b></div><div class=\"sk-container\" hidden><div class=\"sk-item sk-dashed-wrapped\"><div class=\"sk-label-container\"><div class=\"sk-label sk-toggleable\"><input class=\"sk-toggleable__control sk-hidden--visually\" id=\"sk-estimator-id-4\" type=\"checkbox\" ><label for=\"sk-estimator-id-4\" class=\"sk-toggleable__label sk-toggleable__label-arrow\">GridSearchCV</label><div class=\"sk-toggleable__content\"><pre>GridSearchCV(cv=3, estimator=RandomForestClassifier(random_state=241),\n",
              "             param_grid={&#x27;criterion&#x27;: [&#x27;gini&#x27;, &#x27;entropy&#x27;],\n",
              "                         &#x27;max_depth&#x27;: [2, 4, 6, 8, 10],\n",
              "                         &#x27;min_samples_leaf&#x27;: [1, 5, 10, 15, 20],\n",
              "                         &#x27;n_estimators&#x27;: [100, 500, 1000]},\n",
              "             scoring=&#x27;r2&#x27;)</pre></div></div></div><div class=\"sk-parallel\"><div class=\"sk-parallel-item\"><div class=\"sk-item\"><div class=\"sk-label-container\"><div class=\"sk-label sk-toggleable\"><input class=\"sk-toggleable__control sk-hidden--visually\" id=\"sk-estimator-id-5\" type=\"checkbox\" ><label for=\"sk-estimator-id-5\" class=\"sk-toggleable__label sk-toggleable__label-arrow\">estimator: RandomForestClassifier</label><div class=\"sk-toggleable__content\"><pre>RandomForestClassifier(random_state=241)</pre></div></div></div><div class=\"sk-serial\"><div class=\"sk-item\"><div class=\"sk-estimator sk-toggleable\"><input class=\"sk-toggleable__control sk-hidden--visually\" id=\"sk-estimator-id-6\" type=\"checkbox\" ><label for=\"sk-estimator-id-6\" class=\"sk-toggleable__label sk-toggleable__label-arrow\">RandomForestClassifier</label><div class=\"sk-toggleable__content\"><pre>RandomForestClassifier(random_state=241)</pre></div></div></div></div></div></div></div></div></div></div>"
            ],
            "text/plain": [
              "GridSearchCV(cv=3, estimator=RandomForestClassifier(random_state=241),\n",
              "             param_grid={'criterion': ['gini', 'entropy'],\n",
              "                         'max_depth': [2, 4, 6, 8, 10],\n",
              "                         'min_samples_leaf': [1, 5, 10, 15, 20],\n",
              "                         'n_estimators': [100, 500, 1000]},\n",
              "             scoring='r2')"
            ]
          },
          "execution_count": 23,
          "metadata": {},
          "output_type": "execute_result"
        }
      ],
      "source": [
        "gs = GridSearchCV(RandomForestClassifier(random_state=241),\n",
        "                  param_grid={'n_estimators': [100, 500, 1000],\n",
        "                              'max_depth': [2, 4, 6, 8, 10],\n",
        "                              'min_samples_leaf': [1, 5, 10, 15, 20],\n",
        "                              'criterion': ['gini', 'entropy']},\n",
        "                  cv=3,\n",
        "                  scoring='r2')\n",
        "gs.fit(X_train, y_train)"
      ]
    },
    {
      "cell_type": "code",
      "execution_count": null,
      "metadata": {
        "colab": {
          "base_uri": "https://localhost:8080/"
        },
        "id": "tlU4v0Eq9gl9",
        "outputId": "960e688a-8180-41ac-efdd-2577ae288ff0"
      },
      "outputs": [
        {
          "name": "stdout",
          "output_type": "stream",
          "text": [
            "-0.42546666666666666\n",
            "{'criterion': 'gini', 'max_depth': 10, 'min_samples_leaf': 1, 'n_estimators': 1000}\n"
          ]
        }
      ],
      "source": [
        "print(gs.best_score_)\n",
        "print(gs.best_params_)"
      ]
    },
    {
      "cell_type": "code",
      "execution_count": null,
      "metadata": {
        "id": "z5qcbXL19ptT"
      },
      "outputs": [],
      "source": [
        "preds = gs.best_estimator_.predict(X_test)"
      ]
    },
    {
      "cell_type": "code",
      "execution_count": null,
      "metadata": {
        "id": "cyyZyl8v9ptT"
      },
      "outputs": [],
      "source": [
        "from sklearn.metrics import f1_score, accuracy_score, precision_score, recall_score\n",
        "\n",
        "f1 = f1_score(y_test, preds)\n",
        "acc = accuracy_score(y_test, preds)\n",
        "pr = precision_score(y_test, preds)\n",
        "rec = recall_score(y_test, preds)"
      ]
    },
    {
      "cell_type": "code",
      "execution_count": null,
      "metadata": {
        "colab": {
          "base_uri": "https://localhost:8080/"
        },
        "id": "RsqTri_n9ptU",
        "outputId": "e60ea8c3-4045-4657-d244-61d18f1c7212"
      },
      "outputs": [
        {
          "data": {
            "text/plain": [
              "(0.6193826274228285, 0.6459668803418803, 0.6709175738724728, 0.5752)"
            ]
          },
          "execution_count": 28,
          "metadata": {},
          "output_type": "execute_result"
        }
      ],
      "source": [
        "f1, acc, pr, rec"
      ]
    }
  ]
}