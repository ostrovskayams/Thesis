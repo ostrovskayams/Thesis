{
  "cells": [
    {
      "cell_type": "code",
      "source": [
        "import pandas as pd"
      ],
      "metadata": {
        "id": "MrfILVsRN98N"
      },
      "execution_count": null,
      "outputs": []
    },
    {
      "cell_type": "markdown",
      "metadata": {
        "id": "lH0QqKZcU7pr"
      },
      "source": [
        "## SVM augmentations"
      ]
    },
    {
      "cell_type": "code",
      "execution_count": null,
      "metadata": {
        "colab": {
          "base_uri": "https://localhost:8080/",
          "height": 597
        },
        "id": "FDn87sNPU7ps",
        "outputId": "49e7a88d-a8a8-49c3-c6cb-9ab7e56d20a5"
      },
      "outputs": [
        {
          "data": {
            "application/vnd.google.colaboratory.intrinsic+json": {
              "summary": "{\n  \"name\": \"df\",\n  \"rows\": 33730,\n  \"fields\": [\n    {\n      \"column\": \"text\",\n      \"properties\": {\n        \"dtype\": \"string\",\n        \"num_unique_values\": 33622,\n        \"samples\": [\n          \"\\u0413\\u043b\\u044f\\u0434\\u044f \\u043d\\u0430 \\u0441\\u043f\\u0438\\u0441\\u043e\\u043a \\u043e\\u0444\\u0438\\u0446\\u0438\\u0430\\u043b\\u044c\\u043d\\u044b\\u0445 \\u043b\\u0438\\u0446, \\u043f\\u043e\\u0434\\u0432\\u0435\\u0440\\u0433\\u0448\\u0438\\u0445\\u0441\\u044f \\u0441\\u0430\\u043d\\u043a\\u0446\\u0438\\u044f\\u043c \\u0421\\u0428\\u0410, \\u0441\\u0438\\u043b\\u044c\\u043d\\u043e \\u0443\\u0434\\u0438\\u0432\\u043b\\u044f\\u0435\\u0448\\u044c\\u0441\\u044f. \\u0412\\u0435\\u0434\\u044c \\u043b\\u044e\\u0431\\u043e\\u0439 \\u043f\\u043e\\u0440\\u044f\\u0434\\u043e\\u0447\\u043d\\u044b\\u0439 \\u0440\\u043e\\u0441\\u0441\\u0438\\u044f\\u043d\\u0438\\u043d \\u043d\\u0430\\u0437\\u0432\\u0430\\u043b \\u0431\\u044b \\u0441\\u043f\\u0438\\u0441\\u043e\\u043a \\u0431\\u043e\\u043b\\u0435\\u0435 \\u0442\\u043e\\u0447\\u043d\\u044b\\u0439 \\u0438 \\u043f\\u043e\\u043b\\u043d\\u044b\\u0439.\",\n          \"\\u0416\\u0435\\u043d\\u0449\\u0438\\u043d\\u0430 \\u0440\\u0430\\u0441\\u0441\\u043a\\u0430\\u0437\\u044b\\u0432\\u0430\\u0435\\u0442 \\u043f\\u043e\\u0434\\u0440\\u0443\\u0433\\u0430\\u043c: - \\u0412\\u043e\\u043e\\u0431\\u0449\\u0435-\\u0442\\u043e \\u043c\\u043e\\u0439 \\u043c\\u0443\\u0436 \\u043f\\u043e \\u0437\\u043d\\u0430\\u043a\\u0443 \\u0437\\u043e\\u0434\\u0438\\u0430\\u043a\\u0430 - \\u0421\\u043a\\u043e\\u0440\\u043f\\u0438\\u043e\\u043d. \\u0410 \\u041a\\u043e\\u0437\\u0435\\u0440\\u043e\\u0433\\u043e\\u043c \\u0443\\u0436\\u0435 \\u044f \\u0435\\u0433\\u043e \\u0441\\u0434\\u0435\\u043b\\u0430\\u043b\\u0430!\",\n          \"\\u0410 \\u043d\\u0435 \\u0442\\u043e \\u0447\\u0442\\u043e \\u0432\\u0447\\u0435\\u0440\\u0430\\u0441\\u044c.... \\u0442\\u0430\\u043a \\u0434\\u0435\\u0440\\u0436\\u0430\\u0442\\u044c \\u0443\\u0432\\u0430\\u0436\\u0430\\u0435\\u043c\\u044b\\u0435 \\u0445\\u0432\\u043e\\u0441\\u0442 \\u043f\\u0438\\u0441\\u0442\\u043e\\u043b\\u0435\\u0442\\u043e\\u043c!\"\n        ],\n        \"semantic_type\": \"\",\n        \"description\": \"\"\n      }\n    },\n    {\n      \"column\": \"is_joke\",\n      \"properties\": {\n        \"dtype\": \"number\",\n        \"std\": 0,\n        \"min\": 0,\n        \"max\": 1,\n        \"num_unique_values\": 2,\n        \"samples\": [\n          1,\n          0\n        ],\n        \"semantic_type\": \"\",\n        \"description\": \"\"\n      }\n    },\n    {\n      \"column\": \"clean_text\",\n      \"properties\": {\n        \"dtype\": \"string\",\n        \"num_unique_values\": 33616,\n        \"samples\": [\n          \"\\u0447\\u0442\\u043e \\u0436\\u0435 \\u0432\\u044b \\u0442\\u0430\\u043a \\u0431\\u0435\\u0437\\u0434\\u0430\\u0440\\u043d\\u043e \\u043f\\u043e\\u0441\\u043b\\u0435\\u0434\\u043d\\u0438\\u0439 \\u0434\\u0435\\u043d\\u044c \\u0436\\u0438\\u0437\\u043d\\u0438 \\u0442\\u043e\\u0433\\u0434\\u0430 \\u043f\\u0440\\u043e\\u0432\\u043e\\u0434\\u0438\\u0442\\u0435 \\u0432\\u043e \\u0444\\u043b\\u0443\\u0434\\u0435\",\n          \"\\u043f\\u043e\\u0445\\u0443\\u0434\\u0435\\u043b\\u0430 \\u043d\\u0430 \\u043a\\u0438\\u043b\\u043e\\u0433\\u0440\\u0430\\u043c\\u043c\\u0430 \\u043d\\u0430 \\u0440\\u0430\\u0434\\u043e\\u0441\\u0442\\u044f\\u0445 \\u043d\\u0430\\u0436\\u0440\\u0430\\u043b\\u0430 \\u0435\\u0449\\u0435\"\n        ],\n        \"semantic_type\": \"\",\n        \"description\": \"\"\n      }\n    },\n    {\n      \"column\": \"lemmas\",\n      \"properties\": {\n        \"dtype\": \"string\",\n        \"num_unique_values\": 33611,\n        \"samples\": [\n          \"\\u0430\\u043a\\u0446\\u0438\\u044f \\u0437\\u0430\\u043a\\u0430\\u0437 \\u0431\\u0435\\u0442\\u043e\\u043d \\u0443\\u0441\\u043b\\u0443\\u0433\\u0430 \\u0433\\u043b\\u0443\\u0431\\u0438\\u043d\\u043d\\u044b\\u0439 \\u0432\\u0438\\u0431\\u0440\\u0430\\u0442\\u043e\\u0440 \\u043f\\u043e\\u0434\\u0430\\u0440\\u043e\\u043a\",\n          \"\\u0434\\u0435\\u043d\\u044c\\u0433\\u0430 \\u0434\\u0443\\u043c\\u0430\\u0442\\u044c \\u0431\\u0430\\u0431\\u043e\\u0447\\u043a\\u0430 \\u043d\\u043e\\u0447\\u043d\\u043e\\u0439 \\u0441\\u043d\\u044f\\u0442\\u044c \\u0438\\u0431\\u043e \\u0437\\u043d\\u0430\\u044e\\u0442\\u0443\\u043c\\u0435\\u044e\\u0442\"\n        ],\n        \"semantic_type\": \"\",\n        \"description\": \"\"\n      }\n    }\n  ]\n}",
              "type": "dataframe",
              "variable_name": "df"
            },
            "text/html": [
              "\n",
              "  <div id=\"df-7b8ca8e2-5f69-4c1f-8260-061bede3a46a\" class=\"colab-df-container\">\n",
              "    <div>\n",
              "<style scoped>\n",
              "    .dataframe tbody tr th:only-of-type {\n",
              "        vertical-align: middle;\n",
              "    }\n",
              "\n",
              "    .dataframe tbody tr th {\n",
              "        vertical-align: top;\n",
              "    }\n",
              "\n",
              "    .dataframe thead th {\n",
              "        text-align: right;\n",
              "    }\n",
              "</style>\n",
              "<table border=\"1\" class=\"dataframe\">\n",
              "  <thead>\n",
              "    <tr style=\"text-align: right;\">\n",
              "      <th></th>\n",
              "      <th>text</th>\n",
              "      <th>is_joke</th>\n",
              "      <th>clean_text</th>\n",
              "      <th>lemmas</th>\n",
              "    </tr>\n",
              "  </thead>\n",
              "  <tbody>\n",
              "    <tr>\n",
              "      <th>0</th>\n",
              "      <td>Да все давно пора с этими дорожниками... В оди...</td>\n",
              "      <td>0</td>\n",
              "      <td>да все давно пора с этими дорожниками в один к...</td>\n",
              "      <td>давно пора этот дорожник котёл сборная россия ...</td>\n",
              "    </tr>\n",
              "    <tr>\n",
              "      <th>1</th>\n",
              "      <td>-лада калина теперь с музыкальной стереосистем...</td>\n",
              "      <td>0</td>\n",
              "      <td>лада калина теперь с музыкальной стереосистемо...</td>\n",
              "      <td>лада калина музыкальный стереосистема помирать...</td>\n",
              "    </tr>\n",
              "    <tr>\n",
              "      <th>2</th>\n",
              "      <td>А вы разве программист? Вам до программиста, к...</td>\n",
              "      <td>0</td>\n",
              "      <td>а вы разве программист вам до программиста как...</td>\n",
              "      <td>программист программист луна рак учиться учиться</td>\n",
              "    </tr>\n",
              "    <tr>\n",
              "      <th>3</th>\n",
              "      <td>Отборочный матч чемпионата Европы-2012. Сборна...</td>\n",
              "      <td>0</td>\n",
              "      <td>отборочный матч чемпионата европы сборная росс...</td>\n",
              "      <td>отборочный матч чемпионат европа сборная росси...</td>\n",
              "    </tr>\n",
              "    <tr>\n",
              "      <th>4</th>\n",
              "      <td>В центре коррупционного скандала - ФГУП \"Сверд...</td>\n",
              "      <td>0</td>\n",
              "      <td>в центре коррупционного скандала фгуп свердлов...</td>\n",
              "      <td>центр коррупционный скандал фгуп свердловскавт...</td>\n",
              "    </tr>\n",
              "    <tr>\n",
              "      <th>...</th>\n",
              "      <td>...</td>\n",
              "      <td>...</td>\n",
              "      <td>...</td>\n",
              "      <td>...</td>\n",
              "    </tr>\n",
              "    <tr>\n",
              "      <th>33725</th>\n",
              "      <td>Призвал бог к себе трех грузинов и говорит:\\n—...</td>\n",
              "      <td>1</td>\n",
              "      <td>призвал бог к себе трех грузинов и говорит — у...</td>\n",
              "      <td>призвать бог три грузинов говорить — задание п...</td>\n",
              "    </tr>\n",
              "    <tr>\n",
              "      <th>33726</th>\n",
              "      <td>Попал еврей в антимир. Идёт по антиулице, свер...</td>\n",
              "      <td>1</td>\n",
              "      <td>попал еврей в антимир идёт по антиулице сверну...</td>\n",
              "      <td>попасть еврей антимир идёт антиулице свернуть ...</td>\n",
              "    </tr>\n",
              "    <tr>\n",
              "      <th>33727</th>\n",
              "      <td>Как называют копрофила который готов на всё ра...</td>\n",
              "      <td>1</td>\n",
              "      <td>как называют копрофила который готов на всё ра...</td>\n",
              "      <td>называть копрофила который готовый всё ради св...</td>\n",
              "    </tr>\n",
              "    <tr>\n",
              "      <th>33728</th>\n",
              "      <td>Все девушки медленно бегают. Мне кажется, прир...</td>\n",
              "      <td>1</td>\n",
              "      <td>все девушки медленно бегают мне кажется природ...</td>\n",
              "      <td>девушка медленно бегать казаться природа это с...</td>\n",
              "    </tr>\n",
              "    <tr>\n",
              "      <th>33729</th>\n",
              "      <td>встретились как то коллекционеры\\n— я марки со...</td>\n",
              "      <td>1</td>\n",
              "      <td>встретились как то коллекционеры — я марки соб...</td>\n",
              "      <td>встретиться коллекционер — марка собирать — мо...</td>\n",
              "    </tr>\n",
              "  </tbody>\n",
              "</table>\n",
              "<p>33730 rows × 4 columns</p>\n",
              "</div>\n",
              "    <div class=\"colab-df-buttons\">\n",
              "\n",
              "  <div class=\"colab-df-container\">\n",
              "    <button class=\"colab-df-convert\" onclick=\"convertToInteractive('df-7b8ca8e2-5f69-4c1f-8260-061bede3a46a')\"\n",
              "            title=\"Convert this dataframe to an interactive table.\"\n",
              "            style=\"display:none;\">\n",
              "\n",
              "  <svg xmlns=\"http://www.w3.org/2000/svg\" height=\"24px\" viewBox=\"0 -960 960 960\">\n",
              "    <path d=\"M120-120v-720h720v720H120Zm60-500h600v-160H180v160Zm220 220h160v-160H400v160Zm0 220h160v-160H400v160ZM180-400h160v-160H180v160Zm440 0h160v-160H620v160ZM180-180h160v-160H180v160Zm440 0h160v-160H620v160Z\"/>\n",
              "  </svg>\n",
              "    </button>\n",
              "\n",
              "  <style>\n",
              "    .colab-df-container {\n",
              "      display:flex;\n",
              "      gap: 12px;\n",
              "    }\n",
              "\n",
              "    .colab-df-convert {\n",
              "      background-color: #E8F0FE;\n",
              "      border: none;\n",
              "      border-radius: 50%;\n",
              "      cursor: pointer;\n",
              "      display: none;\n",
              "      fill: #1967D2;\n",
              "      height: 32px;\n",
              "      padding: 0 0 0 0;\n",
              "      width: 32px;\n",
              "    }\n",
              "\n",
              "    .colab-df-convert:hover {\n",
              "      background-color: #E2EBFA;\n",
              "      box-shadow: 0px 1px 2px rgba(60, 64, 67, 0.3), 0px 1px 3px 1px rgba(60, 64, 67, 0.15);\n",
              "      fill: #174EA6;\n",
              "    }\n",
              "\n",
              "    .colab-df-buttons div {\n",
              "      margin-bottom: 4px;\n",
              "    }\n",
              "\n",
              "    [theme=dark] .colab-df-convert {\n",
              "      background-color: #3B4455;\n",
              "      fill: #D2E3FC;\n",
              "    }\n",
              "\n",
              "    [theme=dark] .colab-df-convert:hover {\n",
              "      background-color: #434B5C;\n",
              "      box-shadow: 0px 1px 3px 1px rgba(0, 0, 0, 0.15);\n",
              "      filter: drop-shadow(0px 1px 2px rgba(0, 0, 0, 0.3));\n",
              "      fill: #FFFFFF;\n",
              "    }\n",
              "  </style>\n",
              "\n",
              "    <script>\n",
              "      const buttonEl =\n",
              "        document.querySelector('#df-7b8ca8e2-5f69-4c1f-8260-061bede3a46a button.colab-df-convert');\n",
              "      buttonEl.style.display =\n",
              "        google.colab.kernel.accessAllowed ? 'block' : 'none';\n",
              "\n",
              "      async function convertToInteractive(key) {\n",
              "        const element = document.querySelector('#df-7b8ca8e2-5f69-4c1f-8260-061bede3a46a');\n",
              "        const dataTable =\n",
              "          await google.colab.kernel.invokeFunction('convertToInteractive',\n",
              "                                                    [key], {});\n",
              "        if (!dataTable) return;\n",
              "\n",
              "        const docLinkHtml = 'Like what you see? Visit the ' +\n",
              "          '<a target=\"_blank\" href=https://colab.research.google.com/notebooks/data_table.ipynb>data table notebook</a>'\n",
              "          + ' to learn more about interactive tables.';\n",
              "        element.innerHTML = '';\n",
              "        dataTable['output_type'] = 'display_data';\n",
              "        await google.colab.output.renderOutput(dataTable, element);\n",
              "        const docLink = document.createElement('div');\n",
              "        docLink.innerHTML = docLinkHtml;\n",
              "        element.appendChild(docLink);\n",
              "      }\n",
              "    </script>\n",
              "  </div>\n",
              "\n",
              "\n",
              "<div id=\"df-b8b531f2-8366-4cca-86b6-eff44c17687b\">\n",
              "  <button class=\"colab-df-quickchart\" onclick=\"quickchart('df-b8b531f2-8366-4cca-86b6-eff44c17687b')\"\n",
              "            title=\"Suggest charts\"\n",
              "            style=\"display:none;\">\n",
              "\n",
              "<svg xmlns=\"http://www.w3.org/2000/svg\" height=\"24px\"viewBox=\"0 0 24 24\"\n",
              "     width=\"24px\">\n",
              "    <g>\n",
              "        <path d=\"M19 3H5c-1.1 0-2 .9-2 2v14c0 1.1.9 2 2 2h14c1.1 0 2-.9 2-2V5c0-1.1-.9-2-2-2zM9 17H7v-7h2v7zm4 0h-2V7h2v10zm4 0h-2v-4h2v4z\"/>\n",
              "    </g>\n",
              "</svg>\n",
              "  </button>\n",
              "\n",
              "<style>\n",
              "  .colab-df-quickchart {\n",
              "      --bg-color: #E8F0FE;\n",
              "      --fill-color: #1967D2;\n",
              "      --hover-bg-color: #E2EBFA;\n",
              "      --hover-fill-color: #174EA6;\n",
              "      --disabled-fill-color: #AAA;\n",
              "      --disabled-bg-color: #DDD;\n",
              "  }\n",
              "\n",
              "  [theme=dark] .colab-df-quickchart {\n",
              "      --bg-color: #3B4455;\n",
              "      --fill-color: #D2E3FC;\n",
              "      --hover-bg-color: #434B5C;\n",
              "      --hover-fill-color: #FFFFFF;\n",
              "      --disabled-bg-color: #3B4455;\n",
              "      --disabled-fill-color: #666;\n",
              "  }\n",
              "\n",
              "  .colab-df-quickchart {\n",
              "    background-color: var(--bg-color);\n",
              "    border: none;\n",
              "    border-radius: 50%;\n",
              "    cursor: pointer;\n",
              "    display: none;\n",
              "    fill: var(--fill-color);\n",
              "    height: 32px;\n",
              "    padding: 0;\n",
              "    width: 32px;\n",
              "  }\n",
              "\n",
              "  .colab-df-quickchart:hover {\n",
              "    background-color: var(--hover-bg-color);\n",
              "    box-shadow: 0 1px 2px rgba(60, 64, 67, 0.3), 0 1px 3px 1px rgba(60, 64, 67, 0.15);\n",
              "    fill: var(--button-hover-fill-color);\n",
              "  }\n",
              "\n",
              "  .colab-df-quickchart-complete:disabled,\n",
              "  .colab-df-quickchart-complete:disabled:hover {\n",
              "    background-color: var(--disabled-bg-color);\n",
              "    fill: var(--disabled-fill-color);\n",
              "    box-shadow: none;\n",
              "  }\n",
              "\n",
              "  .colab-df-spinner {\n",
              "    border: 2px solid var(--fill-color);\n",
              "    border-color: transparent;\n",
              "    border-bottom-color: var(--fill-color);\n",
              "    animation:\n",
              "      spin 1s steps(1) infinite;\n",
              "  }\n",
              "\n",
              "  @keyframes spin {\n",
              "    0% {\n",
              "      border-color: transparent;\n",
              "      border-bottom-color: var(--fill-color);\n",
              "      border-left-color: var(--fill-color);\n",
              "    }\n",
              "    20% {\n",
              "      border-color: transparent;\n",
              "      border-left-color: var(--fill-color);\n",
              "      border-top-color: var(--fill-color);\n",
              "    }\n",
              "    30% {\n",
              "      border-color: transparent;\n",
              "      border-left-color: var(--fill-color);\n",
              "      border-top-color: var(--fill-color);\n",
              "      border-right-color: var(--fill-color);\n",
              "    }\n",
              "    40% {\n",
              "      border-color: transparent;\n",
              "      border-right-color: var(--fill-color);\n",
              "      border-top-color: var(--fill-color);\n",
              "    }\n",
              "    60% {\n",
              "      border-color: transparent;\n",
              "      border-right-color: var(--fill-color);\n",
              "    }\n",
              "    80% {\n",
              "      border-color: transparent;\n",
              "      border-right-color: var(--fill-color);\n",
              "      border-bottom-color: var(--fill-color);\n",
              "    }\n",
              "    90% {\n",
              "      border-color: transparent;\n",
              "      border-bottom-color: var(--fill-color);\n",
              "    }\n",
              "  }\n",
              "</style>\n",
              "\n",
              "  <script>\n",
              "    async function quickchart(key) {\n",
              "      const quickchartButtonEl =\n",
              "        document.querySelector('#' + key + ' button');\n",
              "      quickchartButtonEl.disabled = true;  // To prevent multiple clicks.\n",
              "      quickchartButtonEl.classList.add('colab-df-spinner');\n",
              "      try {\n",
              "        const charts = await google.colab.kernel.invokeFunction(\n",
              "            'suggestCharts', [key], {});\n",
              "      } catch (error) {\n",
              "        console.error('Error during call to suggestCharts:', error);\n",
              "      }\n",
              "      quickchartButtonEl.classList.remove('colab-df-spinner');\n",
              "      quickchartButtonEl.classList.add('colab-df-quickchart-complete');\n",
              "    }\n",
              "    (() => {\n",
              "      let quickchartButtonEl =\n",
              "        document.querySelector('#df-b8b531f2-8366-4cca-86b6-eff44c17687b button');\n",
              "      quickchartButtonEl.style.display =\n",
              "        google.colab.kernel.accessAllowed ? 'block' : 'none';\n",
              "    })();\n",
              "  </script>\n",
              "</div>\n",
              "    </div>\n",
              "  </div>\n"
            ],
            "text/plain": [
              "                                                    text  is_joke  \\\n",
              "0      Да все давно пора с этими дорожниками... В оди...        0   \n",
              "1      -лада калина теперь с музыкальной стереосистем...        0   \n",
              "2      А вы разве программист? Вам до программиста, к...        0   \n",
              "3      Отборочный матч чемпионата Европы-2012. Сборна...        0   \n",
              "4      В центре коррупционного скандала - ФГУП \"Сверд...        0   \n",
              "...                                                  ...      ...   \n",
              "33725  Призвал бог к себе трех грузинов и говорит:\\n—...        1   \n",
              "33726  Попал еврей в антимир. Идёт по антиулице, свер...        1   \n",
              "33727  Как называют копрофила который готов на всё ра...        1   \n",
              "33728  Все девушки медленно бегают. Мне кажется, прир...        1   \n",
              "33729  встретились как то коллекционеры\\n— я марки со...        1   \n",
              "\n",
              "                                              clean_text  \\\n",
              "0      да все давно пора с этими дорожниками в один к...   \n",
              "1      лада калина теперь с музыкальной стереосистемо...   \n",
              "2      а вы разве программист вам до программиста как...   \n",
              "3      отборочный матч чемпионата европы сборная росс...   \n",
              "4      в центре коррупционного скандала фгуп свердлов...   \n",
              "...                                                  ...   \n",
              "33725  призвал бог к себе трех грузинов и говорит — у...   \n",
              "33726  попал еврей в антимир идёт по антиулице сверну...   \n",
              "33727  как называют копрофила который готов на всё ра...   \n",
              "33728  все девушки медленно бегают мне кажется природ...   \n",
              "33729  встретились как то коллекционеры — я марки соб...   \n",
              "\n",
              "                                                  lemmas  \n",
              "0      давно пора этот дорожник котёл сборная россия ...  \n",
              "1      лада калина музыкальный стереосистема помирать...  \n",
              "2       программист программист луна рак учиться учиться  \n",
              "3      отборочный матч чемпионат европа сборная росси...  \n",
              "4      центр коррупционный скандал фгуп свердловскавт...  \n",
              "...                                                  ...  \n",
              "33725  призвать бог три грузинов говорить — задание п...  \n",
              "33726  попасть еврей антимир идёт антиулице свернуть ...  \n",
              "33727  называть копрофила который готовый всё ради св...  \n",
              "33728  девушка медленно бегать казаться природа это с...  \n",
              "33729  встретиться коллекционер — марка собирать — мо...  \n",
              "\n",
              "[33730 rows x 4 columns]"
            ]
          },
          "execution_count": 4,
          "metadata": {},
          "output_type": "execute_result"
        }
      ],
      "source": [
        "df = pd.read_csv('new_train.csv', sep='\\t')\n",
        "df"
      ]
    },
    {
      "cell_type": "code",
      "execution_count": null,
      "metadata": {
        "colab": {
          "base_uri": "https://localhost:8080/",
          "height": 597
        },
        "id": "-Ul1_OtkU7pt",
        "outputId": "6e1bba3c-edb2-43e9-f62f-c64ea9f60b6a"
      },
      "outputs": [
        {
          "data": {
            "application/vnd.google.colaboratory.intrinsic+json": {
              "summary": "{\n  \"name\": \"df_\",\n  \"rows\": 7488,\n  \"fields\": [\n    {\n      \"column\": \"text\",\n      \"properties\": {\n        \"dtype\": \"string\",\n        \"num_unique_values\": 7488,\n        \"samples\": [\n          \"\\u0422\\u0430\\u043a \\u0438 \\u0435\\u0441\\u0442\\u044c. \\u041d\\u0430 \\u0417\\u0435\\u043c\\u043b\\u0435 \\u043d\\u0435\\u043b\\u044c\\u0437\\u044f \\u043d\\u0438\\u0447\\u0435\\u0433\\u043e \\u0443\\u043a\\u0440\\u0430\\u0441\\u0442\\u044c. \\u041c\\u043e\\u0436\\u043d\\u043e \\u0442\\u043e\\u043b\\u044c\\u043a\\u043e \\u043f\\u0435\\u0440\\u0435\\u043c\\u0435\\u0441\\u0442\\u0438\\u0442\\u044c.\",\n          \"\\u041a\\u0430\\u043a\\u043e\\u0439 \\u0438\\u0437 \\u043a\\u043e\\u043d\\u044c\\u044f\\u043a\\u043e\\u0432 \\u0432\\u044b \\u043f\\u0440\\u0435\\u0434\\u043f\\u043e\\u0447\\u0438\\u0442\\u0430\\u0435\\u0442\\u0435? -\\u0418\\u0437 \\u0432\\u0441\\u0435\\u0445 \\u043a\\u043e\\u043d\\u044c\\u044f\\u043a\\u043e\\u0432 \\u044f \\u043f\\u0440\\u0435\\u0434\\u043f\\u043e\\u0447\\u0438\\u0442\\u0430\\u044e \\u0432\\u043e\\u0434\\u043a\\u0443!!\",\n          \"\\u0418 \\u043a\\u0430\\u043a \\u043d\\u0430\\u0441 \\u0434\\u043e \\u0441\\u0438\\u0445 \\u043f\\u043e\\u0440 \\u043d\\u0435 \\u0437\\u0430\\u0442\\u0430\\u0431\\u0430\\u043d\\u0438\\u043b\\u0438 \\u0437\\u0430 \\u0441\\u0435\\u043a\\u0441\\u0443\\u0430\\u043b\\u044c\\u043d\\u044b\\u0435 \\u0434\\u043e\\u043c\\u043e\\u0433\\u0430\\u0442\\u0435\\u043b\\u044c\\u0441\\u0442\\u0432\\u0430 \\u043a \\u043c\\u043e\\u0434\\u0435\\u0440\\u0430\\u0442\\u043e\\u0440\\u0443?\"\n        ],\n        \"semantic_type\": \"\",\n        \"description\": \"\"\n      }\n    },\n    {\n      \"column\": \"is_joke\",\n      \"properties\": {\n        \"dtype\": \"number\",\n        \"std\": 0,\n        \"min\": 0,\n        \"max\": 1,\n        \"num_unique_values\": 2,\n        \"samples\": [\n          1,\n          0\n        ],\n        \"semantic_type\": \"\",\n        \"description\": \"\"\n      }\n    },\n    {\n      \"column\": \"clean_text\",\n      \"properties\": {\n        \"dtype\": \"string\",\n        \"num_unique_values\": 7488,\n        \"samples\": [\n          \"\\u0442\\u0430\\u043a \\u0438 \\u0435\\u0441\\u0442\\u044c \\u043d\\u0430 \\u0437\\u0435\\u043c\\u043b\\u0435 \\u043d\\u0435\\u043b\\u044c\\u0437\\u044f \\u043d\\u0438\\u0447\\u0435\\u0433\\u043e \\u0443\\u043a\\u0440\\u0430\\u0441\\u0442\\u044c \\u043c\\u043e\\u0436\\u043d\\u043e \\u0442\\u043e\\u043b\\u044c\\u043a\\u043e \\u043f\\u0435\\u0440\\u0435\\u043c\\u0435\\u0441\\u0442\\u0438\\u0442\\u044c\",\n          \"\\u043a\\u0430\\u043a\\u043e\\u0439 \\u0438\\u0437 \\u043a\\u043e\\u043d\\u044c\\u044f\\u043a\\u043e\\u0432 \\u0432\\u044b \\u043f\\u0440\\u0435\\u0434\\u043f\\u043e\\u0447\\u0438\\u0442\\u0430\\u0435\\u0442\\u0435 \\u0438\\u0437 \\u0432\\u0441\\u0435\\u0445 \\u043a\\u043e\\u043d\\u044c\\u044f\\u043a\\u043e\\u0432 \\u044f \\u043f\\u0440\\u0435\\u0434\\u043f\\u043e\\u0447\\u0438\\u0442\\u0430\\u044e \\u0432\\u043e\\u0434\\u043a\\u0443\"\n        ],\n        \"semantic_type\": \"\",\n        \"description\": \"\"\n      }\n    },\n    {\n      \"column\": \"lemmas\",\n      \"properties\": {\n        \"dtype\": \"string\",\n        \"num_unique_values\": 7488,\n        \"samples\": [\n          \"\\u0437\\u0435\\u043c\\u043b\\u044f \\u0443\\u043a\\u0440\\u0430\\u0441\\u0442\\u044c \\u043f\\u0435\\u0440\\u0435\\u043c\\u0435\\u0441\\u0442\\u0438\\u0442\\u044c\",\n          \"\\u043a\\u043e\\u043d\\u044c\\u044f\\u043a\\u043e\\u0432 \\u043f\\u0440\\u0435\\u0434\\u043f\\u043e\\u0447\\u0438\\u0442\\u0430\\u0442\\u044c \\u043a\\u043e\\u043d\\u044c\\u044f\\u043a\\u043e\\u0432 \\u043f\\u0440\\u0435\\u0434\\u043f\\u043e\\u0447\\u0438\\u0442\\u0430\\u0442\\u044c \\u0432\\u043e\\u0434\\u043a\\u0430\"\n        ],\n        \"semantic_type\": \"\",\n        \"description\": \"\"\n      }\n    }\n  ]\n}",
              "type": "dataframe",
              "variable_name": "df_"
            },
            "text/html": [
              "\n",
              "  <div id=\"df-1969a5e0-26df-4907-bf23-01987c104555\" class=\"colab-df-container\">\n",
              "    <div>\n",
              "<style scoped>\n",
              "    .dataframe tbody tr th:only-of-type {\n",
              "        vertical-align: middle;\n",
              "    }\n",
              "\n",
              "    .dataframe tbody tr th {\n",
              "        vertical-align: top;\n",
              "    }\n",
              "\n",
              "    .dataframe thead th {\n",
              "        text-align: right;\n",
              "    }\n",
              "</style>\n",
              "<table border=\"1\" class=\"dataframe\">\n",
              "  <thead>\n",
              "    <tr style=\"text-align: right;\">\n",
              "      <th></th>\n",
              "      <th>text</th>\n",
              "      <th>is_joke</th>\n",
              "      <th>clean_text</th>\n",
              "      <th>lemmas</th>\n",
              "    </tr>\n",
              "  </thead>\n",
              "  <tbody>\n",
              "    <tr>\n",
              "      <th>0</th>\n",
              "      <td>Люди и шимпанзе дальше друг от друга - шимпанз...</td>\n",
              "      <td>0</td>\n",
              "      <td>люди и шимпанзе дальше друг от друга шимпанзе ...</td>\n",
              "      <td>человек шимпанзе далёкий друг друга шимпанзе о...</td>\n",
              "    </tr>\n",
              "    <tr>\n",
              "      <th>1</th>\n",
              "      <td>Отгрузил продукцию с отсрочкой платежа, тебе н...</td>\n",
              "      <td>0</td>\n",
              "      <td>отгрузил продукцию с отсрочкой платежа тебе не...</td>\n",
              "      <td>отгрузить продукция отсрочка платёж тебе оплат...</td>\n",
              "    </tr>\n",
              "    <tr>\n",
              "      <th>2</th>\n",
              "      <td>Дочери Путина поступают в ВУЗ конкурс 12 ВУЗ'о...</td>\n",
              "      <td>0</td>\n",
              "      <td>дочери путина поступают в вуз конкурс вузов на...</td>\n",
              "      <td>дочь путин поступать вуз конкурс вуз одно место</td>\n",
              "    </tr>\n",
              "    <tr>\n",
              "      <th>3</th>\n",
              "      <td>Ведь вон, что творится: Пьяные летчики рвутся ...</td>\n",
              "      <td>0</td>\n",
              "      <td>ведь вон что творится пьяные летчики рвутся уп...</td>\n",
              "      <td>вон творится пьяный лётчик рваться управлять с...</td>\n",
              "    </tr>\n",
              "    <tr>\n",
              "      <th>4</th>\n",
              "      <td>знает сила правду да не любит сказывать</td>\n",
              "      <td>0</td>\n",
              "      <td>знает сила правду да не любит сказывать</td>\n",
              "      <td>знать сила правда любить сказывать</td>\n",
              "    </tr>\n",
              "    <tr>\n",
              "      <th>...</th>\n",
              "      <td>...</td>\n",
              "      <td>...</td>\n",
              "      <td>...</td>\n",
              "      <td>...</td>\n",
              "    </tr>\n",
              "    <tr>\n",
              "      <th>7483</th>\n",
              "      <td>На наших глазах женщины стали стремительно пре...</td>\n",
              "      <td>1</td>\n",
              "      <td>на наших глазах женщины стали стремительно пре...</td>\n",
              "      <td>наш глаз женщина стать стремительно превращать...</td>\n",
              "    </tr>\n",
              "    <tr>\n",
              "      <th>7484</th>\n",
              "      <td>- Что вы думаете о значении антикризисных мер ...</td>\n",
              "      <td>1</td>\n",
              "      <td>что вы думаете о значении антикризисных мер пр...</td>\n",
              "      <td>думать значение антикризисный мера правительст...</td>\n",
              "    </tr>\n",
              "    <tr>\n",
              "      <th>7485</th>\n",
              "      <td>Рекламное объявление: Возьмите квартиру в ипот...</td>\n",
              "      <td>1</td>\n",
              "      <td>рекламное объявление возьмите квартиру в ипоте...</td>\n",
              "      <td>рекламный объявление взять квартира ипотека на...</td>\n",
              "    </tr>\n",
              "    <tr>\n",
              "      <th>7486</th>\n",
              "      <td>— Никто не возвращается из путешествий таким, ...</td>\n",
              "      <td>1</td>\n",
              "      <td>— никто не возвращается из путешествий таким к...</td>\n",
              "      <td>— никто возвращаться путешествие такой какой р...</td>\n",
              "    </tr>\n",
              "    <tr>\n",
              "      <th>7487</th>\n",
              "      <td>Лучший (к тому же бесплатный) антиалиазинг - б...</td>\n",
              "      <td>1</td>\n",
              "      <td>лучший к тому же бесплатный антиалиазинг бабуш...</td>\n",
              "      <td>хороший тот бесплатный антиалиазинг бабушкины ...</td>\n",
              "    </tr>\n",
              "  </tbody>\n",
              "</table>\n",
              "<p>7488 rows × 4 columns</p>\n",
              "</div>\n",
              "    <div class=\"colab-df-buttons\">\n",
              "\n",
              "  <div class=\"colab-df-container\">\n",
              "    <button class=\"colab-df-convert\" onclick=\"convertToInteractive('df-1969a5e0-26df-4907-bf23-01987c104555')\"\n",
              "            title=\"Convert this dataframe to an interactive table.\"\n",
              "            style=\"display:none;\">\n",
              "\n",
              "  <svg xmlns=\"http://www.w3.org/2000/svg\" height=\"24px\" viewBox=\"0 -960 960 960\">\n",
              "    <path d=\"M120-120v-720h720v720H120Zm60-500h600v-160H180v160Zm220 220h160v-160H400v160Zm0 220h160v-160H400v160ZM180-400h160v-160H180v160Zm440 0h160v-160H620v160ZM180-180h160v-160H180v160Zm440 0h160v-160H620v160Z\"/>\n",
              "  </svg>\n",
              "    </button>\n",
              "\n",
              "  <style>\n",
              "    .colab-df-container {\n",
              "      display:flex;\n",
              "      gap: 12px;\n",
              "    }\n",
              "\n",
              "    .colab-df-convert {\n",
              "      background-color: #E8F0FE;\n",
              "      border: none;\n",
              "      border-radius: 50%;\n",
              "      cursor: pointer;\n",
              "      display: none;\n",
              "      fill: #1967D2;\n",
              "      height: 32px;\n",
              "      padding: 0 0 0 0;\n",
              "      width: 32px;\n",
              "    }\n",
              "\n",
              "    .colab-df-convert:hover {\n",
              "      background-color: #E2EBFA;\n",
              "      box-shadow: 0px 1px 2px rgba(60, 64, 67, 0.3), 0px 1px 3px 1px rgba(60, 64, 67, 0.15);\n",
              "      fill: #174EA6;\n",
              "    }\n",
              "\n",
              "    .colab-df-buttons div {\n",
              "      margin-bottom: 4px;\n",
              "    }\n",
              "\n",
              "    [theme=dark] .colab-df-convert {\n",
              "      background-color: #3B4455;\n",
              "      fill: #D2E3FC;\n",
              "    }\n",
              "\n",
              "    [theme=dark] .colab-df-convert:hover {\n",
              "      background-color: #434B5C;\n",
              "      box-shadow: 0px 1px 3px 1px rgba(0, 0, 0, 0.15);\n",
              "      filter: drop-shadow(0px 1px 2px rgba(0, 0, 0, 0.3));\n",
              "      fill: #FFFFFF;\n",
              "    }\n",
              "  </style>\n",
              "\n",
              "    <script>\n",
              "      const buttonEl =\n",
              "        document.querySelector('#df-1969a5e0-26df-4907-bf23-01987c104555 button.colab-df-convert');\n",
              "      buttonEl.style.display =\n",
              "        google.colab.kernel.accessAllowed ? 'block' : 'none';\n",
              "\n",
              "      async function convertToInteractive(key) {\n",
              "        const element = document.querySelector('#df-1969a5e0-26df-4907-bf23-01987c104555');\n",
              "        const dataTable =\n",
              "          await google.colab.kernel.invokeFunction('convertToInteractive',\n",
              "                                                    [key], {});\n",
              "        if (!dataTable) return;\n",
              "\n",
              "        const docLinkHtml = 'Like what you see? Visit the ' +\n",
              "          '<a target=\"_blank\" href=https://colab.research.google.com/notebooks/data_table.ipynb>data table notebook</a>'\n",
              "          + ' to learn more about interactive tables.';\n",
              "        element.innerHTML = '';\n",
              "        dataTable['output_type'] = 'display_data';\n",
              "        await google.colab.output.renderOutput(dataTable, element);\n",
              "        const docLink = document.createElement('div');\n",
              "        docLink.innerHTML = docLinkHtml;\n",
              "        element.appendChild(docLink);\n",
              "      }\n",
              "    </script>\n",
              "  </div>\n",
              "\n",
              "\n",
              "<div id=\"df-7daf8ab1-65eb-4197-9b16-2724c8565d8a\">\n",
              "  <button class=\"colab-df-quickchart\" onclick=\"quickchart('df-7daf8ab1-65eb-4197-9b16-2724c8565d8a')\"\n",
              "            title=\"Suggest charts\"\n",
              "            style=\"display:none;\">\n",
              "\n",
              "<svg xmlns=\"http://www.w3.org/2000/svg\" height=\"24px\"viewBox=\"0 0 24 24\"\n",
              "     width=\"24px\">\n",
              "    <g>\n",
              "        <path d=\"M19 3H5c-1.1 0-2 .9-2 2v14c0 1.1.9 2 2 2h14c1.1 0 2-.9 2-2V5c0-1.1-.9-2-2-2zM9 17H7v-7h2v7zm4 0h-2V7h2v10zm4 0h-2v-4h2v4z\"/>\n",
              "    </g>\n",
              "</svg>\n",
              "  </button>\n",
              "\n",
              "<style>\n",
              "  .colab-df-quickchart {\n",
              "      --bg-color: #E8F0FE;\n",
              "      --fill-color: #1967D2;\n",
              "      --hover-bg-color: #E2EBFA;\n",
              "      --hover-fill-color: #174EA6;\n",
              "      --disabled-fill-color: #AAA;\n",
              "      --disabled-bg-color: #DDD;\n",
              "  }\n",
              "\n",
              "  [theme=dark] .colab-df-quickchart {\n",
              "      --bg-color: #3B4455;\n",
              "      --fill-color: #D2E3FC;\n",
              "      --hover-bg-color: #434B5C;\n",
              "      --hover-fill-color: #FFFFFF;\n",
              "      --disabled-bg-color: #3B4455;\n",
              "      --disabled-fill-color: #666;\n",
              "  }\n",
              "\n",
              "  .colab-df-quickchart {\n",
              "    background-color: var(--bg-color);\n",
              "    border: none;\n",
              "    border-radius: 50%;\n",
              "    cursor: pointer;\n",
              "    display: none;\n",
              "    fill: var(--fill-color);\n",
              "    height: 32px;\n",
              "    padding: 0;\n",
              "    width: 32px;\n",
              "  }\n",
              "\n",
              "  .colab-df-quickchart:hover {\n",
              "    background-color: var(--hover-bg-color);\n",
              "    box-shadow: 0 1px 2px rgba(60, 64, 67, 0.3), 0 1px 3px 1px rgba(60, 64, 67, 0.15);\n",
              "    fill: var(--button-hover-fill-color);\n",
              "  }\n",
              "\n",
              "  .colab-df-quickchart-complete:disabled,\n",
              "  .colab-df-quickchart-complete:disabled:hover {\n",
              "    background-color: var(--disabled-bg-color);\n",
              "    fill: var(--disabled-fill-color);\n",
              "    box-shadow: none;\n",
              "  }\n",
              "\n",
              "  .colab-df-spinner {\n",
              "    border: 2px solid var(--fill-color);\n",
              "    border-color: transparent;\n",
              "    border-bottom-color: var(--fill-color);\n",
              "    animation:\n",
              "      spin 1s steps(1) infinite;\n",
              "  }\n",
              "\n",
              "  @keyframes spin {\n",
              "    0% {\n",
              "      border-color: transparent;\n",
              "      border-bottom-color: var(--fill-color);\n",
              "      border-left-color: var(--fill-color);\n",
              "    }\n",
              "    20% {\n",
              "      border-color: transparent;\n",
              "      border-left-color: var(--fill-color);\n",
              "      border-top-color: var(--fill-color);\n",
              "    }\n",
              "    30% {\n",
              "      border-color: transparent;\n",
              "      border-left-color: var(--fill-color);\n",
              "      border-top-color: var(--fill-color);\n",
              "      border-right-color: var(--fill-color);\n",
              "    }\n",
              "    40% {\n",
              "      border-color: transparent;\n",
              "      border-right-color: var(--fill-color);\n",
              "      border-top-color: var(--fill-color);\n",
              "    }\n",
              "    60% {\n",
              "      border-color: transparent;\n",
              "      border-right-color: var(--fill-color);\n",
              "    }\n",
              "    80% {\n",
              "      border-color: transparent;\n",
              "      border-right-color: var(--fill-color);\n",
              "      border-bottom-color: var(--fill-color);\n",
              "    }\n",
              "    90% {\n",
              "      border-color: transparent;\n",
              "      border-bottom-color: var(--fill-color);\n",
              "    }\n",
              "  }\n",
              "</style>\n",
              "\n",
              "  <script>\n",
              "    async function quickchart(key) {\n",
              "      const quickchartButtonEl =\n",
              "        document.querySelector('#' + key + ' button');\n",
              "      quickchartButtonEl.disabled = true;  // To prevent multiple clicks.\n",
              "      quickchartButtonEl.classList.add('colab-df-spinner');\n",
              "      try {\n",
              "        const charts = await google.colab.kernel.invokeFunction(\n",
              "            'suggestCharts', [key], {});\n",
              "      } catch (error) {\n",
              "        console.error('Error during call to suggestCharts:', error);\n",
              "      }\n",
              "      quickchartButtonEl.classList.remove('colab-df-spinner');\n",
              "      quickchartButtonEl.classList.add('colab-df-quickchart-complete');\n",
              "    }\n",
              "    (() => {\n",
              "      let quickchartButtonEl =\n",
              "        document.querySelector('#df-7daf8ab1-65eb-4197-9b16-2724c8565d8a button');\n",
              "      quickchartButtonEl.style.display =\n",
              "        google.colab.kernel.accessAllowed ? 'block' : 'none';\n",
              "    })();\n",
              "  </script>\n",
              "</div>\n",
              "    </div>\n",
              "  </div>\n"
            ],
            "text/plain": [
              "                                                   text  is_joke  \\\n",
              "0     Люди и шимпанзе дальше друг от друга - шимпанз...        0   \n",
              "1     Отгрузил продукцию с отсрочкой платежа, тебе н...        0   \n",
              "2     Дочери Путина поступают в ВУЗ конкурс 12 ВУЗ'о...        0   \n",
              "3     Ведь вон, что творится: Пьяные летчики рвутся ...        0   \n",
              "4               знает сила правду да не любит сказывать        0   \n",
              "...                                                 ...      ...   \n",
              "7483  На наших глазах женщины стали стремительно пре...        1   \n",
              "7484  - Что вы думаете о значении антикризисных мер ...        1   \n",
              "7485  Рекламное объявление: Возьмите квартиру в ипот...        1   \n",
              "7486  — Никто не возвращается из путешествий таким, ...        1   \n",
              "7487  Лучший (к тому же бесплатный) антиалиазинг - б...        1   \n",
              "\n",
              "                                             clean_text  \\\n",
              "0     люди и шимпанзе дальше друг от друга шимпанзе ...   \n",
              "1     отгрузил продукцию с отсрочкой платежа тебе не...   \n",
              "2     дочери путина поступают в вуз конкурс вузов на...   \n",
              "3     ведь вон что творится пьяные летчики рвутся уп...   \n",
              "4               знает сила правду да не любит сказывать   \n",
              "...                                                 ...   \n",
              "7483  на наших глазах женщины стали стремительно пре...   \n",
              "7484  что вы думаете о значении антикризисных мер пр...   \n",
              "7485  рекламное объявление возьмите квартиру в ипоте...   \n",
              "7486  — никто не возвращается из путешествий таким к...   \n",
              "7487  лучший к тому же бесплатный антиалиазинг бабуш...   \n",
              "\n",
              "                                                 lemmas  \n",
              "0     человек шимпанзе далёкий друг друга шимпанзе о...  \n",
              "1     отгрузить продукция отсрочка платёж тебе оплат...  \n",
              "2       дочь путин поступать вуз конкурс вуз одно место  \n",
              "3     вон творится пьяный лётчик рваться управлять с...  \n",
              "4                    знать сила правда любить сказывать  \n",
              "...                                                 ...  \n",
              "7483  наш глаз женщина стать стремительно превращать...  \n",
              "7484  думать значение антикризисный мера правительст...  \n",
              "7485  рекламный объявление взять квартира ипотека на...  \n",
              "7486  — никто возвращаться путешествие такой какой р...  \n",
              "7487  хороший тот бесплатный антиалиазинг бабушкины ...  \n",
              "\n",
              "[7488 rows x 4 columns]"
            ]
          },
          "execution_count": 7,
          "metadata": {},
          "output_type": "execute_result"
        }
      ],
      "source": [
        "df_ = pd.read_csv('test.csv', sep='\\t')\n",
        "df_"
      ]
    },
    {
      "cell_type": "markdown",
      "metadata": {
        "id": "G821fsfEU7pt"
      },
      "source": [
        "### TfidfVectorizer"
      ]
    },
    {
      "cell_type": "code",
      "execution_count": null,
      "metadata": {
        "id": "LUlI1TVgU7pt"
      },
      "outputs": [],
      "source": [
        "# данные для обучения\n",
        "\n",
        "X_train = df.lemmas.values\n",
        "y_train = df.is_joke.values"
      ]
    },
    {
      "cell_type": "code",
      "execution_count": null,
      "metadata": {
        "colab": {
          "base_uri": "https://localhost:8080/"
        },
        "id": "7vNcJ2H1U7pt",
        "outputId": "f3100218-55ae-4ab4-ac84-b36fcf7d205a"
      },
      "outputs": [
        {
          "data": {
            "text/plain": [
              "(33730, 8445)"
            ]
          },
          "execution_count": 6,
          "metadata": {},
          "output_type": "execute_result"
        }
      ],
      "source": [
        "# векторизация обучаемых данных\n",
        "\n",
        "from sklearn.feature_extraction.text import TfidfVectorizer\n",
        "\n",
        "vectorizer = TfidfVectorizer(encoding='utf8', min_df=5)\n",
        "X_train = vectorizer.fit_transform(X_train)\n",
        "X_train.shape"
      ]
    },
    {
      "cell_type": "code",
      "execution_count": null,
      "metadata": {
        "colab": {
          "base_uri": "https://localhost:8080/"
        },
        "id": "ngvTufyZU7pt",
        "outputId": "ad68d80c-9e8f-45f4-92f1-2a2eff34fe67"
      },
      "outputs": [
        {
          "data": {
            "text/plain": [
              "(7488, 8445)"
            ]
          },
          "execution_count": 8,
          "metadata": {},
          "output_type": "execute_result"
        }
      ],
      "source": [
        "# данные для тестирования\n",
        "\n",
        "X_test = df_.lemmas.values\n",
        "y_test = df_.is_joke.values\n",
        "\n",
        "# векторизация тестируемых данных\n",
        "\n",
        "X_test = vectorizer.transform(X_test)\n",
        "X_test.shape"
      ]
    },
    {
      "cell_type": "code",
      "execution_count": null,
      "metadata": {
        "id": "20Jtb8gnU7pu"
      },
      "outputs": [],
      "source": [
        "from sklearn.svm import SVC\n",
        "svc = SVC(kernel='linear')"
      ]
    },
    {
      "cell_type": "code",
      "execution_count": null,
      "metadata": {
        "colab": {
          "base_uri": "https://localhost:8080/",
          "height": 74
        },
        "id": "bapYEn3MU7pu",
        "outputId": "b3ec2455-33f1-4430-b5b1-799d48b3a13f"
      },
      "outputs": [
        {
          "data": {
            "text/html": [
              "<style>#sk-container-id-1 {color: black;background-color: white;}#sk-container-id-1 pre{padding: 0;}#sk-container-id-1 div.sk-toggleable {background-color: white;}#sk-container-id-1 label.sk-toggleable__label {cursor: pointer;display: block;width: 100%;margin-bottom: 0;padding: 0.3em;box-sizing: border-box;text-align: center;}#sk-container-id-1 label.sk-toggleable__label-arrow:before {content: \"▸\";float: left;margin-right: 0.25em;color: #696969;}#sk-container-id-1 label.sk-toggleable__label-arrow:hover:before {color: black;}#sk-container-id-1 div.sk-estimator:hover label.sk-toggleable__label-arrow:before {color: black;}#sk-container-id-1 div.sk-toggleable__content {max-height: 0;max-width: 0;overflow: hidden;text-align: left;background-color: #f0f8ff;}#sk-container-id-1 div.sk-toggleable__content pre {margin: 0.2em;color: black;border-radius: 0.25em;background-color: #f0f8ff;}#sk-container-id-1 input.sk-toggleable__control:checked~div.sk-toggleable__content {max-height: 200px;max-width: 100%;overflow: auto;}#sk-container-id-1 input.sk-toggleable__control:checked~label.sk-toggleable__label-arrow:before {content: \"▾\";}#sk-container-id-1 div.sk-estimator input.sk-toggleable__control:checked~label.sk-toggleable__label {background-color: #d4ebff;}#sk-container-id-1 div.sk-label input.sk-toggleable__control:checked~label.sk-toggleable__label {background-color: #d4ebff;}#sk-container-id-1 input.sk-hidden--visually {border: 0;clip: rect(1px 1px 1px 1px);clip: rect(1px, 1px, 1px, 1px);height: 1px;margin: -1px;overflow: hidden;padding: 0;position: absolute;width: 1px;}#sk-container-id-1 div.sk-estimator {font-family: monospace;background-color: #f0f8ff;border: 1px dotted black;border-radius: 0.25em;box-sizing: border-box;margin-bottom: 0.5em;}#sk-container-id-1 div.sk-estimator:hover {background-color: #d4ebff;}#sk-container-id-1 div.sk-parallel-item::after {content: \"\";width: 100%;border-bottom: 1px solid gray;flex-grow: 1;}#sk-container-id-1 div.sk-label:hover label.sk-toggleable__label {background-color: #d4ebff;}#sk-container-id-1 div.sk-serial::before {content: \"\";position: absolute;border-left: 1px solid gray;box-sizing: border-box;top: 0;bottom: 0;left: 50%;z-index: 0;}#sk-container-id-1 div.sk-serial {display: flex;flex-direction: column;align-items: center;background-color: white;padding-right: 0.2em;padding-left: 0.2em;position: relative;}#sk-container-id-1 div.sk-item {position: relative;z-index: 1;}#sk-container-id-1 div.sk-parallel {display: flex;align-items: stretch;justify-content: center;background-color: white;position: relative;}#sk-container-id-1 div.sk-item::before, #sk-container-id-1 div.sk-parallel-item::before {content: \"\";position: absolute;border-left: 1px solid gray;box-sizing: border-box;top: 0;bottom: 0;left: 50%;z-index: -1;}#sk-container-id-1 div.sk-parallel-item {display: flex;flex-direction: column;z-index: 1;position: relative;background-color: white;}#sk-container-id-1 div.sk-parallel-item:first-child::after {align-self: flex-end;width: 50%;}#sk-container-id-1 div.sk-parallel-item:last-child::after {align-self: flex-start;width: 50%;}#sk-container-id-1 div.sk-parallel-item:only-child::after {width: 0;}#sk-container-id-1 div.sk-dashed-wrapped {border: 1px dashed gray;margin: 0 0.4em 0.5em 0.4em;box-sizing: border-box;padding-bottom: 0.4em;background-color: white;}#sk-container-id-1 div.sk-label label {font-family: monospace;font-weight: bold;display: inline-block;line-height: 1.2em;}#sk-container-id-1 div.sk-label-container {text-align: center;}#sk-container-id-1 div.sk-container {/* jupyter's `normalize.less` sets `[hidden] { display: none; }` but bootstrap.min.css set `[hidden] { display: none !important; }` so we also need the `!important` here to be able to override the default hidden behavior on the sphinx rendered scikit-learn.org. See: https://github.com/scikit-learn/scikit-learn/issues/21755 */display: inline-block !important;position: relative;}#sk-container-id-1 div.sk-text-repr-fallback {display: none;}</style><div id=\"sk-container-id-1\" class=\"sk-top-container\"><div class=\"sk-text-repr-fallback\"><pre>SVC(kernel=&#x27;linear&#x27;)</pre><b>In a Jupyter environment, please rerun this cell to show the HTML representation or trust the notebook. <br />On GitHub, the HTML representation is unable to render, please try loading this page with nbviewer.org.</b></div><div class=\"sk-container\" hidden><div class=\"sk-item\"><div class=\"sk-estimator sk-toggleable\"><input class=\"sk-toggleable__control sk-hidden--visually\" id=\"sk-estimator-id-1\" type=\"checkbox\" checked><label for=\"sk-estimator-id-1\" class=\"sk-toggleable__label sk-toggleable__label-arrow\">SVC</label><div class=\"sk-toggleable__content\"><pre>SVC(kernel=&#x27;linear&#x27;)</pre></div></div></div></div></div>"
            ],
            "text/plain": [
              "SVC(kernel='linear')"
            ]
          },
          "execution_count": 11,
          "metadata": {},
          "output_type": "execute_result"
        }
      ],
      "source": [
        "svc.fit(X_train, y_train)"
      ]
    },
    {
      "cell_type": "code",
      "execution_count": null,
      "metadata": {
        "id": "n0xAG29uU7pu"
      },
      "outputs": [],
      "source": [
        "y_pred_svc = svc.predict(X_test)"
      ]
    },
    {
      "cell_type": "code",
      "execution_count": null,
      "metadata": {
        "id": "oogRzYw9U7pu"
      },
      "outputs": [],
      "source": [
        "from sklearn.metrics import f1_score, accuracy_score, precision_score, recall_score\n",
        "\n",
        "f1 = f1_score(y_test, y_pred_svc)\n",
        "acc = accuracy_score(y_test, y_pred_svc)\n",
        "pr = precision_score(y_test, y_pred_svc)\n",
        "rec = recall_score(y_test, y_pred_svc)"
      ]
    },
    {
      "cell_type": "code",
      "execution_count": null,
      "metadata": {
        "colab": {
          "base_uri": "https://localhost:8080/"
        },
        "id": "3gGwE0SbU7pu",
        "outputId": "2ce4d002-7587-480a-ab8b-5793c7043f24"
      },
      "outputs": [
        {
          "data": {
            "text/plain": [
              "(0.6668473106625119, 0.671607905982906, 0.6777747177086202, 0.6562666666666667)"
            ]
          },
          "execution_count": 14,
          "metadata": {},
          "output_type": "execute_result"
        }
      ],
      "source": [
        "f1, acc, pr, rec"
      ]
    },
    {
      "cell_type": "markdown",
      "metadata": {
        "id": "wHN4s8btU7pu"
      },
      "source": [
        "### CountVectorizer"
      ]
    },
    {
      "cell_type": "code",
      "execution_count": null,
      "metadata": {
        "id": "Lmatr0AIU7pu"
      },
      "outputs": [],
      "source": [
        "# данные для обучения\n",
        "\n",
        "X_train = df.lemmas.values\n",
        "y_train = df.is_joke.values"
      ]
    },
    {
      "cell_type": "code",
      "execution_count": null,
      "metadata": {
        "colab": {
          "base_uri": "https://localhost:8080/"
        },
        "id": "xYyEgTbsU7pv",
        "outputId": "84cdb726-9b3d-4802-9c6f-6ce32bc53651"
      },
      "outputs": [
        {
          "data": {
            "text/plain": [
              "(33730, 8445)"
            ]
          },
          "execution_count": 8,
          "metadata": {},
          "output_type": "execute_result"
        }
      ],
      "source": [
        "# векторизация обучаемых данных\n",
        "\n",
        "from sklearn.feature_extraction.text import CountVectorizer\n",
        "\n",
        "vectorizer = CountVectorizer(encoding='utf8', min_df=5)\n",
        "X_train = vectorizer.fit_transform(X_train)\n",
        "X_train.shape"
      ]
    },
    {
      "cell_type": "code",
      "execution_count": null,
      "metadata": {
        "colab": {
          "base_uri": "https://localhost:8080/"
        },
        "id": "PKP5Dm_GU7pv",
        "outputId": "27d9481c-5056-4738-cbfa-88dfe377e37c"
      },
      "outputs": [
        {
          "data": {
            "text/plain": [
              "(7488, 8445)"
            ]
          },
          "execution_count": 9,
          "metadata": {},
          "output_type": "execute_result"
        }
      ],
      "source": [
        "# данные для тестирования\n",
        "\n",
        "X_test = df_.lemmas.values\n",
        "y_test = df_.is_joke.values\n",
        "\n",
        "# векторизация тестируемых данных\n",
        "\n",
        "X_test = vectorizer.transform(X_test)\n",
        "X_test.shape"
      ]
    },
    {
      "cell_type": "code",
      "execution_count": null,
      "metadata": {
        "id": "KUCSDH6IU7pv"
      },
      "outputs": [],
      "source": [
        "from sklearn.svm import SVC\n",
        "svc = SVC(kernel='linear')"
      ]
    },
    {
      "cell_type": "code",
      "execution_count": null,
      "metadata": {
        "id": "tpLT1w4rU7pw"
      },
      "outputs": [],
      "source": [
        "svc.fit(X_train, y_train)"
      ]
    },
    {
      "cell_type": "code",
      "execution_count": null,
      "metadata": {
        "id": "m-sM0M06U7pw"
      },
      "outputs": [],
      "source": [
        "y_pred_svc = svc.predict(X_test)"
      ]
    },
    {
      "cell_type": "code",
      "execution_count": null,
      "metadata": {
        "id": "o6NyjfhuU7pw"
      },
      "outputs": [],
      "source": [
        "from sklearn.metrics import f1_score, accuracy_score, precision_score, recall_score\n",
        "\n",
        "f1 = f1_score(y_test, y_pred_svc)\n",
        "acc = accuracy_score(y_test, y_pred_svc)\n",
        "pr = precision_score(y_test, y_pred_svc)\n",
        "rec = recall_score(y_test, y_pred_svc)"
      ]
    },
    {
      "cell_type": "code",
      "execution_count": null,
      "metadata": {
        "colab": {
          "base_uri": "https://localhost:8080/"
        },
        "id": "O_oMeVArU7px",
        "outputId": "a4feb049-4379-432b-f1ed-a011ed37d5e7"
      },
      "outputs": [
        {
          "data": {
            "text/plain": [
              "(0.6609550561797753, 0.6776175213675214, 0.698219584569733, 0.6274666666666666)"
            ]
          },
          "execution_count": 24,
          "metadata": {},
          "output_type": "execute_result"
        }
      ],
      "source": [
        "f1, acc, pr, rec"
      ]
    },
    {
      "cell_type": "markdown",
      "metadata": {
        "id": "sguTY8n7vAQd"
      },
      "source": [
        "## Logistic Regression augmentations"
      ]
    },
    {
      "cell_type": "code",
      "execution_count": null,
      "metadata": {
        "id": "HZ3oKo_ZvAQd"
      },
      "outputs": [],
      "source": [
        "X_train = df.lemmas.values\n",
        "y_train = df.is_joke.values"
      ]
    },
    {
      "cell_type": "code",
      "execution_count": null,
      "metadata": {
        "colab": {
          "base_uri": "https://localhost:8080/",
          "height": 597
        },
        "collapsed": true,
        "id": "9YMVO2F5vAQe",
        "outputId": "6d7b4398-e4b8-4db3-94d9-6906f54c8e75"
      },
      "outputs": [
        {
          "data": {
            "application/vnd.google.colaboratory.intrinsic+json": {
              "summary": "{\n  \"name\": \"df_\",\n  \"rows\": 7488,\n  \"fields\": [\n    {\n      \"column\": \"text\",\n      \"properties\": {\n        \"dtype\": \"string\",\n        \"num_unique_values\": 7488,\n        \"samples\": [\n          \"\\u0422\\u0430\\u043a \\u0438 \\u0435\\u0441\\u0442\\u044c. \\u041d\\u0430 \\u0417\\u0435\\u043c\\u043b\\u0435 \\u043d\\u0435\\u043b\\u044c\\u0437\\u044f \\u043d\\u0438\\u0447\\u0435\\u0433\\u043e \\u0443\\u043a\\u0440\\u0430\\u0441\\u0442\\u044c. \\u041c\\u043e\\u0436\\u043d\\u043e \\u0442\\u043e\\u043b\\u044c\\u043a\\u043e \\u043f\\u0435\\u0440\\u0435\\u043c\\u0435\\u0441\\u0442\\u0438\\u0442\\u044c.\",\n          \"\\u041a\\u0430\\u043a\\u043e\\u0439 \\u0438\\u0437 \\u043a\\u043e\\u043d\\u044c\\u044f\\u043a\\u043e\\u0432 \\u0432\\u044b \\u043f\\u0440\\u0435\\u0434\\u043f\\u043e\\u0447\\u0438\\u0442\\u0430\\u0435\\u0442\\u0435? -\\u0418\\u0437 \\u0432\\u0441\\u0435\\u0445 \\u043a\\u043e\\u043d\\u044c\\u044f\\u043a\\u043e\\u0432 \\u044f \\u043f\\u0440\\u0435\\u0434\\u043f\\u043e\\u0447\\u0438\\u0442\\u0430\\u044e \\u0432\\u043e\\u0434\\u043a\\u0443!!\",\n          \"\\u0418 \\u043a\\u0430\\u043a \\u043d\\u0430\\u0441 \\u0434\\u043e \\u0441\\u0438\\u0445 \\u043f\\u043e\\u0440 \\u043d\\u0435 \\u0437\\u0430\\u0442\\u0430\\u0431\\u0430\\u043d\\u0438\\u043b\\u0438 \\u0437\\u0430 \\u0441\\u0435\\u043a\\u0441\\u0443\\u0430\\u043b\\u044c\\u043d\\u044b\\u0435 \\u0434\\u043e\\u043c\\u043e\\u0433\\u0430\\u0442\\u0435\\u043b\\u044c\\u0441\\u0442\\u0432\\u0430 \\u043a \\u043c\\u043e\\u0434\\u0435\\u0440\\u0430\\u0442\\u043e\\u0440\\u0443?\"\n        ],\n        \"semantic_type\": \"\",\n        \"description\": \"\"\n      }\n    },\n    {\n      \"column\": \"is_joke\",\n      \"properties\": {\n        \"dtype\": \"number\",\n        \"std\": 0,\n        \"min\": 0,\n        \"max\": 1,\n        \"num_unique_values\": 2,\n        \"samples\": [\n          1,\n          0\n        ],\n        \"semantic_type\": \"\",\n        \"description\": \"\"\n      }\n    },\n    {\n      \"column\": \"clean_text\",\n      \"properties\": {\n        \"dtype\": \"string\",\n        \"num_unique_values\": 7488,\n        \"samples\": [\n          \"\\u0442\\u0430\\u043a \\u0438 \\u0435\\u0441\\u0442\\u044c \\u043d\\u0430 \\u0437\\u0435\\u043c\\u043b\\u0435 \\u043d\\u0435\\u043b\\u044c\\u0437\\u044f \\u043d\\u0438\\u0447\\u0435\\u0433\\u043e \\u0443\\u043a\\u0440\\u0430\\u0441\\u0442\\u044c \\u043c\\u043e\\u0436\\u043d\\u043e \\u0442\\u043e\\u043b\\u044c\\u043a\\u043e \\u043f\\u0435\\u0440\\u0435\\u043c\\u0435\\u0441\\u0442\\u0438\\u0442\\u044c\",\n          \"\\u043a\\u0430\\u043a\\u043e\\u0439 \\u0438\\u0437 \\u043a\\u043e\\u043d\\u044c\\u044f\\u043a\\u043e\\u0432 \\u0432\\u044b \\u043f\\u0440\\u0435\\u0434\\u043f\\u043e\\u0447\\u0438\\u0442\\u0430\\u0435\\u0442\\u0435 \\u0438\\u0437 \\u0432\\u0441\\u0435\\u0445 \\u043a\\u043e\\u043d\\u044c\\u044f\\u043a\\u043e\\u0432 \\u044f \\u043f\\u0440\\u0435\\u0434\\u043f\\u043e\\u0447\\u0438\\u0442\\u0430\\u044e \\u0432\\u043e\\u0434\\u043a\\u0443\"\n        ],\n        \"semantic_type\": \"\",\n        \"description\": \"\"\n      }\n    },\n    {\n      \"column\": \"lemmas\",\n      \"properties\": {\n        \"dtype\": \"string\",\n        \"num_unique_values\": 7488,\n        \"samples\": [\n          \"\\u0437\\u0435\\u043c\\u043b\\u044f \\u0443\\u043a\\u0440\\u0430\\u0441\\u0442\\u044c \\u043f\\u0435\\u0440\\u0435\\u043c\\u0435\\u0441\\u0442\\u0438\\u0442\\u044c\",\n          \"\\u043a\\u043e\\u043d\\u044c\\u044f\\u043a\\u043e\\u0432 \\u043f\\u0440\\u0435\\u0434\\u043f\\u043e\\u0447\\u0438\\u0442\\u0430\\u0442\\u044c \\u043a\\u043e\\u043d\\u044c\\u044f\\u043a\\u043e\\u0432 \\u043f\\u0440\\u0435\\u0434\\u043f\\u043e\\u0447\\u0438\\u0442\\u0430\\u0442\\u044c \\u0432\\u043e\\u0434\\u043a\\u0430\"\n        ],\n        \"semantic_type\": \"\",\n        \"description\": \"\"\n      }\n    }\n  ]\n}",
              "type": "dataframe",
              "variable_name": "df_"
            },
            "text/html": [
              "\n",
              "  <div id=\"df-9aec477e-650e-4c06-85c3-f4b4e62e33c8\" class=\"colab-df-container\">\n",
              "    <div>\n",
              "<style scoped>\n",
              "    .dataframe tbody tr th:only-of-type {\n",
              "        vertical-align: middle;\n",
              "    }\n",
              "\n",
              "    .dataframe tbody tr th {\n",
              "        vertical-align: top;\n",
              "    }\n",
              "\n",
              "    .dataframe thead th {\n",
              "        text-align: right;\n",
              "    }\n",
              "</style>\n",
              "<table border=\"1\" class=\"dataframe\">\n",
              "  <thead>\n",
              "    <tr style=\"text-align: right;\">\n",
              "      <th></th>\n",
              "      <th>text</th>\n",
              "      <th>is_joke</th>\n",
              "      <th>clean_text</th>\n",
              "      <th>lemmas</th>\n",
              "    </tr>\n",
              "  </thead>\n",
              "  <tbody>\n",
              "    <tr>\n",
              "      <th>0</th>\n",
              "      <td>Люди и шимпанзе дальше друг от друга - шимпанз...</td>\n",
              "      <td>0</td>\n",
              "      <td>люди и шимпанзе дальше друг от друга шимпанзе ...</td>\n",
              "      <td>человек шимпанзе далёкий друг друга шимпанзе о...</td>\n",
              "    </tr>\n",
              "    <tr>\n",
              "      <th>1</th>\n",
              "      <td>Отгрузил продукцию с отсрочкой платежа, тебе н...</td>\n",
              "      <td>0</td>\n",
              "      <td>отгрузил продукцию с отсрочкой платежа тебе не...</td>\n",
              "      <td>отгрузить продукция отсрочка платёж тебе оплат...</td>\n",
              "    </tr>\n",
              "    <tr>\n",
              "      <th>2</th>\n",
              "      <td>Дочери Путина поступают в ВУЗ конкурс 12 ВУЗ'о...</td>\n",
              "      <td>0</td>\n",
              "      <td>дочери путина поступают в вуз конкурс вузов на...</td>\n",
              "      <td>дочь путин поступать вуз конкурс вуз одно место</td>\n",
              "    </tr>\n",
              "    <tr>\n",
              "      <th>3</th>\n",
              "      <td>Ведь вон, что творится: Пьяные летчики рвутся ...</td>\n",
              "      <td>0</td>\n",
              "      <td>ведь вон что творится пьяные летчики рвутся уп...</td>\n",
              "      <td>вон творится пьяный лётчик рваться управлять с...</td>\n",
              "    </tr>\n",
              "    <tr>\n",
              "      <th>4</th>\n",
              "      <td>знает сила правду да не любит сказывать</td>\n",
              "      <td>0</td>\n",
              "      <td>знает сила правду да не любит сказывать</td>\n",
              "      <td>знать сила правда любить сказывать</td>\n",
              "    </tr>\n",
              "    <tr>\n",
              "      <th>...</th>\n",
              "      <td>...</td>\n",
              "      <td>...</td>\n",
              "      <td>...</td>\n",
              "      <td>...</td>\n",
              "    </tr>\n",
              "    <tr>\n",
              "      <th>7483</th>\n",
              "      <td>На наших глазах женщины стали стремительно пре...</td>\n",
              "      <td>1</td>\n",
              "      <td>на наших глазах женщины стали стремительно пре...</td>\n",
              "      <td>наш глаз женщина стать стремительно превращать...</td>\n",
              "    </tr>\n",
              "    <tr>\n",
              "      <th>7484</th>\n",
              "      <td>- Что вы думаете о значении антикризисных мер ...</td>\n",
              "      <td>1</td>\n",
              "      <td>что вы думаете о значении антикризисных мер пр...</td>\n",
              "      <td>думать значение антикризисный мера правительст...</td>\n",
              "    </tr>\n",
              "    <tr>\n",
              "      <th>7485</th>\n",
              "      <td>Рекламное объявление: Возьмите квартиру в ипот...</td>\n",
              "      <td>1</td>\n",
              "      <td>рекламное объявление возьмите квартиру в ипоте...</td>\n",
              "      <td>рекламный объявление взять квартира ипотека на...</td>\n",
              "    </tr>\n",
              "    <tr>\n",
              "      <th>7486</th>\n",
              "      <td>— Никто не возвращается из путешествий таким, ...</td>\n",
              "      <td>1</td>\n",
              "      <td>— никто не возвращается из путешествий таким к...</td>\n",
              "      <td>— никто возвращаться путешествие такой какой р...</td>\n",
              "    </tr>\n",
              "    <tr>\n",
              "      <th>7487</th>\n",
              "      <td>Лучший (к тому же бесплатный) антиалиазинг - б...</td>\n",
              "      <td>1</td>\n",
              "      <td>лучший к тому же бесплатный антиалиазинг бабуш...</td>\n",
              "      <td>хороший тот бесплатный антиалиазинг бабушкины ...</td>\n",
              "    </tr>\n",
              "  </tbody>\n",
              "</table>\n",
              "<p>7488 rows × 4 columns</p>\n",
              "</div>\n",
              "    <div class=\"colab-df-buttons\">\n",
              "\n",
              "  <div class=\"colab-df-container\">\n",
              "    <button class=\"colab-df-convert\" onclick=\"convertToInteractive('df-9aec477e-650e-4c06-85c3-f4b4e62e33c8')\"\n",
              "            title=\"Convert this dataframe to an interactive table.\"\n",
              "            style=\"display:none;\">\n",
              "\n",
              "  <svg xmlns=\"http://www.w3.org/2000/svg\" height=\"24px\" viewBox=\"0 -960 960 960\">\n",
              "    <path d=\"M120-120v-720h720v720H120Zm60-500h600v-160H180v160Zm220 220h160v-160H400v160Zm0 220h160v-160H400v160ZM180-400h160v-160H180v160Zm440 0h160v-160H620v160ZM180-180h160v-160H180v160Zm440 0h160v-160H620v160Z\"/>\n",
              "  </svg>\n",
              "    </button>\n",
              "\n",
              "  <style>\n",
              "    .colab-df-container {\n",
              "      display:flex;\n",
              "      gap: 12px;\n",
              "    }\n",
              "\n",
              "    .colab-df-convert {\n",
              "      background-color: #E8F0FE;\n",
              "      border: none;\n",
              "      border-radius: 50%;\n",
              "      cursor: pointer;\n",
              "      display: none;\n",
              "      fill: #1967D2;\n",
              "      height: 32px;\n",
              "      padding: 0 0 0 0;\n",
              "      width: 32px;\n",
              "    }\n",
              "\n",
              "    .colab-df-convert:hover {\n",
              "      background-color: #E2EBFA;\n",
              "      box-shadow: 0px 1px 2px rgba(60, 64, 67, 0.3), 0px 1px 3px 1px rgba(60, 64, 67, 0.15);\n",
              "      fill: #174EA6;\n",
              "    }\n",
              "\n",
              "    .colab-df-buttons div {\n",
              "      margin-bottom: 4px;\n",
              "    }\n",
              "\n",
              "    [theme=dark] .colab-df-convert {\n",
              "      background-color: #3B4455;\n",
              "      fill: #D2E3FC;\n",
              "    }\n",
              "\n",
              "    [theme=dark] .colab-df-convert:hover {\n",
              "      background-color: #434B5C;\n",
              "      box-shadow: 0px 1px 3px 1px rgba(0, 0, 0, 0.15);\n",
              "      filter: drop-shadow(0px 1px 2px rgba(0, 0, 0, 0.3));\n",
              "      fill: #FFFFFF;\n",
              "    }\n",
              "  </style>\n",
              "\n",
              "    <script>\n",
              "      const buttonEl =\n",
              "        document.querySelector('#df-9aec477e-650e-4c06-85c3-f4b4e62e33c8 button.colab-df-convert');\n",
              "      buttonEl.style.display =\n",
              "        google.colab.kernel.accessAllowed ? 'block' : 'none';\n",
              "\n",
              "      async function convertToInteractive(key) {\n",
              "        const element = document.querySelector('#df-9aec477e-650e-4c06-85c3-f4b4e62e33c8');\n",
              "        const dataTable =\n",
              "          await google.colab.kernel.invokeFunction('convertToInteractive',\n",
              "                                                    [key], {});\n",
              "        if (!dataTable) return;\n",
              "\n",
              "        const docLinkHtml = 'Like what you see? Visit the ' +\n",
              "          '<a target=\"_blank\" href=https://colab.research.google.com/notebooks/data_table.ipynb>data table notebook</a>'\n",
              "          + ' to learn more about interactive tables.';\n",
              "        element.innerHTML = '';\n",
              "        dataTable['output_type'] = 'display_data';\n",
              "        await google.colab.output.renderOutput(dataTable, element);\n",
              "        const docLink = document.createElement('div');\n",
              "        docLink.innerHTML = docLinkHtml;\n",
              "        element.appendChild(docLink);\n",
              "      }\n",
              "    </script>\n",
              "  </div>\n",
              "\n",
              "\n",
              "<div id=\"df-47c4bf05-7284-405c-8a7b-23e806d7c28d\">\n",
              "  <button class=\"colab-df-quickchart\" onclick=\"quickchart('df-47c4bf05-7284-405c-8a7b-23e806d7c28d')\"\n",
              "            title=\"Suggest charts\"\n",
              "            style=\"display:none;\">\n",
              "\n",
              "<svg xmlns=\"http://www.w3.org/2000/svg\" height=\"24px\"viewBox=\"0 0 24 24\"\n",
              "     width=\"24px\">\n",
              "    <g>\n",
              "        <path d=\"M19 3H5c-1.1 0-2 .9-2 2v14c0 1.1.9 2 2 2h14c1.1 0 2-.9 2-2V5c0-1.1-.9-2-2-2zM9 17H7v-7h2v7zm4 0h-2V7h2v10zm4 0h-2v-4h2v4z\"/>\n",
              "    </g>\n",
              "</svg>\n",
              "  </button>\n",
              "\n",
              "<style>\n",
              "  .colab-df-quickchart {\n",
              "      --bg-color: #E8F0FE;\n",
              "      --fill-color: #1967D2;\n",
              "      --hover-bg-color: #E2EBFA;\n",
              "      --hover-fill-color: #174EA6;\n",
              "      --disabled-fill-color: #AAA;\n",
              "      --disabled-bg-color: #DDD;\n",
              "  }\n",
              "\n",
              "  [theme=dark] .colab-df-quickchart {\n",
              "      --bg-color: #3B4455;\n",
              "      --fill-color: #D2E3FC;\n",
              "      --hover-bg-color: #434B5C;\n",
              "      --hover-fill-color: #FFFFFF;\n",
              "      --disabled-bg-color: #3B4455;\n",
              "      --disabled-fill-color: #666;\n",
              "  }\n",
              "\n",
              "  .colab-df-quickchart {\n",
              "    background-color: var(--bg-color);\n",
              "    border: none;\n",
              "    border-radius: 50%;\n",
              "    cursor: pointer;\n",
              "    display: none;\n",
              "    fill: var(--fill-color);\n",
              "    height: 32px;\n",
              "    padding: 0;\n",
              "    width: 32px;\n",
              "  }\n",
              "\n",
              "  .colab-df-quickchart:hover {\n",
              "    background-color: var(--hover-bg-color);\n",
              "    box-shadow: 0 1px 2px rgba(60, 64, 67, 0.3), 0 1px 3px 1px rgba(60, 64, 67, 0.15);\n",
              "    fill: var(--button-hover-fill-color);\n",
              "  }\n",
              "\n",
              "  .colab-df-quickchart-complete:disabled,\n",
              "  .colab-df-quickchart-complete:disabled:hover {\n",
              "    background-color: var(--disabled-bg-color);\n",
              "    fill: var(--disabled-fill-color);\n",
              "    box-shadow: none;\n",
              "  }\n",
              "\n",
              "  .colab-df-spinner {\n",
              "    border: 2px solid var(--fill-color);\n",
              "    border-color: transparent;\n",
              "    border-bottom-color: var(--fill-color);\n",
              "    animation:\n",
              "      spin 1s steps(1) infinite;\n",
              "  }\n",
              "\n",
              "  @keyframes spin {\n",
              "    0% {\n",
              "      border-color: transparent;\n",
              "      border-bottom-color: var(--fill-color);\n",
              "      border-left-color: var(--fill-color);\n",
              "    }\n",
              "    20% {\n",
              "      border-color: transparent;\n",
              "      border-left-color: var(--fill-color);\n",
              "      border-top-color: var(--fill-color);\n",
              "    }\n",
              "    30% {\n",
              "      border-color: transparent;\n",
              "      border-left-color: var(--fill-color);\n",
              "      border-top-color: var(--fill-color);\n",
              "      border-right-color: var(--fill-color);\n",
              "    }\n",
              "    40% {\n",
              "      border-color: transparent;\n",
              "      border-right-color: var(--fill-color);\n",
              "      border-top-color: var(--fill-color);\n",
              "    }\n",
              "    60% {\n",
              "      border-color: transparent;\n",
              "      border-right-color: var(--fill-color);\n",
              "    }\n",
              "    80% {\n",
              "      border-color: transparent;\n",
              "      border-right-color: var(--fill-color);\n",
              "      border-bottom-color: var(--fill-color);\n",
              "    }\n",
              "    90% {\n",
              "      border-color: transparent;\n",
              "      border-bottom-color: var(--fill-color);\n",
              "    }\n",
              "  }\n",
              "</style>\n",
              "\n",
              "  <script>\n",
              "    async function quickchart(key) {\n",
              "      const quickchartButtonEl =\n",
              "        document.querySelector('#' + key + ' button');\n",
              "      quickchartButtonEl.disabled = true;  // To prevent multiple clicks.\n",
              "      quickchartButtonEl.classList.add('colab-df-spinner');\n",
              "      try {\n",
              "        const charts = await google.colab.kernel.invokeFunction(\n",
              "            'suggestCharts', [key], {});\n",
              "      } catch (error) {\n",
              "        console.error('Error during call to suggestCharts:', error);\n",
              "      }\n",
              "      quickchartButtonEl.classList.remove('colab-df-spinner');\n",
              "      quickchartButtonEl.classList.add('colab-df-quickchart-complete');\n",
              "    }\n",
              "    (() => {\n",
              "      let quickchartButtonEl =\n",
              "        document.querySelector('#df-47c4bf05-7284-405c-8a7b-23e806d7c28d button');\n",
              "      quickchartButtonEl.style.display =\n",
              "        google.colab.kernel.accessAllowed ? 'block' : 'none';\n",
              "    })();\n",
              "  </script>\n",
              "</div>\n",
              "    </div>\n",
              "  </div>\n"
            ],
            "text/plain": [
              "                                                   text  is_joke  \\\n",
              "0     Люди и шимпанзе дальше друг от друга - шимпанз...        0   \n",
              "1     Отгрузил продукцию с отсрочкой платежа, тебе н...        0   \n",
              "2     Дочери Путина поступают в ВУЗ конкурс 12 ВУЗ'о...        0   \n",
              "3     Ведь вон, что творится: Пьяные летчики рвутся ...        0   \n",
              "4               знает сила правду да не любит сказывать        0   \n",
              "...                                                 ...      ...   \n",
              "7483  На наших глазах женщины стали стремительно пре...        1   \n",
              "7484  - Что вы думаете о значении антикризисных мер ...        1   \n",
              "7485  Рекламное объявление: Возьмите квартиру в ипот...        1   \n",
              "7486  — Никто не возвращается из путешествий таким, ...        1   \n",
              "7487  Лучший (к тому же бесплатный) антиалиазинг - б...        1   \n",
              "\n",
              "                                             clean_text  \\\n",
              "0     люди и шимпанзе дальше друг от друга шимпанзе ...   \n",
              "1     отгрузил продукцию с отсрочкой платежа тебе не...   \n",
              "2     дочери путина поступают в вуз конкурс вузов на...   \n",
              "3     ведь вон что творится пьяные летчики рвутся уп...   \n",
              "4               знает сила правду да не любит сказывать   \n",
              "...                                                 ...   \n",
              "7483  на наших глазах женщины стали стремительно пре...   \n",
              "7484  что вы думаете о значении антикризисных мер пр...   \n",
              "7485  рекламное объявление возьмите квартиру в ипоте...   \n",
              "7486  — никто не возвращается из путешествий таким к...   \n",
              "7487  лучший к тому же бесплатный антиалиазинг бабуш...   \n",
              "\n",
              "                                                 lemmas  \n",
              "0     человек шимпанзе далёкий друг друга шимпанзе о...  \n",
              "1     отгрузить продукция отсрочка платёж тебе оплат...  \n",
              "2       дочь путин поступать вуз конкурс вуз одно место  \n",
              "3     вон творится пьяный лётчик рваться управлять с...  \n",
              "4                    знать сила правда любить сказывать  \n",
              "...                                                 ...  \n",
              "7483  наш глаз женщина стать стремительно превращать...  \n",
              "7484  думать значение антикризисный мера правительст...  \n",
              "7485  рекламный объявление взять квартира ипотека на...  \n",
              "7486  — никто возвращаться путешествие такой какой р...  \n",
              "7487  хороший тот бесплатный антиалиазинг бабушкины ...  \n",
              "\n",
              "[7488 rows x 4 columns]"
            ]
          },
          "execution_count": 26,
          "metadata": {},
          "output_type": "execute_result"
        }
      ],
      "source": [
        "df_ = pd.read_csv('test.csv', sep='\\t')\n",
        "df_"
      ]
    },
    {
      "cell_type": "code",
      "execution_count": null,
      "metadata": {
        "id": "Vy6Z6gBSvAQe"
      },
      "outputs": [],
      "source": [
        "X_test = df_.lemmas.values\n",
        "y_test = df_.is_joke.values"
      ]
    },
    {
      "cell_type": "markdown",
      "metadata": {
        "id": "0IgxNPdhvAQe"
      },
      "source": [
        "### CountVectorizer"
      ]
    },
    {
      "cell_type": "code",
      "execution_count": null,
      "metadata": {
        "colab": {
          "base_uri": "https://localhost:8080/"
        },
        "id": "mQs7xDlWvAQe",
        "outputId": "efac775c-be7d-4269-b506-caf737f6449b"
      },
      "outputs": [
        {
          "data": {
            "text/plain": [
              "(33730, 8445)"
            ]
          },
          "execution_count": 18,
          "metadata": {},
          "output_type": "execute_result"
        }
      ],
      "source": [
        "from sklearn.feature_extraction.text import CountVectorizer\n",
        "\n",
        "vectorizer = CountVectorizer(encoding='utf8', min_df=5)\n",
        "X_train = vectorizer.fit_transform(X_train)\n",
        "X_train.shape"
      ]
    },
    {
      "cell_type": "code",
      "execution_count": null,
      "metadata": {
        "colab": {
          "base_uri": "https://localhost:8080/"
        },
        "id": "IhNydhNPvAQf",
        "outputId": "edef39ec-ffa2-4ba5-a336-a33dbcd10a26"
      },
      "outputs": [
        {
          "data": {
            "text/plain": [
              "(33730,)"
            ]
          },
          "execution_count": 19,
          "metadata": {},
          "output_type": "execute_result"
        }
      ],
      "source": [
        "y_train.shape"
      ]
    },
    {
      "cell_type": "code",
      "execution_count": null,
      "metadata": {
        "colab": {
          "base_uri": "https://localhost:8080/"
        },
        "id": "8rVQ7EYivAQf",
        "outputId": "25a16d0b-9978-4e94-c0f1-7388a29a5e21"
      },
      "outputs": [
        {
          "data": {
            "text/plain": [
              "(7488, 8445)"
            ]
          },
          "execution_count": 20,
          "metadata": {},
          "output_type": "execute_result"
        }
      ],
      "source": [
        "X_test = vectorizer.transform(X_test)\n",
        "X_test.shape"
      ]
    },
    {
      "cell_type": "code",
      "execution_count": null,
      "metadata": {
        "id": "y1qBgHQqvAQf"
      },
      "outputs": [],
      "source": [
        "from sklearn.linear_model import LogisticRegression\n",
        "\n",
        "model = LogisticRegression(solver='liblinear', random_state=0).fit(X_train, y_train)\n",
        "preds = model.predict(X_test)"
      ]
    },
    {
      "cell_type": "code",
      "execution_count": null,
      "metadata": {
        "id": "GLDqYs-7vAQf"
      },
      "outputs": [],
      "source": [
        "from sklearn.metrics import f1_score, accuracy_score, precision_score, recall_score\n",
        "\n",
        "f1 = f1_score(y_test, preds)\n",
        "acc = accuracy_score(y_test, preds)\n",
        "pr = precision_score(y_test, preds)\n",
        "rec = recall_score(y_test, preds)"
      ]
    },
    {
      "cell_type": "code",
      "execution_count": null,
      "metadata": {
        "colab": {
          "base_uri": "https://localhost:8080/"
        },
        "id": "URwWPjipvAQf",
        "outputId": "894aec5f-2858-4299-8a1c-2a1393d7fa46"
      },
      "outputs": [
        {
          "data": {
            "text/plain": [
              "(0.6779282423565545,\n",
              " 0.6919070512820513,\n",
              " 0.7113975974216232,\n",
              " 0.6474666666666666)"
            ]
          },
          "execution_count": 23,
          "metadata": {},
          "output_type": "execute_result"
        }
      ],
      "source": [
        "f1, acc, pr, rec"
      ]
    },
    {
      "cell_type": "markdown",
      "metadata": {
        "id": "nmQUu2FLvAQf"
      },
      "source": [
        "### TfidfVectorizer"
      ]
    },
    {
      "cell_type": "code",
      "execution_count": null,
      "metadata": {
        "colab": {
          "base_uri": "https://localhost:8080/"
        },
        "id": "mN3_mUxavAQf",
        "outputId": "3cbd100d-d541-43ad-e186-3c7ceeb4fe9f"
      },
      "outputs": [
        {
          "data": {
            "text/plain": [
              "(33730, 8445)"
            ]
          },
          "execution_count": 28,
          "metadata": {},
          "output_type": "execute_result"
        }
      ],
      "source": [
        "from sklearn.feature_extraction.text import TfidfVectorizer\n",
        "\n",
        "vectorizer = TfidfVectorizer(encoding='utf8', min_df=5)\n",
        "X_train = vectorizer.fit_transform(X_train)\n",
        "X_train.shape"
      ]
    },
    {
      "cell_type": "code",
      "execution_count": null,
      "metadata": {
        "colab": {
          "base_uri": "https://localhost:8080/"
        },
        "id": "picBMQeovAQf",
        "outputId": "b0faaeab-ef9b-4cf2-83fb-8dc34530a1cb"
      },
      "outputs": [
        {
          "data": {
            "text/plain": [
              "(7488, 8445)"
            ]
          },
          "execution_count": 29,
          "metadata": {},
          "output_type": "execute_result"
        }
      ],
      "source": [
        "X_test = vectorizer.transform(X_test)\n",
        "X_test.shape"
      ]
    },
    {
      "cell_type": "code",
      "execution_count": null,
      "metadata": {
        "id": "Ocnud370vAQg"
      },
      "outputs": [],
      "source": [
        "model = LogisticRegression(solver='liblinear', random_state=0).fit(X_train, y_train)\n",
        "preds = model.predict(X_test)"
      ]
    },
    {
      "cell_type": "code",
      "execution_count": null,
      "metadata": {
        "id": "81rhccI7vAQg"
      },
      "outputs": [],
      "source": [
        "f1 = f1_score(y_test, preds)\n",
        "acc = accuracy_score(y_test, preds)\n",
        "pr = precision_score(y_test, preds)\n",
        "rec = recall_score(y_test, preds)"
      ]
    },
    {
      "cell_type": "code",
      "execution_count": null,
      "metadata": {
        "colab": {
          "base_uri": "https://localhost:8080/"
        },
        "id": "et4rbRYivAQg",
        "outputId": "cddd6cc5-614b-473e-d0f9-8b115f899259"
      },
      "outputs": [
        {
          "data": {
            "text/plain": [
              "(0.6629243517775996,\n",
              " 0.6631944444444444,\n",
              " 0.6645230439442658,\n",
              " 0.6613333333333333)"
            ]
          },
          "execution_count": 32,
          "metadata": {},
          "output_type": "execute_result"
        }
      ],
      "source": [
        "f1, acc, pr, rec"
      ]
    },
    {
      "cell_type": "markdown",
      "metadata": {
        "id": "AtIvrB7dvuCX"
      },
      "source": [
        "## Random Forest augmentations"
      ]
    },
    {
      "cell_type": "code",
      "execution_count": 46,
      "metadata": {
        "id": "lyZ9H3K9vuCZ"
      },
      "outputs": [],
      "source": [
        "X_train = df.lemmas.values\n",
        "y_train = df.is_joke.values"
      ]
    },
    {
      "cell_type": "code",
      "execution_count": null,
      "metadata": {
        "collapsed": true,
        "id": "mQI2p3luvuCa"
      },
      "outputs": [],
      "source": [
        "df_ = pd.read_csv('test.csv', sep='\\t')"
      ]
    },
    {
      "cell_type": "code",
      "execution_count": 47,
      "metadata": {
        "id": "BAhDEgoVvuCa"
      },
      "outputs": [],
      "source": [
        "X_test = df_.lemmas.values\n",
        "y_test = df_.is_joke.values"
      ]
    },
    {
      "cell_type": "code",
      "execution_count": null,
      "metadata": {
        "id": "OV-WJC7yvuCb"
      },
      "outputs": [],
      "source": [
        "from sklearn.ensemble import RandomForestClassifier"
      ]
    },
    {
      "cell_type": "code",
      "execution_count": null,
      "metadata": {
        "colab": {
          "base_uri": "https://localhost:8080/"
        },
        "id": "qsBQJ3NQvuCb",
        "outputId": "b8d4cf8e-3c4c-4732-ad97-b97854e38428"
      },
      "outputs": [
        {
          "data": {
            "text/plain": [
              "(33730, 8445)"
            ]
          },
          "execution_count": 36,
          "metadata": {},
          "output_type": "execute_result"
        }
      ],
      "source": [
        "from sklearn.feature_extraction.text import CountVectorizer\n",
        "vectorizer = CountVectorizer(encoding='utf8', min_df=5)\n",
        "X_train = vectorizer.fit_transform(X_train)\n",
        "X_train.shape"
      ]
    },
    {
      "cell_type": "code",
      "execution_count": null,
      "metadata": {
        "colab": {
          "base_uri": "https://localhost:8080/"
        },
        "id": "5Mu2iEy9vuCb",
        "outputId": "e4d27a63-d64d-406d-afae-650cf7b90c50"
      },
      "outputs": [
        {
          "data": {
            "text/plain": [
              "(7488, 8445)"
            ]
          },
          "execution_count": 37,
          "metadata": {},
          "output_type": "execute_result"
        }
      ],
      "source": [
        "X_test = vectorizer.transform(X_test)\n",
        "X_test.shape"
      ]
    },
    {
      "cell_type": "markdown",
      "metadata": {
        "id": "_umq8YjYvuCe"
      },
      "source": [
        "### GridSearch CountVectorizer"
      ]
    },
    {
      "cell_type": "code",
      "execution_count": null,
      "metadata": {
        "colab": {
          "background_save": true
        },
        "id": "mdT2-BqSvuCe",
        "outputId": "95108935-eb1e-4f75-a791-68ed00d3dce2"
      },
      "outputs": [
        {
          "data": {
            "text/html": [
              "<style>#sk-container-id-2 {color: black;background-color: white;}#sk-container-id-2 pre{padding: 0;}#sk-container-id-2 div.sk-toggleable {background-color: white;}#sk-container-id-2 label.sk-toggleable__label {cursor: pointer;display: block;width: 100%;margin-bottom: 0;padding: 0.3em;box-sizing: border-box;text-align: center;}#sk-container-id-2 label.sk-toggleable__label-arrow:before {content: \"▸\";float: left;margin-right: 0.25em;color: #696969;}#sk-container-id-2 label.sk-toggleable__label-arrow:hover:before {color: black;}#sk-container-id-2 div.sk-estimator:hover label.sk-toggleable__label-arrow:before {color: black;}#sk-container-id-2 div.sk-toggleable__content {max-height: 0;max-width: 0;overflow: hidden;text-align: left;background-color: #f0f8ff;}#sk-container-id-2 div.sk-toggleable__content pre {margin: 0.2em;color: black;border-radius: 0.25em;background-color: #f0f8ff;}#sk-container-id-2 input.sk-toggleable__control:checked~div.sk-toggleable__content {max-height: 200px;max-width: 100%;overflow: auto;}#sk-container-id-2 input.sk-toggleable__control:checked~label.sk-toggleable__label-arrow:before {content: \"▾\";}#sk-container-id-2 div.sk-estimator input.sk-toggleable__control:checked~label.sk-toggleable__label {background-color: #d4ebff;}#sk-container-id-2 div.sk-label input.sk-toggleable__control:checked~label.sk-toggleable__label {background-color: #d4ebff;}#sk-container-id-2 input.sk-hidden--visually {border: 0;clip: rect(1px 1px 1px 1px);clip: rect(1px, 1px, 1px, 1px);height: 1px;margin: -1px;overflow: hidden;padding: 0;position: absolute;width: 1px;}#sk-container-id-2 div.sk-estimator {font-family: monospace;background-color: #f0f8ff;border: 1px dotted black;border-radius: 0.25em;box-sizing: border-box;margin-bottom: 0.5em;}#sk-container-id-2 div.sk-estimator:hover {background-color: #d4ebff;}#sk-container-id-2 div.sk-parallel-item::after {content: \"\";width: 100%;border-bottom: 1px solid gray;flex-grow: 1;}#sk-container-id-2 div.sk-label:hover label.sk-toggleable__label {background-color: #d4ebff;}#sk-container-id-2 div.sk-serial::before {content: \"\";position: absolute;border-left: 1px solid gray;box-sizing: border-box;top: 0;bottom: 0;left: 50%;z-index: 0;}#sk-container-id-2 div.sk-serial {display: flex;flex-direction: column;align-items: center;background-color: white;padding-right: 0.2em;padding-left: 0.2em;position: relative;}#sk-container-id-2 div.sk-item {position: relative;z-index: 1;}#sk-container-id-2 div.sk-parallel {display: flex;align-items: stretch;justify-content: center;background-color: white;position: relative;}#sk-container-id-2 div.sk-item::before, #sk-container-id-2 div.sk-parallel-item::before {content: \"\";position: absolute;border-left: 1px solid gray;box-sizing: border-box;top: 0;bottom: 0;left: 50%;z-index: -1;}#sk-container-id-2 div.sk-parallel-item {display: flex;flex-direction: column;z-index: 1;position: relative;background-color: white;}#sk-container-id-2 div.sk-parallel-item:first-child::after {align-self: flex-end;width: 50%;}#sk-container-id-2 div.sk-parallel-item:last-child::after {align-self: flex-start;width: 50%;}#sk-container-id-2 div.sk-parallel-item:only-child::after {width: 0;}#sk-container-id-2 div.sk-dashed-wrapped {border: 1px dashed gray;margin: 0 0.4em 0.5em 0.4em;box-sizing: border-box;padding-bottom: 0.4em;background-color: white;}#sk-container-id-2 div.sk-label label {font-family: monospace;font-weight: bold;display: inline-block;line-height: 1.2em;}#sk-container-id-2 div.sk-label-container {text-align: center;}#sk-container-id-2 div.sk-container {/* jupyter's `normalize.less` sets `[hidden] { display: none; }` but bootstrap.min.css set `[hidden] { display: none !important; }` so we also need the `!important` here to be able to override the default hidden behavior on the sphinx rendered scikit-learn.org. See: https://github.com/scikit-learn/scikit-learn/issues/21755 */display: inline-block !important;position: relative;}#sk-container-id-2 div.sk-text-repr-fallback {display: none;}</style><div id=\"sk-container-id-2\" class=\"sk-top-container\"><div class=\"sk-text-repr-fallback\"><pre>GridSearchCV(cv=3, estimator=RandomForestClassifier(random_state=241),\n",
              "             param_grid={&#x27;criterion&#x27;: [&#x27;gini&#x27;, &#x27;entropy&#x27;],\n",
              "                         &#x27;max_depth&#x27;: [2, 4, 6, 8, 10],\n",
              "                         &#x27;min_samples_leaf&#x27;: [1, 5, 10, 15, 20],\n",
              "                         &#x27;n_estimators&#x27;: [100, 500, 1000]},\n",
              "             scoring=&#x27;r2&#x27;)</pre><b>In a Jupyter environment, please rerun this cell to show the HTML representation or trust the notebook. <br />On GitHub, the HTML representation is unable to render, please try loading this page with nbviewer.org.</b></div><div class=\"sk-container\" hidden><div class=\"sk-item sk-dashed-wrapped\"><div class=\"sk-label-container\"><div class=\"sk-label sk-toggleable\"><input class=\"sk-toggleable__control sk-hidden--visually\" id=\"sk-estimator-id-2\" type=\"checkbox\" ><label for=\"sk-estimator-id-2\" class=\"sk-toggleable__label sk-toggleable__label-arrow\">GridSearchCV</label><div class=\"sk-toggleable__content\"><pre>GridSearchCV(cv=3, estimator=RandomForestClassifier(random_state=241),\n",
              "             param_grid={&#x27;criterion&#x27;: [&#x27;gini&#x27;, &#x27;entropy&#x27;],\n",
              "                         &#x27;max_depth&#x27;: [2, 4, 6, 8, 10],\n",
              "                         &#x27;min_samples_leaf&#x27;: [1, 5, 10, 15, 20],\n",
              "                         &#x27;n_estimators&#x27;: [100, 500, 1000]},\n",
              "             scoring=&#x27;r2&#x27;)</pre></div></div></div><div class=\"sk-parallel\"><div class=\"sk-parallel-item\"><div class=\"sk-item\"><div class=\"sk-label-container\"><div class=\"sk-label sk-toggleable\"><input class=\"sk-toggleable__control sk-hidden--visually\" id=\"sk-estimator-id-3\" type=\"checkbox\" ><label for=\"sk-estimator-id-3\" class=\"sk-toggleable__label sk-toggleable__label-arrow\">estimator: RandomForestClassifier</label><div class=\"sk-toggleable__content\"><pre>RandomForestClassifier(random_state=241)</pre></div></div></div><div class=\"sk-serial\"><div class=\"sk-item\"><div class=\"sk-estimator sk-toggleable\"><input class=\"sk-toggleable__control sk-hidden--visually\" id=\"sk-estimator-id-4\" type=\"checkbox\" ><label for=\"sk-estimator-id-4\" class=\"sk-toggleable__label sk-toggleable__label-arrow\">RandomForestClassifier</label><div class=\"sk-toggleable__content\"><pre>RandomForestClassifier(random_state=241)</pre></div></div></div></div></div></div></div></div></div></div>"
            ],
            "text/plain": [
              "GridSearchCV(cv=3, estimator=RandomForestClassifier(random_state=241),\n",
              "             param_grid={'criterion': ['gini', 'entropy'],\n",
              "                         'max_depth': [2, 4, 6, 8, 10],\n",
              "                         'min_samples_leaf': [1, 5, 10, 15, 20],\n",
              "                         'n_estimators': [100, 500, 1000]},\n",
              "             scoring='r2')"
            ]
          },
          "execution_count": 39,
          "metadata": {},
          "output_type": "execute_result"
        }
      ],
      "source": [
        "gs = GridSearchCV(RandomForestClassifier(random_state=241),\n",
        "                  param_grid={'n_estimators': [100, 500, 1000],\n",
        "                              'max_depth': [2, 4, 6, 8, 10],\n",
        "                              'min_samples_leaf': [1, 5, 10, 15, 20],\n",
        "                              'criterion': ['gini', 'entropy']},\n",
        "                  cv=3,\n",
        "                  scoring='r2')\n",
        "gs.fit(X_train, y_train)"
      ]
    },
    {
      "cell_type": "code",
      "execution_count": 40,
      "metadata": {
        "colab": {
          "base_uri": "https://localhost:8080/"
        },
        "id": "0WbdbUZavuCe",
        "outputId": "0e82283f-f869-43c2-b1b0-ccb0e76e7bea"
      },
      "outputs": [
        {
          "output_type": "stream",
          "name": "stdout",
          "text": [
            "-0.4464261796464541\n",
            "{'criterion': 'entropy', 'max_depth': 10, 'min_samples_leaf': 15, 'n_estimators': 1000}\n"
          ]
        }
      ],
      "source": [
        "print(gs.best_score_)\n",
        "print(gs.best_params_)"
      ]
    },
    {
      "cell_type": "code",
      "execution_count": 41,
      "metadata": {
        "id": "sYGXCt1evuCf"
      },
      "outputs": [],
      "source": [
        "preds = gs.best_estimator_.predict(X_test)"
      ]
    },
    {
      "cell_type": "code",
      "execution_count": 42,
      "metadata": {
        "id": "50sfcyAqvuCf"
      },
      "outputs": [],
      "source": [
        "from sklearn.metrics import f1_score, accuracy_score, precision_score, recall_score"
      ]
    },
    {
      "cell_type": "code",
      "execution_count": 43,
      "metadata": {
        "id": "VuA-MNAgvuCf"
      },
      "outputs": [],
      "source": [
        "f1 = f1_score(y_test, preds)\n",
        "acc = accuracy_score(y_test, preds)\n",
        "pr = precision_score(y_test, preds)\n",
        "rec = recall_score(y_test, preds)"
      ]
    },
    {
      "cell_type": "code",
      "execution_count": 44,
      "metadata": {
        "colab": {
          "base_uri": "https://localhost:8080/"
        },
        "id": "MkCc77mgvuCf",
        "outputId": "b4c25c7e-92d5-4788-dbea-6c962e56fbcc"
      },
      "outputs": [
        {
          "output_type": "execute_result",
          "data": {
            "text/plain": [
              "(0.5918217792759783, 0.6280715811965812, 0.657012691181256, 0.5384)"
            ]
          },
          "metadata": {},
          "execution_count": 44
        }
      ],
      "source": [
        "f1, acc, pr, rec"
      ]
    },
    {
      "cell_type": "markdown",
      "metadata": {
        "id": "AusGFsYKvuCf"
      },
      "source": [
        "### TfidfVectorizer"
      ]
    },
    {
      "cell_type": "code",
      "execution_count": 48,
      "metadata": {
        "colab": {
          "base_uri": "https://localhost:8080/"
        },
        "id": "APf07sNMvuCg",
        "outputId": "ad81a22d-af9e-4d3e-94f2-2bc8751995db"
      },
      "outputs": [
        {
          "output_type": "execute_result",
          "data": {
            "text/plain": [
              "(33730, 8445)"
            ]
          },
          "metadata": {},
          "execution_count": 48
        }
      ],
      "source": [
        "from sklearn.feature_extraction.text import TfidfVectorizer\n",
        "\n",
        "vectorizer = TfidfVectorizer(encoding='utf8', min_df=5)\n",
        "X_train = vectorizer.fit_transform(X_train)\n",
        "X_train.shape"
      ]
    },
    {
      "cell_type": "code",
      "execution_count": 49,
      "metadata": {
        "colab": {
          "base_uri": "https://localhost:8080/"
        },
        "id": "1ejImYnRvuCg",
        "outputId": "7fcce4f1-cc92-4f0c-cfa4-14ac5e8fcc45"
      },
      "outputs": [
        {
          "output_type": "execute_result",
          "data": {
            "text/plain": [
              "(7488, 8445)"
            ]
          },
          "metadata": {},
          "execution_count": 49
        }
      ],
      "source": [
        "X_test = vectorizer.transform(X_test)\n",
        "X_test.shape"
      ]
    },
    {
      "cell_type": "code",
      "execution_count": 50,
      "metadata": {
        "colab": {
          "base_uri": "https://localhost:8080/",
          "height": 116
        },
        "id": "tDsG6661vuCg",
        "outputId": "fca58625-1536-48f6-ccc8-93994b388ea5"
      },
      "outputs": [
        {
          "output_type": "execute_result",
          "data": {
            "text/plain": [
              "GridSearchCV(cv=3, estimator=RandomForestClassifier(random_state=241),\n",
              "             param_grid={'criterion': ['gini', 'entropy'],\n",
              "                         'max_depth': [2, 4, 6, 8, 10],\n",
              "                         'min_samples_leaf': [1, 5, 10, 15, 20],\n",
              "                         'n_estimators': [100, 500, 1000]},\n",
              "             scoring='r2')"
            ],
            "text/html": [
              "<style>#sk-container-id-3 {color: black;background-color: white;}#sk-container-id-3 pre{padding: 0;}#sk-container-id-3 div.sk-toggleable {background-color: white;}#sk-container-id-3 label.sk-toggleable__label {cursor: pointer;display: block;width: 100%;margin-bottom: 0;padding: 0.3em;box-sizing: border-box;text-align: center;}#sk-container-id-3 label.sk-toggleable__label-arrow:before {content: \"▸\";float: left;margin-right: 0.25em;color: #696969;}#sk-container-id-3 label.sk-toggleable__label-arrow:hover:before {color: black;}#sk-container-id-3 div.sk-estimator:hover label.sk-toggleable__label-arrow:before {color: black;}#sk-container-id-3 div.sk-toggleable__content {max-height: 0;max-width: 0;overflow: hidden;text-align: left;background-color: #f0f8ff;}#sk-container-id-3 div.sk-toggleable__content pre {margin: 0.2em;color: black;border-radius: 0.25em;background-color: #f0f8ff;}#sk-container-id-3 input.sk-toggleable__control:checked~div.sk-toggleable__content {max-height: 200px;max-width: 100%;overflow: auto;}#sk-container-id-3 input.sk-toggleable__control:checked~label.sk-toggleable__label-arrow:before {content: \"▾\";}#sk-container-id-3 div.sk-estimator input.sk-toggleable__control:checked~label.sk-toggleable__label {background-color: #d4ebff;}#sk-container-id-3 div.sk-label input.sk-toggleable__control:checked~label.sk-toggleable__label {background-color: #d4ebff;}#sk-container-id-3 input.sk-hidden--visually {border: 0;clip: rect(1px 1px 1px 1px);clip: rect(1px, 1px, 1px, 1px);height: 1px;margin: -1px;overflow: hidden;padding: 0;position: absolute;width: 1px;}#sk-container-id-3 div.sk-estimator {font-family: monospace;background-color: #f0f8ff;border: 1px dotted black;border-radius: 0.25em;box-sizing: border-box;margin-bottom: 0.5em;}#sk-container-id-3 div.sk-estimator:hover {background-color: #d4ebff;}#sk-container-id-3 div.sk-parallel-item::after {content: \"\";width: 100%;border-bottom: 1px solid gray;flex-grow: 1;}#sk-container-id-3 div.sk-label:hover label.sk-toggleable__label {background-color: #d4ebff;}#sk-container-id-3 div.sk-serial::before {content: \"\";position: absolute;border-left: 1px solid gray;box-sizing: border-box;top: 0;bottom: 0;left: 50%;z-index: 0;}#sk-container-id-3 div.sk-serial {display: flex;flex-direction: column;align-items: center;background-color: white;padding-right: 0.2em;padding-left: 0.2em;position: relative;}#sk-container-id-3 div.sk-item {position: relative;z-index: 1;}#sk-container-id-3 div.sk-parallel {display: flex;align-items: stretch;justify-content: center;background-color: white;position: relative;}#sk-container-id-3 div.sk-item::before, #sk-container-id-3 div.sk-parallel-item::before {content: \"\";position: absolute;border-left: 1px solid gray;box-sizing: border-box;top: 0;bottom: 0;left: 50%;z-index: -1;}#sk-container-id-3 div.sk-parallel-item {display: flex;flex-direction: column;z-index: 1;position: relative;background-color: white;}#sk-container-id-3 div.sk-parallel-item:first-child::after {align-self: flex-end;width: 50%;}#sk-container-id-3 div.sk-parallel-item:last-child::after {align-self: flex-start;width: 50%;}#sk-container-id-3 div.sk-parallel-item:only-child::after {width: 0;}#sk-container-id-3 div.sk-dashed-wrapped {border: 1px dashed gray;margin: 0 0.4em 0.5em 0.4em;box-sizing: border-box;padding-bottom: 0.4em;background-color: white;}#sk-container-id-3 div.sk-label label {font-family: monospace;font-weight: bold;display: inline-block;line-height: 1.2em;}#sk-container-id-3 div.sk-label-container {text-align: center;}#sk-container-id-3 div.sk-container {/* jupyter's `normalize.less` sets `[hidden] { display: none; }` but bootstrap.min.css set `[hidden] { display: none !important; }` so we also need the `!important` here to be able to override the default hidden behavior on the sphinx rendered scikit-learn.org. See: https://github.com/scikit-learn/scikit-learn/issues/21755 */display: inline-block !important;position: relative;}#sk-container-id-3 div.sk-text-repr-fallback {display: none;}</style><div id=\"sk-container-id-3\" class=\"sk-top-container\"><div class=\"sk-text-repr-fallback\"><pre>GridSearchCV(cv=3, estimator=RandomForestClassifier(random_state=241),\n",
              "             param_grid={&#x27;criterion&#x27;: [&#x27;gini&#x27;, &#x27;entropy&#x27;],\n",
              "                         &#x27;max_depth&#x27;: [2, 4, 6, 8, 10],\n",
              "                         &#x27;min_samples_leaf&#x27;: [1, 5, 10, 15, 20],\n",
              "                         &#x27;n_estimators&#x27;: [100, 500, 1000]},\n",
              "             scoring=&#x27;r2&#x27;)</pre><b>In a Jupyter environment, please rerun this cell to show the HTML representation or trust the notebook. <br />On GitHub, the HTML representation is unable to render, please try loading this page with nbviewer.org.</b></div><div class=\"sk-container\" hidden><div class=\"sk-item sk-dashed-wrapped\"><div class=\"sk-label-container\"><div class=\"sk-label sk-toggleable\"><input class=\"sk-toggleable__control sk-hidden--visually\" id=\"sk-estimator-id-5\" type=\"checkbox\" ><label for=\"sk-estimator-id-5\" class=\"sk-toggleable__label sk-toggleable__label-arrow\">GridSearchCV</label><div class=\"sk-toggleable__content\"><pre>GridSearchCV(cv=3, estimator=RandomForestClassifier(random_state=241),\n",
              "             param_grid={&#x27;criterion&#x27;: [&#x27;gini&#x27;, &#x27;entropy&#x27;],\n",
              "                         &#x27;max_depth&#x27;: [2, 4, 6, 8, 10],\n",
              "                         &#x27;min_samples_leaf&#x27;: [1, 5, 10, 15, 20],\n",
              "                         &#x27;n_estimators&#x27;: [100, 500, 1000]},\n",
              "             scoring=&#x27;r2&#x27;)</pre></div></div></div><div class=\"sk-parallel\"><div class=\"sk-parallel-item\"><div class=\"sk-item\"><div class=\"sk-label-container\"><div class=\"sk-label sk-toggleable\"><input class=\"sk-toggleable__control sk-hidden--visually\" id=\"sk-estimator-id-6\" type=\"checkbox\" ><label for=\"sk-estimator-id-6\" class=\"sk-toggleable__label sk-toggleable__label-arrow\">estimator: RandomForestClassifier</label><div class=\"sk-toggleable__content\"><pre>RandomForestClassifier(random_state=241)</pre></div></div></div><div class=\"sk-serial\"><div class=\"sk-item\"><div class=\"sk-estimator sk-toggleable\"><input class=\"sk-toggleable__control sk-hidden--visually\" id=\"sk-estimator-id-7\" type=\"checkbox\" ><label for=\"sk-estimator-id-7\" class=\"sk-toggleable__label sk-toggleable__label-arrow\">RandomForestClassifier</label><div class=\"sk-toggleable__content\"><pre>RandomForestClassifier(random_state=241)</pre></div></div></div></div></div></div></div></div></div></div>"
            ]
          },
          "metadata": {},
          "execution_count": 50
        }
      ],
      "source": [
        "gs = GridSearchCV(RandomForestClassifier(random_state=241),\n",
        "                  param_grid={'n_estimators': [100, 500, 1000],\n",
        "                              'max_depth': [2, 4, 6, 8, 10],\n",
        "                              'min_samples_leaf': [1, 5, 10, 15, 20],\n",
        "                              'criterion': ['gini', 'entropy']},\n",
        "                  cv=3,\n",
        "                  scoring='r2')\n",
        "gs.fit(X_train, y_train)"
      ]
    },
    {
      "cell_type": "code",
      "execution_count": 51,
      "metadata": {
        "colab": {
          "base_uri": "https://localhost:8080/"
        },
        "id": "Vq5LNCfyvuCg",
        "outputId": "152b7e93-9e3a-4676-ce02-93a527a01a99"
      },
      "outputs": [
        {
          "output_type": "stream",
          "name": "stdout",
          "text": [
            "-0.4178466881058948\n",
            "{'criterion': 'gini', 'max_depth': 10, 'min_samples_leaf': 1, 'n_estimators': 500}\n"
          ]
        }
      ],
      "source": [
        "print(gs.best_score_)\n",
        "print(gs.best_params_)"
      ]
    },
    {
      "cell_type": "code",
      "execution_count": 52,
      "metadata": {
        "id": "kZQ62gTSvuCh"
      },
      "outputs": [],
      "source": [
        "preds = gs.best_estimator_.predict(X_test)"
      ]
    },
    {
      "cell_type": "code",
      "execution_count": 53,
      "metadata": {
        "id": "pUCEXa23vuCh"
      },
      "outputs": [],
      "source": [
        "from sklearn.metrics import f1_score, accuracy_score, precision_score, recall_score"
      ]
    },
    {
      "cell_type": "code",
      "execution_count": 54,
      "metadata": {
        "id": "91jAb63HvuCh"
      },
      "outputs": [],
      "source": [
        "f1 = f1_score(y_test, preds)\n",
        "acc = accuracy_score(y_test, preds)\n",
        "pr = precision_score(y_test, preds)\n",
        "rec = recall_score(y_test, preds)"
      ]
    },
    {
      "cell_type": "code",
      "execution_count": 55,
      "metadata": {
        "colab": {
          "base_uri": "https://localhost:8080/"
        },
        "id": "4X9i2P8gvuCh",
        "outputId": "7ab00f66-b1c1-44fd-eec4-2fc69b1006f3"
      },
      "outputs": [
        {
          "output_type": "execute_result",
          "data": {
            "text/plain": [
              "(0.6039546379761559, 0.6362179487179487, 0.664002557544757, 0.5538666666666666)"
            ]
          },
          "metadata": {},
          "execution_count": 55
        }
      ],
      "source": [
        "f1, acc, pr, rec"
      ]
    }
  ],
  "metadata": {
    "colab": {
      "toc_visible": true,
      "provenance": []
    },
    "kernelspec": {
      "display_name": "Python 3",
      "name": "python3"
    },
    "language_info": {
      "name": "python"
    }
  },
  "nbformat": 4,
  "nbformat_minor": 0
}